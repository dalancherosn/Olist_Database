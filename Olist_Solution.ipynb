{
 "cells": [
  {
   "cell_type": "markdown",
   "id": "essential-wellington",
   "metadata": {},
   "source": [
    "## Introducción"
   ]
  },
  {
   "cell_type": "markdown",
   "id": "metric-telescope",
   "metadata": {},
   "source": [
    "Comenzamos importando las librerías requeridas para abrir los archivos:"
   ]
  },
  {
   "cell_type": "code",
   "execution_count": 405,
   "id": "fossil-supplement",
   "metadata": {},
   "outputs": [],
   "source": [
    "import numpy as np\n",
    "import pandas as pd"
   ]
  },
  {
   "cell_type": "code",
   "execution_count": 406,
   "id": "several-eating",
   "metadata": {},
   "outputs": [
    {
     "name": "stdout",
     "output_type": "stream",
     "text": [
      "### Marketing Funnel by Olist ###\n",
      "0 - olist_closed_deals_dataset.csv\n",
      "1 - olist_marketing_qualified_leads_dataset.csv\n",
      "\n",
      "-----------------------------------\n",
      "\n",
      "### Brazilian E-Commerce Public Dataset by Olist ###\n",
      "0 - olist_customers_dataset.csv\n",
      "1 - olist_geolocation_dataset.csv\n",
      "2 - olist_orders_dataset.csv\n",
      "3 - olist_order_items_dataset.csv\n",
      "4 - olist_order_payments_dataset.csv\n",
      "5 - olist_order_reviews_dataset.csv\n",
      "6 - olist_products_dataset.csv\n",
      "7 - olist_sellers_dataset.csv\n",
      "8 - product_category_name_translation.csv\n",
      "\n",
      "-----------------------------------\n",
      "\n"
     ]
    }
   ],
   "source": [
    "import os\n",
    "\n",
    "print('### Marketing Funnel by Olist ###')\n",
    "for idx, file in enumerate(os.listdir('C:/Users/dalan/Documents/Job_Applications/Transfiriendo/Inputs/Marketing_Funnel')):\n",
    "    print(idx, '-', file)\n",
    "print('\\n-----------------------------------\\n')\n",
    "\n",
    "print('### Brazilian E-Commerce Public Dataset by Olist ###')\n",
    "for idx, file in enumerate(os.listdir('C:/Users/dalan/Documents/Job_Applications/Transfiriendo/Inputs/Brazilian_E-Commerce')):\n",
    "    print(idx, '-', file)\n",
    "print('\\n-----------------------------------\\n')"
   ]
  },
  {
   "cell_type": "markdown",
   "id": "lyric-pathology",
   "metadata": {},
   "source": [
    "Tenemos dos tipos de datos, aquellos pertenecientes al embudo de mercado de Olist y la base de datos de comercio electrónico en Brasil por Olist. Nuestro primer objetivo será la identificación de las características principlaes de cada una de las bases que se encuentran allí:"
   ]
  },
  {
   "cell_type": "markdown",
   "id": "turned-course",
   "metadata": {},
   "source": [
    "### Caracterísitcas de cada Tabla. "
   ]
  },
  {
   "cell_type": "markdown",
   "id": "auburn-gather",
   "metadata": {},
   "source": [
    "A partir de cada tabla daremos las características importantes de cada una para entender mejor la información presentada en cada una de ellas."
   ]
  },
  {
   "cell_type": "markdown",
   "id": "unlimited-fleece",
   "metadata": {},
   "source": [
    "#### Marketing Funnel."
   ]
  },
  {
   "cell_type": "code",
   "execution_count": 407,
   "id": "attractive-investigator",
   "metadata": {},
   "outputs": [
    {
     "data": {
      "text/html": [
       "<div>\n",
       "<style scoped>\n",
       "    .dataframe tbody tr th:only-of-type {\n",
       "        vertical-align: middle;\n",
       "    }\n",
       "\n",
       "    .dataframe tbody tr th {\n",
       "        vertical-align: top;\n",
       "    }\n",
       "\n",
       "    .dataframe thead th {\n",
       "        text-align: right;\n",
       "    }\n",
       "</style>\n",
       "<table border=\"1\" class=\"dataframe\">\n",
       "  <thead>\n",
       "    <tr style=\"text-align: right;\">\n",
       "      <th></th>\n",
       "      <th>mql_id</th>\n",
       "      <th>first_contact_date</th>\n",
       "      <th>landing_page_id</th>\n",
       "      <th>origin</th>\n",
       "    </tr>\n",
       "  </thead>\n",
       "  <tbody>\n",
       "    <tr>\n",
       "      <th>0</th>\n",
       "      <td>dac32acd4db4c29c230538b72f8dd87d</td>\n",
       "      <td>2018-02-01</td>\n",
       "      <td>88740e65d5d6b056e0cda098e1ea6313</td>\n",
       "      <td>social</td>\n",
       "    </tr>\n",
       "    <tr>\n",
       "      <th>1</th>\n",
       "      <td>8c18d1de7f67e60dbd64e3c07d7e9d5d</td>\n",
       "      <td>2017-10-20</td>\n",
       "      <td>007f9098284a86ee80ddeb25d53e0af8</td>\n",
       "      <td>paid_search</td>\n",
       "    </tr>\n",
       "    <tr>\n",
       "      <th>2</th>\n",
       "      <td>b4bc852d233dfefc5131f593b538befa</td>\n",
       "      <td>2018-03-22</td>\n",
       "      <td>a7982125ff7aa3b2054c6e44f9d28522</td>\n",
       "      <td>organic_search</td>\n",
       "    </tr>\n",
       "  </tbody>\n",
       "</table>\n",
       "</div>"
      ],
      "text/plain": [
       "                             mql_id first_contact_date  \\\n",
       "0  dac32acd4db4c29c230538b72f8dd87d         2018-02-01   \n",
       "1  8c18d1de7f67e60dbd64e3c07d7e9d5d         2017-10-20   \n",
       "2  b4bc852d233dfefc5131f593b538befa         2018-03-22   \n",
       "\n",
       "                    landing_page_id          origin  \n",
       "0  88740e65d5d6b056e0cda098e1ea6313          social  \n",
       "1  007f9098284a86ee80ddeb25d53e0af8     paid_search  \n",
       "2  a7982125ff7aa3b2054c6e44f9d28522  organic_search  "
      ]
     },
     "execution_count": 407,
     "metadata": {},
     "output_type": "execute_result"
    }
   ],
   "source": [
    "# leads dataset\n",
    "mql = pd.read_csv('C:/Users/dalan/Documents/Job_Applications/Transfiriendo/Inputs/Marketing_Funnel/olist_marketing_qualified_leads_dataset.csv')\n",
    "mql.head(3)"
   ]
  },
  {
   "cell_type": "code",
   "execution_count": 408,
   "id": "independent-buddy",
   "metadata": {},
   "outputs": [
    {
     "name": "stdout",
     "output_type": "stream",
     "text": [
      "<class 'pandas.core.frame.DataFrame'>\n",
      "RangeIndex: 8000 entries, 0 to 7999\n",
      "Data columns (total 4 columns):\n",
      " #   Column              Non-Null Count  Dtype \n",
      "---  ------              --------------  ----- \n",
      " 0   mql_id              8000 non-null   object\n",
      " 1   first_contact_date  8000 non-null   object\n",
      " 2   landing_page_id     8000 non-null   object\n",
      " 3   origin              7940 non-null   object\n",
      "dtypes: object(4)\n",
      "memory usage: 250.1+ KB\n"
     ]
    }
   ],
   "source": [
    "mql.info()"
   ]
  },
  {
   "cell_type": "markdown",
   "id": "national-mills",
   "metadata": {},
   "source": [
    "Éste DataFrame nos da la información de potenciales clientes, y ofrece dos características importantes: La fecha de primer contacto y el origen de este contacto. "
   ]
  },
  {
   "cell_type": "code",
   "execution_count": 409,
   "id": "alleged-climb",
   "metadata": {},
   "outputs": [
    {
     "data": {
      "text/html": [
       "<div>\n",
       "<style scoped>\n",
       "    .dataframe tbody tr th:only-of-type {\n",
       "        vertical-align: middle;\n",
       "    }\n",
       "\n",
       "    .dataframe tbody tr th {\n",
       "        vertical-align: top;\n",
       "    }\n",
       "\n",
       "    .dataframe thead th {\n",
       "        text-align: right;\n",
       "    }\n",
       "</style>\n",
       "<table border=\"1\" class=\"dataframe\">\n",
       "  <thead>\n",
       "    <tr style=\"text-align: right;\">\n",
       "      <th></th>\n",
       "      <th>mql_id</th>\n",
       "      <th>seller_id</th>\n",
       "      <th>sdr_id</th>\n",
       "      <th>sr_id</th>\n",
       "      <th>won_date</th>\n",
       "      <th>business_segment</th>\n",
       "      <th>lead_type</th>\n",
       "      <th>lead_behaviour_profile</th>\n",
       "      <th>has_company</th>\n",
       "      <th>has_gtin</th>\n",
       "      <th>average_stock</th>\n",
       "      <th>business_type</th>\n",
       "      <th>declared_product_catalog_size</th>\n",
       "      <th>declared_monthly_revenue</th>\n",
       "    </tr>\n",
       "  </thead>\n",
       "  <tbody>\n",
       "    <tr>\n",
       "      <th>0</th>\n",
       "      <td>5420aad7fec3549a85876ba1c529bd84</td>\n",
       "      <td>2c43fb513632d29b3b58df74816f1b06</td>\n",
       "      <td>a8387c01a09e99ce014107505b92388c</td>\n",
       "      <td>4ef15afb4b2723d8f3d81e51ec7afefe</td>\n",
       "      <td>2018-02-26 19:58:54</td>\n",
       "      <td>pet</td>\n",
       "      <td>online_medium</td>\n",
       "      <td>cat</td>\n",
       "      <td>NaN</td>\n",
       "      <td>NaN</td>\n",
       "      <td>NaN</td>\n",
       "      <td>reseller</td>\n",
       "      <td>NaN</td>\n",
       "      <td>0.0</td>\n",
       "    </tr>\n",
       "    <tr>\n",
       "      <th>1</th>\n",
       "      <td>a555fb36b9368110ede0f043dfc3b9a0</td>\n",
       "      <td>bbb7d7893a450660432ea6652310ebb7</td>\n",
       "      <td>09285259593c61296eef10c734121d5b</td>\n",
       "      <td>d3d1e91a157ea7f90548eef82f1955e3</td>\n",
       "      <td>2018-05-08 20:17:59</td>\n",
       "      <td>car_accessories</td>\n",
       "      <td>industry</td>\n",
       "      <td>eagle</td>\n",
       "      <td>NaN</td>\n",
       "      <td>NaN</td>\n",
       "      <td>NaN</td>\n",
       "      <td>reseller</td>\n",
       "      <td>NaN</td>\n",
       "      <td>0.0</td>\n",
       "    </tr>\n",
       "    <tr>\n",
       "      <th>2</th>\n",
       "      <td>327174d3648a2d047e8940d7d15204ca</td>\n",
       "      <td>612170e34b97004b3ba37eae81836b4c</td>\n",
       "      <td>b90f87164b5f8c2cfa5c8572834dbe3f</td>\n",
       "      <td>6565aa9ce3178a5caf6171827af3a9ba</td>\n",
       "      <td>2018-06-05 17:27:23</td>\n",
       "      <td>home_appliances</td>\n",
       "      <td>online_big</td>\n",
       "      <td>cat</td>\n",
       "      <td>NaN</td>\n",
       "      <td>NaN</td>\n",
       "      <td>NaN</td>\n",
       "      <td>reseller</td>\n",
       "      <td>NaN</td>\n",
       "      <td>0.0</td>\n",
       "    </tr>\n",
       "  </tbody>\n",
       "</table>\n",
       "</div>"
      ],
      "text/plain": [
       "                             mql_id                         seller_id  \\\n",
       "0  5420aad7fec3549a85876ba1c529bd84  2c43fb513632d29b3b58df74816f1b06   \n",
       "1  a555fb36b9368110ede0f043dfc3b9a0  bbb7d7893a450660432ea6652310ebb7   \n",
       "2  327174d3648a2d047e8940d7d15204ca  612170e34b97004b3ba37eae81836b4c   \n",
       "\n",
       "                             sdr_id                             sr_id  \\\n",
       "0  a8387c01a09e99ce014107505b92388c  4ef15afb4b2723d8f3d81e51ec7afefe   \n",
       "1  09285259593c61296eef10c734121d5b  d3d1e91a157ea7f90548eef82f1955e3   \n",
       "2  b90f87164b5f8c2cfa5c8572834dbe3f  6565aa9ce3178a5caf6171827af3a9ba   \n",
       "\n",
       "              won_date business_segment      lead_type lead_behaviour_profile  \\\n",
       "0  2018-02-26 19:58:54              pet  online_medium                    cat   \n",
       "1  2018-05-08 20:17:59  car_accessories       industry                  eagle   \n",
       "2  2018-06-05 17:27:23  home_appliances     online_big                    cat   \n",
       "\n",
       "  has_company has_gtin average_stock business_type  \\\n",
       "0         NaN      NaN           NaN      reseller   \n",
       "1         NaN      NaN           NaN      reseller   \n",
       "2         NaN      NaN           NaN      reseller   \n",
       "\n",
       "   declared_product_catalog_size  declared_monthly_revenue  \n",
       "0                            NaN                       0.0  \n",
       "1                            NaN                       0.0  \n",
       "2                            NaN                       0.0  "
      ]
     },
     "execution_count": 409,
     "metadata": {},
     "output_type": "execute_result"
    }
   ],
   "source": [
    "Deals = pd.read_csv('C:/Users/dalan/Documents/Job_Applications/Transfiriendo/Inputs/Marketing_Funnel/olist_closed_deals_dataset.csv')\n",
    "Deals.head(3)"
   ]
  },
  {
   "cell_type": "code",
   "execution_count": 410,
   "id": "saving-conclusion",
   "metadata": {},
   "outputs": [
    {
     "name": "stdout",
     "output_type": "stream",
     "text": [
      "<class 'pandas.core.frame.DataFrame'>\n",
      "RangeIndex: 842 entries, 0 to 841\n",
      "Data columns (total 14 columns):\n",
      " #   Column                         Non-Null Count  Dtype  \n",
      "---  ------                         --------------  -----  \n",
      " 0   mql_id                         842 non-null    object \n",
      " 1   seller_id                      842 non-null    object \n",
      " 2   sdr_id                         842 non-null    object \n",
      " 3   sr_id                          842 non-null    object \n",
      " 4   won_date                       842 non-null    object \n",
      " 5   business_segment               841 non-null    object \n",
      " 6   lead_type                      836 non-null    object \n",
      " 7   lead_behaviour_profile         665 non-null    object \n",
      " 8   has_company                    63 non-null     object \n",
      " 9   has_gtin                       64 non-null     object \n",
      " 10  average_stock                  66 non-null     object \n",
      " 11  business_type                  832 non-null    object \n",
      " 12  declared_product_catalog_size  69 non-null     float64\n",
      " 13  declared_monthly_revenue       842 non-null    float64\n",
      "dtypes: float64(2), object(12)\n",
      "memory usage: 92.2+ KB\n"
     ]
    }
   ],
   "source": [
    "Deals.info()"
   ]
  },
  {
   "cell_type": "markdown",
   "id": "organized-herald",
   "metadata": {},
   "source": [
    "El DataFrame llamado Delas nos da información de ventas realizadas a potenciales clientes (Marketing Leads). A pesar de tener varias caracterísitcas, descartamos las llamadas 'has_company', 'has_gtin', 'average_stock' y 'declared_product_catalog_size', puesto que sus valores diferentes al valor nulo apenas representa cerca del $8\\%$ del total de datos. "
   ]
  },
  {
   "cell_type": "markdown",
   "id": "italic-marijuana",
   "metadata": {},
   "source": [
    "#### Brazilian E-Commerce Public Dataset."
   ]
  },
  {
   "cell_type": "code",
   "execution_count": 411,
   "id": "global-watch",
   "metadata": {},
   "outputs": [
    {
     "data": {
      "text/html": [
       "<div>\n",
       "<style scoped>\n",
       "    .dataframe tbody tr th:only-of-type {\n",
       "        vertical-align: middle;\n",
       "    }\n",
       "\n",
       "    .dataframe tbody tr th {\n",
       "        vertical-align: top;\n",
       "    }\n",
       "\n",
       "    .dataframe thead th {\n",
       "        text-align: right;\n",
       "    }\n",
       "</style>\n",
       "<table border=\"1\" class=\"dataframe\">\n",
       "  <thead>\n",
       "    <tr style=\"text-align: right;\">\n",
       "      <th></th>\n",
       "      <th>customer_id</th>\n",
       "      <th>customer_unique_id</th>\n",
       "      <th>customer_zip_code_prefix</th>\n",
       "      <th>customer_city</th>\n",
       "      <th>customer_state</th>\n",
       "    </tr>\n",
       "  </thead>\n",
       "  <tbody>\n",
       "    <tr>\n",
       "      <th>0</th>\n",
       "      <td>06b8999e2fba1a1fbc88172c00ba8bc7</td>\n",
       "      <td>861eff4711a542e4b93843c6dd7febb0</td>\n",
       "      <td>14409</td>\n",
       "      <td>franca</td>\n",
       "      <td>SP</td>\n",
       "    </tr>\n",
       "    <tr>\n",
       "      <th>1</th>\n",
       "      <td>18955e83d337fd6b2def6b18a428ac77</td>\n",
       "      <td>290c77bc529b7ac935b93aa66c333dc3</td>\n",
       "      <td>9790</td>\n",
       "      <td>sao bernardo do campo</td>\n",
       "      <td>SP</td>\n",
       "    </tr>\n",
       "    <tr>\n",
       "      <th>2</th>\n",
       "      <td>4e7b3e00288586ebd08712fdd0374a03</td>\n",
       "      <td>060e732b5b29e8181a18229c7b0b2b5e</td>\n",
       "      <td>1151</td>\n",
       "      <td>sao paulo</td>\n",
       "      <td>SP</td>\n",
       "    </tr>\n",
       "  </tbody>\n",
       "</table>\n",
       "</div>"
      ],
      "text/plain": [
       "                        customer_id                customer_unique_id  \\\n",
       "0  06b8999e2fba1a1fbc88172c00ba8bc7  861eff4711a542e4b93843c6dd7febb0   \n",
       "1  18955e83d337fd6b2def6b18a428ac77  290c77bc529b7ac935b93aa66c333dc3   \n",
       "2  4e7b3e00288586ebd08712fdd0374a03  060e732b5b29e8181a18229c7b0b2b5e   \n",
       "\n",
       "   customer_zip_code_prefix          customer_city customer_state  \n",
       "0                     14409                 franca             SP  \n",
       "1                      9790  sao bernardo do campo             SP  \n",
       "2                      1151              sao paulo             SP  "
      ]
     },
     "execution_count": 411,
     "metadata": {},
     "output_type": "execute_result"
    }
   ],
   "source": [
    "customer = pd.read_csv('C:/Users/dalan/Documents/Job_Applications/Transfiriendo/Inputs/Brazilian_E-Commerce/olist_customers_dataset.csv')\n",
    "customer.head(3)"
   ]
  },
  {
   "cell_type": "code",
   "execution_count": 412,
   "id": "popular-things",
   "metadata": {},
   "outputs": [
    {
     "name": "stdout",
     "output_type": "stream",
     "text": [
      "<class 'pandas.core.frame.DataFrame'>\n",
      "RangeIndex: 99441 entries, 0 to 99440\n",
      "Data columns (total 5 columns):\n",
      " #   Column                    Non-Null Count  Dtype \n",
      "---  ------                    --------------  ----- \n",
      " 0   customer_id               99441 non-null  object\n",
      " 1   customer_unique_id        99441 non-null  object\n",
      " 2   customer_zip_code_prefix  99441 non-null  int64 \n",
      " 3   customer_city             99441 non-null  object\n",
      " 4   customer_state            99441 non-null  object\n",
      "dtypes: int64(1), object(4)\n",
      "memory usage: 3.8+ MB\n"
     ]
    }
   ],
   "source": [
    "customer.info()"
   ]
  },
  {
   "cell_type": "code",
   "execution_count": 413,
   "id": "criminal-record",
   "metadata": {},
   "outputs": [
    {
     "data": {
      "text/html": [
       "<div>\n",
       "<style scoped>\n",
       "    .dataframe tbody tr th:only-of-type {\n",
       "        vertical-align: middle;\n",
       "    }\n",
       "\n",
       "    .dataframe tbody tr th {\n",
       "        vertical-align: top;\n",
       "    }\n",
       "\n",
       "    .dataframe thead th {\n",
       "        text-align: right;\n",
       "    }\n",
       "</style>\n",
       "<table border=\"1\" class=\"dataframe\">\n",
       "  <thead>\n",
       "    <tr style=\"text-align: right;\">\n",
       "      <th></th>\n",
       "      <th>geolocation_zip_code_prefix</th>\n",
       "      <th>geolocation_lat</th>\n",
       "      <th>geolocation_lng</th>\n",
       "      <th>geolocation_city</th>\n",
       "      <th>geolocation_state</th>\n",
       "    </tr>\n",
       "  </thead>\n",
       "  <tbody>\n",
       "    <tr>\n",
       "      <th>0</th>\n",
       "      <td>1037</td>\n",
       "      <td>-23.545621</td>\n",
       "      <td>-46.639292</td>\n",
       "      <td>sao paulo</td>\n",
       "      <td>SP</td>\n",
       "    </tr>\n",
       "    <tr>\n",
       "      <th>1</th>\n",
       "      <td>1046</td>\n",
       "      <td>-23.546081</td>\n",
       "      <td>-46.644820</td>\n",
       "      <td>sao paulo</td>\n",
       "      <td>SP</td>\n",
       "    </tr>\n",
       "    <tr>\n",
       "      <th>2</th>\n",
       "      <td>1046</td>\n",
       "      <td>-23.546129</td>\n",
       "      <td>-46.642951</td>\n",
       "      <td>sao paulo</td>\n",
       "      <td>SP</td>\n",
       "    </tr>\n",
       "  </tbody>\n",
       "</table>\n",
       "</div>"
      ],
      "text/plain": [
       "   geolocation_zip_code_prefix  geolocation_lat  geolocation_lng  \\\n",
       "0                         1037       -23.545621       -46.639292   \n",
       "1                         1046       -23.546081       -46.644820   \n",
       "2                         1046       -23.546129       -46.642951   \n",
       "\n",
       "  geolocation_city geolocation_state  \n",
       "0        sao paulo                SP  \n",
       "1        sao paulo                SP  \n",
       "2        sao paulo                SP  "
      ]
     },
     "execution_count": 413,
     "metadata": {},
     "output_type": "execute_result"
    }
   ],
   "source": [
    "geolocation = pd.read_csv('C:/Users/dalan/Documents/Job_Applications/Transfiriendo/Inputs/Brazilian_E-Commerce/olist_geolocation_dataset.csv')\n",
    "geolocation.head(3)"
   ]
  },
  {
   "cell_type": "code",
   "execution_count": 414,
   "id": "green-report",
   "metadata": {},
   "outputs": [
    {
     "name": "stdout",
     "output_type": "stream",
     "text": [
      "<class 'pandas.core.frame.DataFrame'>\n",
      "RangeIndex: 1000163 entries, 0 to 1000162\n",
      "Data columns (total 5 columns):\n",
      " #   Column                       Non-Null Count    Dtype  \n",
      "---  ------                       --------------    -----  \n",
      " 0   geolocation_zip_code_prefix  1000163 non-null  int64  \n",
      " 1   geolocation_lat              1000163 non-null  float64\n",
      " 2   geolocation_lng              1000163 non-null  float64\n",
      " 3   geolocation_city             1000163 non-null  object \n",
      " 4   geolocation_state            1000163 non-null  object \n",
      "dtypes: float64(2), int64(1), object(2)\n",
      "memory usage: 38.2+ MB\n"
     ]
    }
   ],
   "source": [
    "geolocation.info()"
   ]
  },
  {
   "cell_type": "markdown",
   "id": "personal-census",
   "metadata": {},
   "source": [
    "Podemos utilizar la totalidad de los datos de los anteriores DataFrame para relacionar la información de los datos de geolocalización con la posición de los diferentes clientes. "
   ]
  },
  {
   "cell_type": "code",
   "execution_count": 415,
   "id": "civic-chocolate",
   "metadata": {},
   "outputs": [
    {
     "data": {
      "text/html": [
       "<div>\n",
       "<style scoped>\n",
       "    .dataframe tbody tr th:only-of-type {\n",
       "        vertical-align: middle;\n",
       "    }\n",
       "\n",
       "    .dataframe tbody tr th {\n",
       "        vertical-align: top;\n",
       "    }\n",
       "\n",
       "    .dataframe thead th {\n",
       "        text-align: right;\n",
       "    }\n",
       "</style>\n",
       "<table border=\"1\" class=\"dataframe\">\n",
       "  <thead>\n",
       "    <tr style=\"text-align: right;\">\n",
       "      <th></th>\n",
       "      <th>order_id</th>\n",
       "      <th>order_item_id</th>\n",
       "      <th>product_id</th>\n",
       "      <th>seller_id</th>\n",
       "      <th>shipping_limit_date</th>\n",
       "      <th>price</th>\n",
       "      <th>freight_value</th>\n",
       "    </tr>\n",
       "  </thead>\n",
       "  <tbody>\n",
       "    <tr>\n",
       "      <th>0</th>\n",
       "      <td>00010242fe8c5a6d1ba2dd792cb16214</td>\n",
       "      <td>1</td>\n",
       "      <td>4244733e06e7ecb4970a6e2683c13e61</td>\n",
       "      <td>48436dade18ac8b2bce089ec2a041202</td>\n",
       "      <td>2017-09-19 09:45:35</td>\n",
       "      <td>58.9</td>\n",
       "      <td>13.29</td>\n",
       "    </tr>\n",
       "    <tr>\n",
       "      <th>1</th>\n",
       "      <td>00018f77f2f0320c557190d7a144bdd3</td>\n",
       "      <td>1</td>\n",
       "      <td>e5f2d52b802189ee658865ca93d83a8f</td>\n",
       "      <td>dd7ddc04e1b6c2c614352b383efe2d36</td>\n",
       "      <td>2017-05-03 11:05:13</td>\n",
       "      <td>239.9</td>\n",
       "      <td>19.93</td>\n",
       "    </tr>\n",
       "    <tr>\n",
       "      <th>2</th>\n",
       "      <td>000229ec398224ef6ca0657da4fc703e</td>\n",
       "      <td>1</td>\n",
       "      <td>c777355d18b72b67abbeef9df44fd0fd</td>\n",
       "      <td>5b51032eddd242adc84c38acab88f23d</td>\n",
       "      <td>2018-01-18 14:48:30</td>\n",
       "      <td>199.0</td>\n",
       "      <td>17.87</td>\n",
       "    </tr>\n",
       "  </tbody>\n",
       "</table>\n",
       "</div>"
      ],
      "text/plain": [
       "                           order_id  order_item_id  \\\n",
       "0  00010242fe8c5a6d1ba2dd792cb16214              1   \n",
       "1  00018f77f2f0320c557190d7a144bdd3              1   \n",
       "2  000229ec398224ef6ca0657da4fc703e              1   \n",
       "\n",
       "                         product_id                         seller_id  \\\n",
       "0  4244733e06e7ecb4970a6e2683c13e61  48436dade18ac8b2bce089ec2a041202   \n",
       "1  e5f2d52b802189ee658865ca93d83a8f  dd7ddc04e1b6c2c614352b383efe2d36   \n",
       "2  c777355d18b72b67abbeef9df44fd0fd  5b51032eddd242adc84c38acab88f23d   \n",
       "\n",
       "   shipping_limit_date  price  freight_value  \n",
       "0  2017-09-19 09:45:35   58.9          13.29  \n",
       "1  2017-05-03 11:05:13  239.9          19.93  \n",
       "2  2018-01-18 14:48:30  199.0          17.87  "
      ]
     },
     "execution_count": 415,
     "metadata": {},
     "output_type": "execute_result"
    }
   ],
   "source": [
    "order_items = pd.read_csv('C:/Users/dalan/Documents/Job_Applications/Transfiriendo/Inputs/Brazilian_E-Commerce/olist_order_items_dataset.csv')\n",
    "order_items.head(3)"
   ]
  },
  {
   "cell_type": "code",
   "execution_count": 416,
   "id": "floating-aquarium",
   "metadata": {},
   "outputs": [
    {
     "name": "stdout",
     "output_type": "stream",
     "text": [
      "<class 'pandas.core.frame.DataFrame'>\n",
      "RangeIndex: 112650 entries, 0 to 112649\n",
      "Data columns (total 7 columns):\n",
      " #   Column               Non-Null Count   Dtype  \n",
      "---  ------               --------------   -----  \n",
      " 0   order_id             112650 non-null  object \n",
      " 1   order_item_id        112650 non-null  int64  \n",
      " 2   product_id           112650 non-null  object \n",
      " 3   seller_id            112650 non-null  object \n",
      " 4   shipping_limit_date  112650 non-null  object \n",
      " 5   price                112650 non-null  float64\n",
      " 6   freight_value        112650 non-null  float64\n",
      "dtypes: float64(2), int64(1), object(4)\n",
      "memory usage: 6.0+ MB\n"
     ]
    }
   ],
   "source": [
    "order_items.info()"
   ]
  },
  {
   "cell_type": "markdown",
   "id": "yellow-marking",
   "metadata": {},
   "source": [
    "Nuevamente, la información de order_items la podemos utilizar en su totalidad ya que relaciona los valores de venta de las órdenes y su precio de transporte."
   ]
  },
  {
   "cell_type": "code",
   "execution_count": 417,
   "id": "brave-fantasy",
   "metadata": {},
   "outputs": [
    {
     "data": {
      "text/html": [
       "<div>\n",
       "<style scoped>\n",
       "    .dataframe tbody tr th:only-of-type {\n",
       "        vertical-align: middle;\n",
       "    }\n",
       "\n",
       "    .dataframe tbody tr th {\n",
       "        vertical-align: top;\n",
       "    }\n",
       "\n",
       "    .dataframe thead th {\n",
       "        text-align: right;\n",
       "    }\n",
       "</style>\n",
       "<table border=\"1\" class=\"dataframe\">\n",
       "  <thead>\n",
       "    <tr style=\"text-align: right;\">\n",
       "      <th></th>\n",
       "      <th>order_id</th>\n",
       "      <th>payment_sequential</th>\n",
       "      <th>payment_type</th>\n",
       "      <th>payment_installments</th>\n",
       "      <th>payment_value</th>\n",
       "    </tr>\n",
       "  </thead>\n",
       "  <tbody>\n",
       "    <tr>\n",
       "      <th>0</th>\n",
       "      <td>b81ef226f3fe1789b1e8b2acac839d17</td>\n",
       "      <td>1</td>\n",
       "      <td>credit_card</td>\n",
       "      <td>8</td>\n",
       "      <td>99.33</td>\n",
       "    </tr>\n",
       "    <tr>\n",
       "      <th>1</th>\n",
       "      <td>a9810da82917af2d9aefd1278f1dcfa0</td>\n",
       "      <td>1</td>\n",
       "      <td>credit_card</td>\n",
       "      <td>1</td>\n",
       "      <td>24.39</td>\n",
       "    </tr>\n",
       "    <tr>\n",
       "      <th>2</th>\n",
       "      <td>25e8ea4e93396b6fa0d3dd708e76c1bd</td>\n",
       "      <td>1</td>\n",
       "      <td>credit_card</td>\n",
       "      <td>1</td>\n",
       "      <td>65.71</td>\n",
       "    </tr>\n",
       "  </tbody>\n",
       "</table>\n",
       "</div>"
      ],
      "text/plain": [
       "                           order_id  payment_sequential payment_type  \\\n",
       "0  b81ef226f3fe1789b1e8b2acac839d17                   1  credit_card   \n",
       "1  a9810da82917af2d9aefd1278f1dcfa0                   1  credit_card   \n",
       "2  25e8ea4e93396b6fa0d3dd708e76c1bd                   1  credit_card   \n",
       "\n",
       "   payment_installments  payment_value  \n",
       "0                     8          99.33  \n",
       "1                     1          24.39  \n",
       "2                     1          65.71  "
      ]
     },
     "execution_count": 417,
     "metadata": {},
     "output_type": "execute_result"
    }
   ],
   "source": [
    "order_payments = pd.read_csv('C:/Users/dalan/Documents/Job_Applications/Transfiriendo/Inputs/Brazilian_E-Commerce/olist_order_payments_dataset.csv')\n",
    "order_payments.head(3)"
   ]
  },
  {
   "cell_type": "code",
   "execution_count": 418,
   "id": "roman-brain",
   "metadata": {},
   "outputs": [
    {
     "name": "stdout",
     "output_type": "stream",
     "text": [
      "<class 'pandas.core.frame.DataFrame'>\n",
      "RangeIndex: 103886 entries, 0 to 103885\n",
      "Data columns (total 5 columns):\n",
      " #   Column                Non-Null Count   Dtype  \n",
      "---  ------                --------------   -----  \n",
      " 0   order_id              103886 non-null  object \n",
      " 1   payment_sequential    103886 non-null  int64  \n",
      " 2   payment_type          103886 non-null  object \n",
      " 3   payment_installments  103886 non-null  int64  \n",
      " 4   payment_value         103886 non-null  float64\n",
      "dtypes: float64(1), int64(2), object(2)\n",
      "memory usage: 4.0+ MB\n"
     ]
    }
   ],
   "source": [
    "order_payments.info()"
   ]
  },
  {
   "cell_type": "markdown",
   "id": "pointed-pharmacology",
   "metadata": {},
   "source": [
    "Adicionalmente, podemos relacionar el DataFrame anterior (el de las órdenes), con el presente, que muestra los detalles de los pagos realizados por los clientes de las órdenes."
   ]
  },
  {
   "cell_type": "code",
   "execution_count": 419,
   "id": "leading-phenomenon",
   "metadata": {},
   "outputs": [
    {
     "data": {
      "text/html": [
       "<div>\n",
       "<style scoped>\n",
       "    .dataframe tbody tr th:only-of-type {\n",
       "        vertical-align: middle;\n",
       "    }\n",
       "\n",
       "    .dataframe tbody tr th {\n",
       "        vertical-align: top;\n",
       "    }\n",
       "\n",
       "    .dataframe thead th {\n",
       "        text-align: right;\n",
       "    }\n",
       "</style>\n",
       "<table border=\"1\" class=\"dataframe\">\n",
       "  <thead>\n",
       "    <tr style=\"text-align: right;\">\n",
       "      <th></th>\n",
       "      <th>review_id</th>\n",
       "      <th>order_id</th>\n",
       "      <th>review_score</th>\n",
       "      <th>review_comment_title</th>\n",
       "      <th>review_comment_message</th>\n",
       "      <th>review_creation_date</th>\n",
       "      <th>review_answer_timestamp</th>\n",
       "    </tr>\n",
       "  </thead>\n",
       "  <tbody>\n",
       "    <tr>\n",
       "      <th>0</th>\n",
       "      <td>7bc2406110b926393aa56f80a40eba40</td>\n",
       "      <td>73fc7af87114b39712e6da79b0a377eb</td>\n",
       "      <td>4</td>\n",
       "      <td>NaN</td>\n",
       "      <td>NaN</td>\n",
       "      <td>2018-01-18 00:00:00</td>\n",
       "      <td>2018-01-18 21:46:59</td>\n",
       "    </tr>\n",
       "    <tr>\n",
       "      <th>1</th>\n",
       "      <td>80e641a11e56f04c1ad469d5645fdfde</td>\n",
       "      <td>a548910a1c6147796b98fdf73dbeba33</td>\n",
       "      <td>5</td>\n",
       "      <td>NaN</td>\n",
       "      <td>NaN</td>\n",
       "      <td>2018-03-10 00:00:00</td>\n",
       "      <td>2018-03-11 03:05:13</td>\n",
       "    </tr>\n",
       "    <tr>\n",
       "      <th>2</th>\n",
       "      <td>228ce5500dc1d8e020d8d1322874b6f0</td>\n",
       "      <td>f9e4b658b201a9f2ecdecbb34bed034b</td>\n",
       "      <td>5</td>\n",
       "      <td>NaN</td>\n",
       "      <td>NaN</td>\n",
       "      <td>2018-02-17 00:00:00</td>\n",
       "      <td>2018-02-18 14:36:24</td>\n",
       "    </tr>\n",
       "  </tbody>\n",
       "</table>\n",
       "</div>"
      ],
      "text/plain": [
       "                          review_id                          order_id  \\\n",
       "0  7bc2406110b926393aa56f80a40eba40  73fc7af87114b39712e6da79b0a377eb   \n",
       "1  80e641a11e56f04c1ad469d5645fdfde  a548910a1c6147796b98fdf73dbeba33   \n",
       "2  228ce5500dc1d8e020d8d1322874b6f0  f9e4b658b201a9f2ecdecbb34bed034b   \n",
       "\n",
       "   review_score review_comment_title review_comment_message  \\\n",
       "0             4                  NaN                    NaN   \n",
       "1             5                  NaN                    NaN   \n",
       "2             5                  NaN                    NaN   \n",
       "\n",
       "  review_creation_date review_answer_timestamp  \n",
       "0  2018-01-18 00:00:00     2018-01-18 21:46:59  \n",
       "1  2018-03-10 00:00:00     2018-03-11 03:05:13  \n",
       "2  2018-02-17 00:00:00     2018-02-18 14:36:24  "
      ]
     },
     "execution_count": 419,
     "metadata": {},
     "output_type": "execute_result"
    }
   ],
   "source": [
    "reviews = pd.read_csv('C:/Users/dalan/Documents/Job_Applications/Transfiriendo/Inputs/Brazilian_E-Commerce/olist_order_reviews_dataset.csv')\n",
    "reviews.head(3)"
   ]
  },
  {
   "cell_type": "code",
   "execution_count": 420,
   "id": "functioning-invasion",
   "metadata": {},
   "outputs": [
    {
     "name": "stdout",
     "output_type": "stream",
     "text": [
      "<class 'pandas.core.frame.DataFrame'>\n",
      "RangeIndex: 100000 entries, 0 to 99999\n",
      "Data columns (total 7 columns):\n",
      " #   Column                   Non-Null Count   Dtype \n",
      "---  ------                   --------------   ----- \n",
      " 0   review_id                100000 non-null  object\n",
      " 1   order_id                 100000 non-null  object\n",
      " 2   review_score             100000 non-null  int64 \n",
      " 3   review_comment_title     11715 non-null   object\n",
      " 4   review_comment_message   41753 non-null   object\n",
      " 5   review_creation_date     100000 non-null  object\n",
      " 6   review_answer_timestamp  100000 non-null  object\n",
      "dtypes: int64(1), object(6)\n",
      "memory usage: 5.3+ MB\n"
     ]
    }
   ],
   "source": [
    "reviews.info()"
   ]
  },
  {
   "cell_type": "markdown",
   "id": "casual-concentrate",
   "metadata": {},
   "source": [
    "Nuevamente, éste DataFrame relaciona los comentarios de los clientes acerca de los productos utilizando el identificador de las órdenes, también notamos que apenas el $40\\%$ de los clientes expresaalgún mensaje como comentario."
   ]
  },
  {
   "cell_type": "code",
   "execution_count": 421,
   "id": "drawn-hunger",
   "metadata": {},
   "outputs": [
    {
     "data": {
      "text/html": [
       "<div>\n",
       "<style scoped>\n",
       "    .dataframe tbody tr th:only-of-type {\n",
       "        vertical-align: middle;\n",
       "    }\n",
       "\n",
       "    .dataframe tbody tr th {\n",
       "        vertical-align: top;\n",
       "    }\n",
       "\n",
       "    .dataframe thead th {\n",
       "        text-align: right;\n",
       "    }\n",
       "</style>\n",
       "<table border=\"1\" class=\"dataframe\">\n",
       "  <thead>\n",
       "    <tr style=\"text-align: right;\">\n",
       "      <th></th>\n",
       "      <th>order_id</th>\n",
       "      <th>customer_id</th>\n",
       "      <th>order_status</th>\n",
       "      <th>order_purchase_timestamp</th>\n",
       "      <th>order_approved_at</th>\n",
       "      <th>order_delivered_carrier_date</th>\n",
       "      <th>order_delivered_customer_date</th>\n",
       "      <th>order_estimated_delivery_date</th>\n",
       "    </tr>\n",
       "  </thead>\n",
       "  <tbody>\n",
       "    <tr>\n",
       "      <th>0</th>\n",
       "      <td>e481f51cbdc54678b7cc49136f2d6af7</td>\n",
       "      <td>9ef432eb6251297304e76186b10a928d</td>\n",
       "      <td>delivered</td>\n",
       "      <td>2017-10-02 10:56:33</td>\n",
       "      <td>2017-10-02 11:07:15</td>\n",
       "      <td>2017-10-04 19:55:00</td>\n",
       "      <td>2017-10-10 21:25:13</td>\n",
       "      <td>2017-10-18 00:00:00</td>\n",
       "    </tr>\n",
       "    <tr>\n",
       "      <th>1</th>\n",
       "      <td>53cdb2fc8bc7dce0b6741e2150273451</td>\n",
       "      <td>b0830fb4747a6c6d20dea0b8c802d7ef</td>\n",
       "      <td>delivered</td>\n",
       "      <td>2018-07-24 20:41:37</td>\n",
       "      <td>2018-07-26 03:24:27</td>\n",
       "      <td>2018-07-26 14:31:00</td>\n",
       "      <td>2018-08-07 15:27:45</td>\n",
       "      <td>2018-08-13 00:00:00</td>\n",
       "    </tr>\n",
       "    <tr>\n",
       "      <th>2</th>\n",
       "      <td>47770eb9100c2d0c44946d9cf07ec65d</td>\n",
       "      <td>41ce2a54c0b03bf3443c3d931a367089</td>\n",
       "      <td>delivered</td>\n",
       "      <td>2018-08-08 08:38:49</td>\n",
       "      <td>2018-08-08 08:55:23</td>\n",
       "      <td>2018-08-08 13:50:00</td>\n",
       "      <td>2018-08-17 18:06:29</td>\n",
       "      <td>2018-09-04 00:00:00</td>\n",
       "    </tr>\n",
       "  </tbody>\n",
       "</table>\n",
       "</div>"
      ],
      "text/plain": [
       "                           order_id                       customer_id  \\\n",
       "0  e481f51cbdc54678b7cc49136f2d6af7  9ef432eb6251297304e76186b10a928d   \n",
       "1  53cdb2fc8bc7dce0b6741e2150273451  b0830fb4747a6c6d20dea0b8c802d7ef   \n",
       "2  47770eb9100c2d0c44946d9cf07ec65d  41ce2a54c0b03bf3443c3d931a367089   \n",
       "\n",
       "  order_status order_purchase_timestamp    order_approved_at  \\\n",
       "0    delivered      2017-10-02 10:56:33  2017-10-02 11:07:15   \n",
       "1    delivered      2018-07-24 20:41:37  2018-07-26 03:24:27   \n",
       "2    delivered      2018-08-08 08:38:49  2018-08-08 08:55:23   \n",
       "\n",
       "  order_delivered_carrier_date order_delivered_customer_date  \\\n",
       "0          2017-10-04 19:55:00           2017-10-10 21:25:13   \n",
       "1          2018-07-26 14:31:00           2018-08-07 15:27:45   \n",
       "2          2018-08-08 13:50:00           2018-08-17 18:06:29   \n",
       "\n",
       "  order_estimated_delivery_date  \n",
       "0           2017-10-18 00:00:00  \n",
       "1           2018-08-13 00:00:00  \n",
       "2           2018-09-04 00:00:00  "
      ]
     },
     "execution_count": 421,
     "metadata": {},
     "output_type": "execute_result"
    }
   ],
   "source": [
    "orders_time = pd.read_csv('C:/Users/dalan/Documents/Job_Applications/Transfiriendo/Inputs/Brazilian_E-Commerce/olist_orders_dataset.csv')\n",
    "orders_time.head(3)"
   ]
  },
  {
   "cell_type": "code",
   "execution_count": 422,
   "id": "global-member",
   "metadata": {},
   "outputs": [
    {
     "name": "stdout",
     "output_type": "stream",
     "text": [
      "<class 'pandas.core.frame.DataFrame'>\n",
      "RangeIndex: 99441 entries, 0 to 99440\n",
      "Data columns (total 8 columns):\n",
      " #   Column                         Non-Null Count  Dtype \n",
      "---  ------                         --------------  ----- \n",
      " 0   order_id                       99441 non-null  object\n",
      " 1   customer_id                    99441 non-null  object\n",
      " 2   order_status                   99441 non-null  object\n",
      " 3   order_purchase_timestamp       99441 non-null  object\n",
      " 4   order_approved_at              99281 non-null  object\n",
      " 5   order_delivered_carrier_date   97658 non-null  object\n",
      " 6   order_delivered_customer_date  96476 non-null  object\n",
      " 7   order_estimated_delivery_date  99441 non-null  object\n",
      "dtypes: object(8)\n",
      "memory usage: 6.1+ MB\n"
     ]
    }
   ],
   "source": [
    "orders_time.info()"
   ]
  },
  {
   "cell_type": "markdown",
   "id": "satisfactory-bosnia",
   "metadata": {},
   "source": [
    "Éste DataFrame se especializa en registrar los diferentes tiempos de las órdenes de los clientes."
   ]
  },
  {
   "cell_type": "code",
   "execution_count": 423,
   "id": "removable-conditions",
   "metadata": {},
   "outputs": [
    {
     "data": {
      "text/html": [
       "<div>\n",
       "<style scoped>\n",
       "    .dataframe tbody tr th:only-of-type {\n",
       "        vertical-align: middle;\n",
       "    }\n",
       "\n",
       "    .dataframe tbody tr th {\n",
       "        vertical-align: top;\n",
       "    }\n",
       "\n",
       "    .dataframe thead th {\n",
       "        text-align: right;\n",
       "    }\n",
       "</style>\n",
       "<table border=\"1\" class=\"dataframe\">\n",
       "  <thead>\n",
       "    <tr style=\"text-align: right;\">\n",
       "      <th></th>\n",
       "      <th>product_id</th>\n",
       "      <th>product_category_name</th>\n",
       "      <th>product_name_lenght</th>\n",
       "      <th>product_description_lenght</th>\n",
       "      <th>product_photos_qty</th>\n",
       "      <th>product_weight_g</th>\n",
       "      <th>product_length_cm</th>\n",
       "      <th>product_height_cm</th>\n",
       "      <th>product_width_cm</th>\n",
       "    </tr>\n",
       "  </thead>\n",
       "  <tbody>\n",
       "    <tr>\n",
       "      <th>0</th>\n",
       "      <td>1e9e8ef04dbcff4541ed26657ea517e5</td>\n",
       "      <td>perfumaria</td>\n",
       "      <td>40.0</td>\n",
       "      <td>287.0</td>\n",
       "      <td>1.0</td>\n",
       "      <td>225.0</td>\n",
       "      <td>16.0</td>\n",
       "      <td>10.0</td>\n",
       "      <td>14.0</td>\n",
       "    </tr>\n",
       "    <tr>\n",
       "      <th>1</th>\n",
       "      <td>3aa071139cb16b67ca9e5dea641aaa2f</td>\n",
       "      <td>artes</td>\n",
       "      <td>44.0</td>\n",
       "      <td>276.0</td>\n",
       "      <td>1.0</td>\n",
       "      <td>1000.0</td>\n",
       "      <td>30.0</td>\n",
       "      <td>18.0</td>\n",
       "      <td>20.0</td>\n",
       "    </tr>\n",
       "    <tr>\n",
       "      <th>2</th>\n",
       "      <td>96bd76ec8810374ed1b65e291975717f</td>\n",
       "      <td>esporte_lazer</td>\n",
       "      <td>46.0</td>\n",
       "      <td>250.0</td>\n",
       "      <td>1.0</td>\n",
       "      <td>154.0</td>\n",
       "      <td>18.0</td>\n",
       "      <td>9.0</td>\n",
       "      <td>15.0</td>\n",
       "    </tr>\n",
       "  </tbody>\n",
       "</table>\n",
       "</div>"
      ],
      "text/plain": [
       "                         product_id product_category_name  \\\n",
       "0  1e9e8ef04dbcff4541ed26657ea517e5            perfumaria   \n",
       "1  3aa071139cb16b67ca9e5dea641aaa2f                 artes   \n",
       "2  96bd76ec8810374ed1b65e291975717f         esporte_lazer   \n",
       "\n",
       "   product_name_lenght  product_description_lenght  product_photos_qty  \\\n",
       "0                 40.0                       287.0                 1.0   \n",
       "1                 44.0                       276.0                 1.0   \n",
       "2                 46.0                       250.0                 1.0   \n",
       "\n",
       "   product_weight_g  product_length_cm  product_height_cm  product_width_cm  \n",
       "0             225.0               16.0               10.0              14.0  \n",
       "1            1000.0               30.0               18.0              20.0  \n",
       "2             154.0               18.0                9.0              15.0  "
      ]
     },
     "execution_count": 423,
     "metadata": {},
     "output_type": "execute_result"
    }
   ],
   "source": [
    "products = pd.read_csv('C:/Users/dalan/Documents/Job_Applications/Transfiriendo/Inputs/Brazilian_E-Commerce/olist_products_dataset.csv')\n",
    "products.head(3)"
   ]
  },
  {
   "cell_type": "code",
   "execution_count": 424,
   "id": "accredited-amino",
   "metadata": {},
   "outputs": [
    {
     "name": "stdout",
     "output_type": "stream",
     "text": [
      "<class 'pandas.core.frame.DataFrame'>\n",
      "RangeIndex: 32951 entries, 0 to 32950\n",
      "Data columns (total 9 columns):\n",
      " #   Column                      Non-Null Count  Dtype  \n",
      "---  ------                      --------------  -----  \n",
      " 0   product_id                  32951 non-null  object \n",
      " 1   product_category_name       32341 non-null  object \n",
      " 2   product_name_lenght         32341 non-null  float64\n",
      " 3   product_description_lenght  32341 non-null  float64\n",
      " 4   product_photos_qty          32341 non-null  float64\n",
      " 5   product_weight_g            32949 non-null  float64\n",
      " 6   product_length_cm           32949 non-null  float64\n",
      " 7   product_height_cm           32949 non-null  float64\n",
      " 8   product_width_cm            32949 non-null  float64\n",
      "dtypes: float64(7), object(2)\n",
      "memory usage: 2.3+ MB\n"
     ]
    }
   ],
   "source": [
    "products.info()"
   ]
  },
  {
   "cell_type": "markdown",
   "id": "normal-editing",
   "metadata": {},
   "source": [
    "Éste DataFrame nos ofrece información detallada de los productos manejados por Olist."
   ]
  },
  {
   "cell_type": "code",
   "execution_count": 425,
   "id": "found-cemetery",
   "metadata": {},
   "outputs": [
    {
     "data": {
      "text/html": [
       "<div>\n",
       "<style scoped>\n",
       "    .dataframe tbody tr th:only-of-type {\n",
       "        vertical-align: middle;\n",
       "    }\n",
       "\n",
       "    .dataframe tbody tr th {\n",
       "        vertical-align: top;\n",
       "    }\n",
       "\n",
       "    .dataframe thead th {\n",
       "        text-align: right;\n",
       "    }\n",
       "</style>\n",
       "<table border=\"1\" class=\"dataframe\">\n",
       "  <thead>\n",
       "    <tr style=\"text-align: right;\">\n",
       "      <th></th>\n",
       "      <th>seller_id</th>\n",
       "      <th>seller_zip_code_prefix</th>\n",
       "      <th>seller_city</th>\n",
       "      <th>seller_state</th>\n",
       "    </tr>\n",
       "  </thead>\n",
       "  <tbody>\n",
       "    <tr>\n",
       "      <th>0</th>\n",
       "      <td>3442f8959a84dea7ee197c632cb2df15</td>\n",
       "      <td>13023</td>\n",
       "      <td>campinas</td>\n",
       "      <td>SP</td>\n",
       "    </tr>\n",
       "    <tr>\n",
       "      <th>1</th>\n",
       "      <td>d1b65fc7debc3361ea86b5f14c68d2e2</td>\n",
       "      <td>13844</td>\n",
       "      <td>mogi guacu</td>\n",
       "      <td>SP</td>\n",
       "    </tr>\n",
       "    <tr>\n",
       "      <th>2</th>\n",
       "      <td>ce3ad9de960102d0677a81f5d0bb7b2d</td>\n",
       "      <td>20031</td>\n",
       "      <td>rio de janeiro</td>\n",
       "      <td>RJ</td>\n",
       "    </tr>\n",
       "  </tbody>\n",
       "</table>\n",
       "</div>"
      ],
      "text/plain": [
       "                          seller_id  seller_zip_code_prefix     seller_city  \\\n",
       "0  3442f8959a84dea7ee197c632cb2df15                   13023        campinas   \n",
       "1  d1b65fc7debc3361ea86b5f14c68d2e2                   13844      mogi guacu   \n",
       "2  ce3ad9de960102d0677a81f5d0bb7b2d                   20031  rio de janeiro   \n",
       "\n",
       "  seller_state  \n",
       "0           SP  \n",
       "1           SP  \n",
       "2           RJ  "
      ]
     },
     "execution_count": 425,
     "metadata": {},
     "output_type": "execute_result"
    }
   ],
   "source": [
    "sellers = pd.read_csv('C:/Users/dalan/Documents/Job_Applications/Transfiriendo/Inputs/Brazilian_E-Commerce/olist_sellers_dataset.csv')\n",
    "sellers.head(3)"
   ]
  },
  {
   "cell_type": "code",
   "execution_count": 426,
   "id": "confident-times",
   "metadata": {},
   "outputs": [
    {
     "name": "stdout",
     "output_type": "stream",
     "text": [
      "<class 'pandas.core.frame.DataFrame'>\n",
      "RangeIndex: 3095 entries, 0 to 3094\n",
      "Data columns (total 4 columns):\n",
      " #   Column                  Non-Null Count  Dtype \n",
      "---  ------                  --------------  ----- \n",
      " 0   seller_id               3095 non-null   object\n",
      " 1   seller_zip_code_prefix  3095 non-null   int64 \n",
      " 2   seller_city             3095 non-null   object\n",
      " 3   seller_state            3095 non-null   object\n",
      "dtypes: int64(1), object(3)\n",
      "memory usage: 96.8+ KB\n"
     ]
    }
   ],
   "source": [
    "sellers.info()"
   ]
  },
  {
   "cell_type": "markdown",
   "id": "injured-protein",
   "metadata": {},
   "source": [
    "Éste DataFrame nos ofrece información a cerca de la ubicación de los vendedores a lo largo de Brasil."
   ]
  },
  {
   "cell_type": "code",
   "execution_count": 427,
   "id": "optional-franklin",
   "metadata": {},
   "outputs": [
    {
     "data": {
      "text/html": [
       "<div>\n",
       "<style scoped>\n",
       "    .dataframe tbody tr th:only-of-type {\n",
       "        vertical-align: middle;\n",
       "    }\n",
       "\n",
       "    .dataframe tbody tr th {\n",
       "        vertical-align: top;\n",
       "    }\n",
       "\n",
       "    .dataframe thead th {\n",
       "        text-align: right;\n",
       "    }\n",
       "</style>\n",
       "<table border=\"1\" class=\"dataframe\">\n",
       "  <thead>\n",
       "    <tr style=\"text-align: right;\">\n",
       "      <th></th>\n",
       "      <th>product_category_name</th>\n",
       "      <th>product_category_name_english</th>\n",
       "    </tr>\n",
       "  </thead>\n",
       "  <tbody>\n",
       "    <tr>\n",
       "      <th>0</th>\n",
       "      <td>beleza_saude</td>\n",
       "      <td>health_beauty</td>\n",
       "    </tr>\n",
       "    <tr>\n",
       "      <th>1</th>\n",
       "      <td>informatica_acessorios</td>\n",
       "      <td>computers_accessories</td>\n",
       "    </tr>\n",
       "    <tr>\n",
       "      <th>2</th>\n",
       "      <td>automotivo</td>\n",
       "      <td>auto</td>\n",
       "    </tr>\n",
       "  </tbody>\n",
       "</table>\n",
       "</div>"
      ],
      "text/plain": [
       "    product_category_name product_category_name_english\n",
       "0            beleza_saude                 health_beauty\n",
       "1  informatica_acessorios         computers_accessories\n",
       "2              automotivo                          auto"
      ]
     },
     "execution_count": 427,
     "metadata": {},
     "output_type": "execute_result"
    }
   ],
   "source": [
    "product_category = pd.read_csv('C:/Users/dalan/Documents/Job_Applications/Transfiriendo/Inputs/Brazilian_E-Commerce/product_category_name_translation.csv')\n",
    "product_category.head(3)"
   ]
  },
  {
   "cell_type": "code",
   "execution_count": 428,
   "id": "extra-alexander",
   "metadata": {},
   "outputs": [
    {
     "name": "stdout",
     "output_type": "stream",
     "text": [
      "<class 'pandas.core.frame.DataFrame'>\n",
      "RangeIndex: 71 entries, 0 to 70\n",
      "Data columns (total 2 columns):\n",
      " #   Column                         Non-Null Count  Dtype \n",
      "---  ------                         --------------  ----- \n",
      " 0   product_category_name          71 non-null     object\n",
      " 1   product_category_name_english  71 non-null     object\n",
      "dtypes: object(2)\n",
      "memory usage: 1.2+ KB\n"
     ]
    }
   ],
   "source": [
    "product_category.info()"
   ]
  },
  {
   "cell_type": "markdown",
   "id": "french-queensland",
   "metadata": {},
   "source": [
    "Éste DataFrame es una traducción al inglés de las diferentes categorías de los productos del portugués."
   ]
  },
  {
   "cell_type": "markdown",
   "id": "active-tackle",
   "metadata": {},
   "source": [
    "## Análisis Exploratorio de datos."
   ]
  },
  {
   "cell_type": "markdown",
   "id": "alive-forwarding",
   "metadata": {},
   "source": [
    "Existen tres DataFrames en los que podemos realizar un análisis exploratorio de datos numéricos en algunas de sus características importantes:"
   ]
  },
  {
   "cell_type": "markdown",
   "id": "silver-coach",
   "metadata": {},
   "source": [
    "### Order_payments"
   ]
  },
  {
   "cell_type": "code",
   "execution_count": 25,
   "id": "accredited-wagner",
   "metadata": {},
   "outputs": [
    {
     "name": "stdout",
     "output_type": "stream",
     "text": [
      "<class 'pandas.core.frame.DataFrame'>\n",
      "RangeIndex: 103886 entries, 0 to 103885\n",
      "Data columns (total 5 columns):\n",
      " #   Column                Non-Null Count   Dtype  \n",
      "---  ------                --------------   -----  \n",
      " 0   order_id              103886 non-null  object \n",
      " 1   payment_sequential    103886 non-null  int64  \n",
      " 2   payment_type          103886 non-null  object \n",
      " 3   payment_installments  103886 non-null  int64  \n",
      " 4   payment_value         103886 non-null  float64\n",
      "dtypes: float64(1), int64(2), object(2)\n",
      "memory usage: 4.0+ MB\n"
     ]
    }
   ],
   "source": [
    "order_payments.info()"
   ]
  },
  {
   "cell_type": "markdown",
   "id": "greater-georgia",
   "metadata": {},
   "source": [
    "Para realizar la descripción, aislamos los valores numéricos del DataFrame y encontramos sus valores de tendencia central y el principal de dispersión. "
   ]
  },
  {
   "cell_type": "code",
   "execution_count": 26,
   "id": "express-friendly",
   "metadata": {},
   "outputs": [],
   "source": [
    "order_payments_description = order_payments[['payment_sequential', 'payment_installments', 'payment_value']]"
   ]
  },
  {
   "cell_type": "code",
   "execution_count": 27,
   "id": "incorporated-organizer",
   "metadata": {},
   "outputs": [
    {
     "data": {
      "text/html": [
       "<div>\n",
       "<style scoped>\n",
       "    .dataframe tbody tr th:only-of-type {\n",
       "        vertical-align: middle;\n",
       "    }\n",
       "\n",
       "    .dataframe tbody tr th {\n",
       "        vertical-align: top;\n",
       "    }\n",
       "\n",
       "    .dataframe thead th {\n",
       "        text-align: right;\n",
       "    }\n",
       "</style>\n",
       "<table border=\"1\" class=\"dataframe\">\n",
       "  <thead>\n",
       "    <tr style=\"text-align: right;\">\n",
       "      <th></th>\n",
       "      <th>payment_sequential</th>\n",
       "      <th>payment_installments</th>\n",
       "      <th>payment_value</th>\n",
       "    </tr>\n",
       "  </thead>\n",
       "  <tbody>\n",
       "    <tr>\n",
       "      <th>0</th>\n",
       "      <td>1</td>\n",
       "      <td>8</td>\n",
       "      <td>99.33</td>\n",
       "    </tr>\n",
       "    <tr>\n",
       "      <th>1</th>\n",
       "      <td>1</td>\n",
       "      <td>1</td>\n",
       "      <td>24.39</td>\n",
       "    </tr>\n",
       "    <tr>\n",
       "      <th>2</th>\n",
       "      <td>1</td>\n",
       "      <td>1</td>\n",
       "      <td>65.71</td>\n",
       "    </tr>\n",
       "    <tr>\n",
       "      <th>3</th>\n",
       "      <td>1</td>\n",
       "      <td>8</td>\n",
       "      <td>107.78</td>\n",
       "    </tr>\n",
       "    <tr>\n",
       "      <th>4</th>\n",
       "      <td>1</td>\n",
       "      <td>2</td>\n",
       "      <td>128.45</td>\n",
       "    </tr>\n",
       "  </tbody>\n",
       "</table>\n",
       "</div>"
      ],
      "text/plain": [
       "   payment_sequential  payment_installments  payment_value\n",
       "0                   1                     8          99.33\n",
       "1                   1                     1          24.39\n",
       "2                   1                     1          65.71\n",
       "3                   1                     8         107.78\n",
       "4                   1                     2         128.45"
      ]
     },
     "execution_count": 27,
     "metadata": {},
     "output_type": "execute_result"
    }
   ],
   "source": [
    "order_payments_description.head()"
   ]
  },
  {
   "cell_type": "code",
   "execution_count": 28,
   "id": "fallen-sydney",
   "metadata": {},
   "outputs": [
    {
     "data": {
      "text/plain": [
       "payment_sequential        1.092679\n",
       "payment_installments      2.853349\n",
       "payment_value           154.100380\n",
       "dtype: float64"
      ]
     },
     "execution_count": 28,
     "metadata": {},
     "output_type": "execute_result"
    }
   ],
   "source": [
    "order_payments_description.mean()"
   ]
  },
  {
   "cell_type": "code",
   "execution_count": 29,
   "id": "veterinary-premises",
   "metadata": {},
   "outputs": [
    {
     "data": {
      "text/plain": [
       "payment_sequential        0.706584\n",
       "payment_installments      2.687051\n",
       "payment_value           217.494064\n",
       "dtype: float64"
      ]
     },
     "execution_count": 29,
     "metadata": {},
     "output_type": "execute_result"
    }
   ],
   "source": [
    "order_payments_description.std()"
   ]
  },
  {
   "cell_type": "markdown",
   "id": "combined-frequency",
   "metadata": {},
   "source": [
    "Estos valores nos indican que el principal rango de los pagos sequenciales está en el intervalo $[0.39, 1.79]$. Adicionalmente, que las cuotas de pago oscilan en el intervalo $[0.17, 5.53]$ y tambiém que los valores de pago alacnazan valores cercanos a $\\$ 371.59$ con una media de $\\$ 154.10$. Podemos hacer una gráfica de las cuotas y de los valores de pago para vislumbrar sus valores máximos:"
   ]
  },
  {
   "cell_type": "code",
   "execution_count": 30,
   "id": "patient-boundary",
   "metadata": {},
   "outputs": [],
   "source": [
    "import matplotlib\n",
    "import matplotlib.pyplot as plt\n",
    "matplotlib.rcParams['figure.dpi'] = 300"
   ]
  },
  {
   "cell_type": "code",
   "execution_count": 31,
   "id": "detected-washington",
   "metadata": {},
   "outputs": [
    {
     "data": {
      "text/plain": [
       "Text(0, 0.5, 'Payment Installments')"
      ]
     },
     "execution_count": 31,
     "metadata": {},
     "output_type": "execute_result"
    },
    {
     "data": {
      "image/png": "[encoded data removed]",
      "text/plain": [
       "<Figure size 1800x1200 with 1 Axes>"
      ]
     },
     "metadata": {
      "needs_background": "light"
     },
     "output_type": "display_data"
    }
   ],
   "source": [
    "ax = order_payments_description['payment_installments'].plot(style = ['-'])\n",
    "ax.legend(['payment_installments'])\n",
    "ax.set_title('Cuotas de Pago')\n",
    "ax.set_xlabel('Index')\n",
    "ax.set_ylabel('Payment Installments')"
   ]
  },
  {
   "cell_type": "markdown",
   "id": "racial-desert",
   "metadata": {},
   "source": [
    "A partir de ésta gráfica podemos ver que el máximo de cuotas de pago llega a las $25$."
   ]
  },
  {
   "cell_type": "code",
   "execution_count": 32,
   "id": "prepared-juvenile",
   "metadata": {},
   "outputs": [
    {
     "data": {
      "text/plain": [
       "Text(0, 0.5, 'Payment values')"
      ]
     },
     "execution_count": 32,
     "metadata": {},
     "output_type": "execute_result"
    },
    {
     "data": {
      "image/png": "[encoded data removed]",
      "text/plain": [
       "<Figure size 1800x1200 with 1 Axes>"
      ]
     },
     "metadata": {
      "needs_background": "light"
     },
     "output_type": "display_data"
    }
   ],
   "source": [
    "ax = order_payments_description['payment_value'].plot(style = ['-'])\n",
    "ax.legend(['payment_value'])\n",
    "ax.set_title('Valores de Pago')\n",
    "ax.set_xlabel('Index')\n",
    "ax.set_ylabel('Payment values')"
   ]
  },
  {
   "cell_type": "markdown",
   "id": "indie-rouge",
   "metadata": {},
   "source": [
    "El máximo valor pagado alcanza los $\\$ 14000$, el cual parece ser un valor anómalo dado de el segundo valor de pago es de aproximadamente $\\$ 8000$."
   ]
  },
  {
   "cell_type": "markdown",
   "id": "favorite-abraham",
   "metadata": {},
   "source": [
    "### Order_Items"
   ]
  },
  {
   "cell_type": "code",
   "execution_count": 33,
   "id": "linear-netscape",
   "metadata": {},
   "outputs": [
    {
     "name": "stdout",
     "output_type": "stream",
     "text": [
      "<class 'pandas.core.frame.DataFrame'>\n",
      "RangeIndex: 112650 entries, 0 to 112649\n",
      "Data columns (total 7 columns):\n",
      " #   Column               Non-Null Count   Dtype  \n",
      "---  ------               --------------   -----  \n",
      " 0   order_id             112650 non-null  object \n",
      " 1   order_item_id        112650 non-null  int64  \n",
      " 2   product_id           112650 non-null  object \n",
      " 3   seller_id            112650 non-null  object \n",
      " 4   shipping_limit_date  112650 non-null  object \n",
      " 5   price                112650 non-null  float64\n",
      " 6   freight_value        112650 non-null  float64\n",
      "dtypes: float64(2), int64(1), object(4)\n",
      "memory usage: 6.0+ MB\n"
     ]
    }
   ],
   "source": [
    "order_items.info()"
   ]
  },
  {
   "cell_type": "markdown",
   "id": "pending-humanitarian",
   "metadata": {},
   "source": [
    "En el caso del DataFrame Order_Items, tenemos que podemos hacer el mismo análisis para las caracetrísticas 'price' y 'freight_value':"
   ]
  },
  {
   "cell_type": "code",
   "execution_count": 34,
   "id": "assumed-sharp",
   "metadata": {},
   "outputs": [],
   "source": [
    "order_items_description = order_items[['price', 'freight_value']]"
   ]
  },
  {
   "cell_type": "code",
   "execution_count": 35,
   "id": "spanish-share",
   "metadata": {},
   "outputs": [
    {
     "data": {
      "text/plain": [
       "price            120.653739\n",
       "freight_value     19.990320\n",
       "dtype: float64"
      ]
     },
     "execution_count": 35,
     "metadata": {},
     "output_type": "execute_result"
    }
   ],
   "source": [
    "order_items_description.mean()"
   ]
  },
  {
   "cell_type": "code",
   "execution_count": 36,
   "id": "suspended-eight",
   "metadata": {},
   "outputs": [
    {
     "data": {
      "text/plain": [
       "price            183.633928\n",
       "freight_value     15.806405\n",
       "dtype: float64"
      ]
     },
     "execution_count": 36,
     "metadata": {},
     "output_type": "execute_result"
    }
   ],
   "source": [
    "order_items_description.std()"
   ]
  },
  {
   "cell_type": "markdown",
   "id": "short-management",
   "metadata": {},
   "source": [
    "De aquí podemos concluir que la mayoría de precios de los productos están por debajo de $\\$ 304.28$ mientras que la mayoría de valores de transporte llegan hasta los $\\$35.79$."
   ]
  },
  {
   "cell_type": "markdown",
   "id": "impossible-package",
   "metadata": {},
   "source": [
    "Nuevamente podemos graficar los valores de estas cantidades:"
   ]
  },
  {
   "cell_type": "code",
   "execution_count": 37,
   "id": "compressed-andrew",
   "metadata": {},
   "outputs": [
    {
     "data": {
      "text/plain": [
       "Text(0, 0.5, 'price')"
      ]
     },
     "execution_count": 37,
     "metadata": {},
     "output_type": "execute_result"
    },
    {
     "data": {
      "image/png": "[encoded data removed]",
      "text/plain": [
       "<Figure size 1800x1200 with 1 Axes>"
      ]
     },
     "metadata": {
      "needs_background": "light"
     },
     "output_type": "display_data"
    }
   ],
   "source": [
    "ax = order_items_description['price'].plot(style = ['-'], color = 'orange')\n",
    "ax.legend(['price'])\n",
    "ax.set_title('Precios')\n",
    "ax.set_xlabel('Index')\n",
    "ax.set_ylabel('price')"
   ]
  },
  {
   "cell_type": "markdown",
   "id": "annoying-affect",
   "metadata": {},
   "source": [
    "En general, todos los precios permanecen por debajo de los $\\$70 000$."
   ]
  },
  {
   "cell_type": "code",
   "execution_count": 38,
   "id": "subsequent-palmer",
   "metadata": {},
   "outputs": [
    {
     "data": {
      "text/plain": [
       "Text(0, 0.5, 'freight_value')"
      ]
     },
     "execution_count": 38,
     "metadata": {},
     "output_type": "execute_result"
    },
    {
     "data": {
      "image/png": "[encoded data removed]",
      "text/plain": [
       "<Figure size 1800x1200 with 1 Axes>"
      ]
     },
     "metadata": {
      "needs_background": "light"
     },
     "output_type": "display_data"
    }
   ],
   "source": [
    "ax = order_items_description['freight_value'].plot(style = ['-'], color = 'purple')\n",
    "ax.legend(['freight_value'])\n",
    "ax.set_title('Valor del transporte')\n",
    "ax.set_xlabel('Index')\n",
    "ax.set_ylabel('freight_value')"
   ]
  },
  {
   "cell_type": "markdown",
   "id": "cooperative-effects",
   "metadata": {},
   "source": [
    "Mientras que esta gráfica muestra que el valor de transporte para los cerca de $100000$ productos no excede los $\\$400$."
   ]
  },
  {
   "cell_type": "markdown",
   "id": "assured-latino",
   "metadata": {},
   "source": [
    "### Products"
   ]
  },
  {
   "cell_type": "code",
   "execution_count": 39,
   "id": "fundamental-initial",
   "metadata": {},
   "outputs": [
    {
     "name": "stdout",
     "output_type": "stream",
     "text": [
      "<class 'pandas.core.frame.DataFrame'>\n",
      "RangeIndex: 32951 entries, 0 to 32950\n",
      "Data columns (total 9 columns):\n",
      " #   Column                      Non-Null Count  Dtype  \n",
      "---  ------                      --------------  -----  \n",
      " 0   product_id                  32951 non-null  object \n",
      " 1   product_category_name       32341 non-null  object \n",
      " 2   product_name_lenght         32341 non-null  float64\n",
      " 3   product_description_lenght  32341 non-null  float64\n",
      " 4   product_photos_qty          32341 non-null  float64\n",
      " 5   product_weight_g            32949 non-null  float64\n",
      " 6   product_length_cm           32949 non-null  float64\n",
      " 7   product_height_cm           32949 non-null  float64\n",
      " 8   product_width_cm            32949 non-null  float64\n",
      "dtypes: float64(7), object(2)\n",
      "memory usage: 2.3+ MB\n"
     ]
    }
   ],
   "source": [
    "products.info()"
   ]
  },
  {
   "cell_type": "markdown",
   "id": "available-notion",
   "metadata": {},
   "source": [
    "Separamos todas las cantidades que posean valores numéricos en sus características:"
   ]
  },
  {
   "cell_type": "code",
   "execution_count": 40,
   "id": "inside-thousand",
   "metadata": {},
   "outputs": [],
   "source": [
    "products_description = products[['product_name_lenght', 'product_description_lenght', 'product_photos_qty', 'product_weight_g',\n",
    "                                 'product_length_cm', 'product_height_cm', 'product_width_cm']]"
   ]
  },
  {
   "cell_type": "code",
   "execution_count": 41,
   "id": "intermediate-enlargement",
   "metadata": {},
   "outputs": [
    {
     "data": {
      "text/plain": [
       "product_name_lenght             48.476949\n",
       "product_description_lenght     771.495285\n",
       "product_photos_qty               2.188986\n",
       "product_weight_g              2276.472488\n",
       "product_length_cm               30.815078\n",
       "product_height_cm               16.937661\n",
       "product_width_cm                23.196728\n",
       "dtype: float64"
      ]
     },
     "execution_count": 41,
     "metadata": {},
     "output_type": "execute_result"
    }
   ],
   "source": [
    "products_description.mean()"
   ]
  },
  {
   "cell_type": "code",
   "execution_count": 42,
   "id": "latin-inquiry",
   "metadata": {},
   "outputs": [
    {
     "data": {
      "text/plain": [
       "product_name_lenght             10.245741\n",
       "product_description_lenght     635.115225\n",
       "product_photos_qty               1.736766\n",
       "product_weight_g              4282.038731\n",
       "product_length_cm               16.914458\n",
       "product_height_cm               13.637554\n",
       "product_width_cm                12.079047\n",
       "dtype: float64"
      ]
     },
     "execution_count": 42,
     "metadata": {},
     "output_type": "execute_result"
    }
   ],
   "source": [
    "products_description.std()"
   ]
  },
  {
   "cell_type": "code",
   "execution_count": 43,
   "id": "protecting-grass",
   "metadata": {},
   "outputs": [
    {
     "data": {
      "text/plain": [
       "product_name_lenght             58.722689\n",
       "product_description_lenght    1406.610509\n",
       "product_photos_qty               3.925752\n",
       "product_weight_g              6558.511219\n",
       "product_length_cm               47.729536\n",
       "product_height_cm               30.575215\n",
       "product_width_cm                35.275776\n",
       "dtype: float64"
      ]
     },
     "execution_count": 43,
     "metadata": {},
     "output_type": "execute_result"
    }
   ],
   "source": [
    "products_description.mean() + products_description.std()"
   ]
  },
  {
   "cell_type": "markdown",
   "id": "ordered-drinking",
   "metadata": {},
   "source": [
    "Al sumar ambos índices podemos ver el orden de valores en los cuales se encuentran aproximadamente el $66\\%$ de los valores de cada una de las caracterísitcas de este DataFrame."
   ]
  },
  {
   "cell_type": "markdown",
   "id": "internal-dimension",
   "metadata": {},
   "source": [
    "## Interpretación del Problema."
   ]
  },
  {
   "cell_type": "markdown",
   "id": "portuguese-tennessee",
   "metadata": {},
   "source": [
    "Los diferentes DataFrames nos ofrecen información relacionada con dos grandes características del comercio de Olist: las órdenes y los productos. Cada uno de ellos tiene ciertas características específicas que se pueden extraer de los DataFrames y que se pueden relacionar con los *id* de otras características en los diferentes DataFrame, a partir de las relaciones de la figura **Data Scheme**."
   ]
  },
  {
   "cell_type": "markdown",
   "id": "formed-search",
   "metadata": {},
   "source": [
    "**Caracterísitcas asociadas a las órdenes:**\n",
    "\n",
    " - Potenciales clientes.\n",
    " - Clientes con quienes se cerraron tratos.\n",
    " - geolocalización de los clientes.\n",
    " - vendedores.\n",
    " - geolocalización de los vendedores.\n",
    " - precios y valores del transporte.\n",
    " - pagos.\n",
    " \n",
    "**Características asociadas a los productos:**\n",
    " \n",
    " - Categorización de los productos.\n",
    " - Revisiones de los clientes a los productos.\n",
    " - Tiempos de entrega.\n",
    " - Dimensiones y caracterísitcas físicas de los productos."
   ]
  },
  {
   "cell_type": "markdown",
   "id": "rental-companion",
   "metadata": {},
   "source": [
    "A partir de aquí proponemos nos objetivos a alcanzar: el primero será la de predecir de la forma más precisa posible los valores futuros de las características de las ventas de Olist y asimismo la identificación de alguna clasificación para la optimización de los tiempos de envío, y los sectores poblacionales que potencialmente pueden aumentar el público objetivo de la compañía."
   ]
  },
  {
   "cell_type": "markdown",
   "id": "periodic-communications",
   "metadata": {},
   "source": [
    "## Series Temporales."
   ]
  },
  {
   "cell_type": "markdown",
   "id": "equal-malta",
   "metadata": {},
   "source": [
    "Existen DataFrames desde los cuales podemos realizar estudios de series temporales. En especial, puesto que tenemos los valores de los tiempos de creación de revisión de productos así como los tiempos de respuesta de la revisión y también los puntajes de las revisiones, podemos ver cómo estos han evolucionado en el tiempo."
   ]
  },
  {
   "cell_type": "code",
   "execution_count": 44,
   "id": "owned-hindu",
   "metadata": {},
   "outputs": [
    {
     "name": "stdout",
     "output_type": "stream",
     "text": [
      "<class 'pandas.core.frame.DataFrame'>\n",
      "RangeIndex: 100000 entries, 0 to 99999\n",
      "Data columns (total 7 columns):\n",
      " #   Column                   Non-Null Count   Dtype \n",
      "---  ------                   --------------   ----- \n",
      " 0   review_id                100000 non-null  object\n",
      " 1   order_id                 100000 non-null  object\n",
      " 2   review_score             100000 non-null  int64 \n",
      " 3   review_comment_title     11715 non-null   object\n",
      " 4   review_comment_message   41753 non-null   object\n",
      " 5   review_creation_date     100000 non-null  object\n",
      " 6   review_answer_timestamp  100000 non-null  object\n",
      "dtypes: int64(1), object(6)\n",
      "memory usage: 5.3+ MB\n"
     ]
    }
   ],
   "source": [
    "reviews.info()"
   ]
  },
  {
   "cell_type": "code",
   "execution_count": 45,
   "id": "indie-grammar",
   "metadata": {},
   "outputs": [],
   "source": [
    "review_times = reviews[['review_score', 'review_creation_date', 'review_answer_timestamp']]"
   ]
  },
  {
   "cell_type": "code",
   "execution_count": 46,
   "id": "violent-nirvana",
   "metadata": {},
   "outputs": [
    {
     "data": {
      "text/html": [
       "<div>\n",
       "<style scoped>\n",
       "    .dataframe tbody tr th:only-of-type {\n",
       "        vertical-align: middle;\n",
       "    }\n",
       "\n",
       "    .dataframe tbody tr th {\n",
       "        vertical-align: top;\n",
       "    }\n",
       "\n",
       "    .dataframe thead th {\n",
       "        text-align: right;\n",
       "    }\n",
       "</style>\n",
       "<table border=\"1\" class=\"dataframe\">\n",
       "  <thead>\n",
       "    <tr style=\"text-align: right;\">\n",
       "      <th></th>\n",
       "      <th>review_score</th>\n",
       "      <th>review_creation_date</th>\n",
       "      <th>review_answer_timestamp</th>\n",
       "    </tr>\n",
       "  </thead>\n",
       "  <tbody>\n",
       "    <tr>\n",
       "      <th>0</th>\n",
       "      <td>4</td>\n",
       "      <td>2018-01-18 00:00:00</td>\n",
       "      <td>2018-01-18 21:46:59</td>\n",
       "    </tr>\n",
       "    <tr>\n",
       "      <th>1</th>\n",
       "      <td>5</td>\n",
       "      <td>2018-03-10 00:00:00</td>\n",
       "      <td>2018-03-11 03:05:13</td>\n",
       "    </tr>\n",
       "    <tr>\n",
       "      <th>2</th>\n",
       "      <td>5</td>\n",
       "      <td>2018-02-17 00:00:00</td>\n",
       "      <td>2018-02-18 14:36:24</td>\n",
       "    </tr>\n",
       "    <tr>\n",
       "      <th>3</th>\n",
       "      <td>5</td>\n",
       "      <td>2017-04-21 00:00:00</td>\n",
       "      <td>2017-04-21 22:02:06</td>\n",
       "    </tr>\n",
       "    <tr>\n",
       "      <th>4</th>\n",
       "      <td>5</td>\n",
       "      <td>2018-03-01 00:00:00</td>\n",
       "      <td>2018-03-02 10:26:53</td>\n",
       "    </tr>\n",
       "  </tbody>\n",
       "</table>\n",
       "</div>"
      ],
      "text/plain": [
       "   review_score review_creation_date review_answer_timestamp\n",
       "0             4  2018-01-18 00:00:00     2018-01-18 21:46:59\n",
       "1             5  2018-03-10 00:00:00     2018-03-11 03:05:13\n",
       "2             5  2018-02-17 00:00:00     2018-02-18 14:36:24\n",
       "3             5  2017-04-21 00:00:00     2017-04-21 22:02:06\n",
       "4             5  2018-03-01 00:00:00     2018-03-02 10:26:53"
      ]
     },
     "execution_count": 46,
     "metadata": {},
     "output_type": "execute_result"
    }
   ],
   "source": [
    "review_times.head()"
   ]
  },
  {
   "cell_type": "markdown",
   "id": "greek-texture",
   "metadata": {},
   "source": [
    "Ahora podemos cambiar el índice a la fecha de creación de la revisión:"
   ]
  },
  {
   "cell_type": "code",
   "execution_count": 47,
   "id": "inner-character",
   "metadata": {},
   "outputs": [
    {
     "name": "stderr",
     "output_type": "stream",
     "text": [
      "C:\\Users\\dalan\\anacondaF\\envs\\Libraries\\lib\\site-packages\\ipykernel_launcher.py:1: SettingWithCopyWarning: \n",
      "A value is trying to be set on a copy of a slice from a DataFrame.\n",
      "Try using .loc[row_indexer,col_indexer] = value instead\n",
      "\n",
      "See the caveats in the documentation: https://pandas.pydata.org/pandas-docs/stable/user_guide/indexing.html#returning-a-view-versus-a-copy\n",
      "  \"\"\"Entry point for launching an IPython kernel.\n"
     ]
    }
   ],
   "source": [
    "review_times['review_creation_date'] = pd.to_datetime(review_times['review_creation_date'], format = '%Y-%m-%d')"
   ]
  },
  {
   "cell_type": "code",
   "execution_count": 48,
   "id": "nearby-vertical",
   "metadata": {},
   "outputs": [
    {
     "name": "stderr",
     "output_type": "stream",
     "text": [
      "C:\\Users\\dalan\\anacondaF\\envs\\Libraries\\lib\\site-packages\\ipykernel_launcher.py:1: SettingWithCopyWarning: \n",
      "A value is trying to be set on a copy of a slice from a DataFrame.\n",
      "Try using .loc[row_indexer,col_indexer] = value instead\n",
      "\n",
      "See the caveats in the documentation: https://pandas.pydata.org/pandas-docs/stable/user_guide/indexing.html#returning-a-view-versus-a-copy\n",
      "  \"\"\"Entry point for launching an IPython kernel.\n"
     ]
    }
   ],
   "source": [
    "review_times['review_answer_timestamp'] = pd.to_datetime(review_times['review_answer_timestamp'], format = '%Y-%m-%d')"
   ]
  },
  {
   "cell_type": "code",
   "execution_count": 49,
   "id": "developmental-spouse",
   "metadata": {},
   "outputs": [
    {
     "data": {
      "text/html": [
       "<div>\n",
       "<style scoped>\n",
       "    .dataframe tbody tr th:only-of-type {\n",
       "        vertical-align: middle;\n",
       "    }\n",
       "\n",
       "    .dataframe tbody tr th {\n",
       "        vertical-align: top;\n",
       "    }\n",
       "\n",
       "    .dataframe thead th {\n",
       "        text-align: right;\n",
       "    }\n",
       "</style>\n",
       "<table border=\"1\" class=\"dataframe\">\n",
       "  <thead>\n",
       "    <tr style=\"text-align: right;\">\n",
       "      <th></th>\n",
       "      <th>review_score</th>\n",
       "      <th>review_creation_date</th>\n",
       "      <th>review_answer_timestamp</th>\n",
       "    </tr>\n",
       "  </thead>\n",
       "  <tbody>\n",
       "    <tr>\n",
       "      <th>0</th>\n",
       "      <td>4</td>\n",
       "      <td>2018-01-18</td>\n",
       "      <td>2018-01-18 21:46:59</td>\n",
       "    </tr>\n",
       "    <tr>\n",
       "      <th>1</th>\n",
       "      <td>5</td>\n",
       "      <td>2018-03-10</td>\n",
       "      <td>2018-03-11 03:05:13</td>\n",
       "    </tr>\n",
       "    <tr>\n",
       "      <th>2</th>\n",
       "      <td>5</td>\n",
       "      <td>2018-02-17</td>\n",
       "      <td>2018-02-18 14:36:24</td>\n",
       "    </tr>\n",
       "    <tr>\n",
       "      <th>3</th>\n",
       "      <td>5</td>\n",
       "      <td>2017-04-21</td>\n",
       "      <td>2017-04-21 22:02:06</td>\n",
       "    </tr>\n",
       "    <tr>\n",
       "      <th>4</th>\n",
       "      <td>5</td>\n",
       "      <td>2018-03-01</td>\n",
       "      <td>2018-03-02 10:26:53</td>\n",
       "    </tr>\n",
       "  </tbody>\n",
       "</table>\n",
       "</div>"
      ],
      "text/plain": [
       "   review_score review_creation_date review_answer_timestamp\n",
       "0             4           2018-01-18     2018-01-18 21:46:59\n",
       "1             5           2018-03-10     2018-03-11 03:05:13\n",
       "2             5           2018-02-17     2018-02-18 14:36:24\n",
       "3             5           2017-04-21     2017-04-21 22:02:06\n",
       "4             5           2018-03-01     2018-03-02 10:26:53"
      ]
     },
     "execution_count": 49,
     "metadata": {},
     "output_type": "execute_result"
    }
   ],
   "source": [
    "review_times.head()"
   ]
  },
  {
   "cell_type": "markdown",
   "id": "changing-swaziland",
   "metadata": {},
   "source": [
    "Gracias a esto, podemos definir una característica a la que denominaremos tiempo de respuesta, como la resta entre el tiempo de respuesta y la fecha de creación:"
   ]
  },
  {
   "cell_type": "code",
   "execution_count": 50,
   "id": "ignored-spanking",
   "metadata": {},
   "outputs": [
    {
     "name": "stderr",
     "output_type": "stream",
     "text": [
      "C:\\Users\\dalan\\anacondaF\\envs\\Libraries\\lib\\site-packages\\ipykernel_launcher.py:1: SettingWithCopyWarning: \n",
      "A value is trying to be set on a copy of a slice from a DataFrame.\n",
      "Try using .loc[row_indexer,col_indexer] = value instead\n",
      "\n",
      "See the caveats in the documentation: https://pandas.pydata.org/pandas-docs/stable/user_guide/indexing.html#returning-a-view-versus-a-copy\n",
      "  \"\"\"Entry point for launching an IPython kernel.\n"
     ]
    }
   ],
   "source": [
    "review_times['answering_time'] = review_times['review_answer_timestamp'] - review_times['review_creation_date']"
   ]
  },
  {
   "cell_type": "code",
   "execution_count": 51,
   "id": "corporate-agenda",
   "metadata": {},
   "outputs": [
    {
     "data": {
      "text/html": [
       "<div>\n",
       "<style scoped>\n",
       "    .dataframe tbody tr th:only-of-type {\n",
       "        vertical-align: middle;\n",
       "    }\n",
       "\n",
       "    .dataframe tbody tr th {\n",
       "        vertical-align: top;\n",
       "    }\n",
       "\n",
       "    .dataframe thead th {\n",
       "        text-align: right;\n",
       "    }\n",
       "</style>\n",
       "<table border=\"1\" class=\"dataframe\">\n",
       "  <thead>\n",
       "    <tr style=\"text-align: right;\">\n",
       "      <th></th>\n",
       "      <th>review_score</th>\n",
       "      <th>review_creation_date</th>\n",
       "      <th>review_answer_timestamp</th>\n",
       "      <th>answering_time</th>\n",
       "    </tr>\n",
       "  </thead>\n",
       "  <tbody>\n",
       "    <tr>\n",
       "      <th>0</th>\n",
       "      <td>4</td>\n",
       "      <td>2018-01-18</td>\n",
       "      <td>2018-01-18 21:46:59</td>\n",
       "      <td>0 days 21:46:59</td>\n",
       "    </tr>\n",
       "    <tr>\n",
       "      <th>1</th>\n",
       "      <td>5</td>\n",
       "      <td>2018-03-10</td>\n",
       "      <td>2018-03-11 03:05:13</td>\n",
       "      <td>1 days 03:05:13</td>\n",
       "    </tr>\n",
       "    <tr>\n",
       "      <th>2</th>\n",
       "      <td>5</td>\n",
       "      <td>2018-02-17</td>\n",
       "      <td>2018-02-18 14:36:24</td>\n",
       "      <td>1 days 14:36:24</td>\n",
       "    </tr>\n",
       "    <tr>\n",
       "      <th>3</th>\n",
       "      <td>5</td>\n",
       "      <td>2017-04-21</td>\n",
       "      <td>2017-04-21 22:02:06</td>\n",
       "      <td>0 days 22:02:06</td>\n",
       "    </tr>\n",
       "    <tr>\n",
       "      <th>4</th>\n",
       "      <td>5</td>\n",
       "      <td>2018-03-01</td>\n",
       "      <td>2018-03-02 10:26:53</td>\n",
       "      <td>1 days 10:26:53</td>\n",
       "    </tr>\n",
       "  </tbody>\n",
       "</table>\n",
       "</div>"
      ],
      "text/plain": [
       "   review_score review_creation_date review_answer_timestamp  answering_time\n",
       "0             4           2018-01-18     2018-01-18 21:46:59 0 days 21:46:59\n",
       "1             5           2018-03-10     2018-03-11 03:05:13 1 days 03:05:13\n",
       "2             5           2018-02-17     2018-02-18 14:36:24 1 days 14:36:24\n",
       "3             5           2017-04-21     2017-04-21 22:02:06 0 days 22:02:06\n",
       "4             5           2018-03-01     2018-03-02 10:26:53 1 days 10:26:53"
      ]
     },
     "execution_count": 51,
     "metadata": {},
     "output_type": "execute_result"
    }
   ],
   "source": [
    "review_times.head()"
   ]
  },
  {
   "cell_type": "markdown",
   "id": "satisfactory-transport",
   "metadata": {},
   "source": [
    "Now we can plot the evolution of the 'review_score' in the time:"
   ]
  },
  {
   "cell_type": "code",
   "execution_count": 52,
   "id": "pleased-maker",
   "metadata": {},
   "outputs": [],
   "source": [
    "review_times = review_times.set_index('review_creation_date')"
   ]
  },
  {
   "cell_type": "code",
   "execution_count": 53,
   "id": "democratic-disposition",
   "metadata": {},
   "outputs": [
    {
     "data": {
      "text/html": [
       "<div>\n",
       "<style scoped>\n",
       "    .dataframe tbody tr th:only-of-type {\n",
       "        vertical-align: middle;\n",
       "    }\n",
       "\n",
       "    .dataframe tbody tr th {\n",
       "        vertical-align: top;\n",
       "    }\n",
       "\n",
       "    .dataframe thead th {\n",
       "        text-align: right;\n",
       "    }\n",
       "</style>\n",
       "<table border=\"1\" class=\"dataframe\">\n",
       "  <thead>\n",
       "    <tr style=\"text-align: right;\">\n",
       "      <th></th>\n",
       "      <th>review_score</th>\n",
       "      <th>review_answer_timestamp</th>\n",
       "      <th>answering_time</th>\n",
       "    </tr>\n",
       "    <tr>\n",
       "      <th>review_creation_date</th>\n",
       "      <th></th>\n",
       "      <th></th>\n",
       "      <th></th>\n",
       "    </tr>\n",
       "  </thead>\n",
       "  <tbody>\n",
       "    <tr>\n",
       "      <th>2016-10-02</th>\n",
       "      <td>1</td>\n",
       "      <td>2016-10-26 12:31:00</td>\n",
       "      <td>24 days 12:31:00</td>\n",
       "    </tr>\n",
       "    <tr>\n",
       "      <th>2016-10-06</th>\n",
       "      <td>1</td>\n",
       "      <td>2016-10-07 18:32:28</td>\n",
       "      <td>1 days 18:32:28</td>\n",
       "    </tr>\n",
       "    <tr>\n",
       "      <th>2016-10-09</th>\n",
       "      <td>1</td>\n",
       "      <td>2016-10-11 14:31:29</td>\n",
       "      <td>2 days 14:31:29</td>\n",
       "    </tr>\n",
       "    <tr>\n",
       "      <th>2016-10-15</th>\n",
       "      <td>4</td>\n",
       "      <td>2016-10-16 03:20:17</td>\n",
       "      <td>1 days 03:20:17</td>\n",
       "    </tr>\n",
       "    <tr>\n",
       "      <th>2016-10-15</th>\n",
       "      <td>4</td>\n",
       "      <td>2016-10-17 21:02:49</td>\n",
       "      <td>2 days 21:02:49</td>\n",
       "    </tr>\n",
       "  </tbody>\n",
       "</table>\n",
       "</div>"
      ],
      "text/plain": [
       "                      review_score review_answer_timestamp   answering_time\n",
       "review_creation_date                                                       \n",
       "2016-10-02                       1     2016-10-26 12:31:00 24 days 12:31:00\n",
       "2016-10-06                       1     2016-10-07 18:32:28  1 days 18:32:28\n",
       "2016-10-09                       1     2016-10-11 14:31:29  2 days 14:31:29\n",
       "2016-10-15                       4     2016-10-16 03:20:17  1 days 03:20:17\n",
       "2016-10-15                       4     2016-10-17 21:02:49  2 days 21:02:49"
      ]
     },
     "execution_count": 53,
     "metadata": {},
     "output_type": "execute_result"
    }
   ],
   "source": [
    "review_times = review_times.sort_index()\n",
    "review_times.head()"
   ]
  },
  {
   "cell_type": "code",
   "execution_count": 54,
   "id": "starting-tomato",
   "metadata": {},
   "outputs": [],
   "source": [
    "review_times['answering_time_seconds'] = review_times['answering_time'].apply(lambda x: x.seconds)"
   ]
  },
  {
   "cell_type": "code",
   "execution_count": 55,
   "id": "local-public",
   "metadata": {},
   "outputs": [
    {
     "data": {
      "text/html": [
       "<div>\n",
       "<style scoped>\n",
       "    .dataframe tbody tr th:only-of-type {\n",
       "        vertical-align: middle;\n",
       "    }\n",
       "\n",
       "    .dataframe tbody tr th {\n",
       "        vertical-align: top;\n",
       "    }\n",
       "\n",
       "    .dataframe thead th {\n",
       "        text-align: right;\n",
       "    }\n",
       "</style>\n",
       "<table border=\"1\" class=\"dataframe\">\n",
       "  <thead>\n",
       "    <tr style=\"text-align: right;\">\n",
       "      <th></th>\n",
       "      <th>review_score</th>\n",
       "      <th>review_answer_timestamp</th>\n",
       "      <th>answering_time</th>\n",
       "      <th>answering_time_seconds</th>\n",
       "    </tr>\n",
       "    <tr>\n",
       "      <th>review_creation_date</th>\n",
       "      <th></th>\n",
       "      <th></th>\n",
       "      <th></th>\n",
       "      <th></th>\n",
       "    </tr>\n",
       "  </thead>\n",
       "  <tbody>\n",
       "    <tr>\n",
       "      <th>2016-10-02</th>\n",
       "      <td>1</td>\n",
       "      <td>2016-10-26 12:31:00</td>\n",
       "      <td>24 days 12:31:00</td>\n",
       "      <td>45060</td>\n",
       "    </tr>\n",
       "    <tr>\n",
       "      <th>2016-10-06</th>\n",
       "      <td>1</td>\n",
       "      <td>2016-10-07 18:32:28</td>\n",
       "      <td>1 days 18:32:28</td>\n",
       "      <td>66748</td>\n",
       "    </tr>\n",
       "    <tr>\n",
       "      <th>2016-10-09</th>\n",
       "      <td>1</td>\n",
       "      <td>2016-10-11 14:31:29</td>\n",
       "      <td>2 days 14:31:29</td>\n",
       "      <td>52289</td>\n",
       "    </tr>\n",
       "    <tr>\n",
       "      <th>2016-10-15</th>\n",
       "      <td>4</td>\n",
       "      <td>2016-10-16 03:20:17</td>\n",
       "      <td>1 days 03:20:17</td>\n",
       "      <td>12017</td>\n",
       "    </tr>\n",
       "    <tr>\n",
       "      <th>2016-10-15</th>\n",
       "      <td>4</td>\n",
       "      <td>2016-10-17 21:02:49</td>\n",
       "      <td>2 days 21:02:49</td>\n",
       "      <td>75769</td>\n",
       "    </tr>\n",
       "  </tbody>\n",
       "</table>\n",
       "</div>"
      ],
      "text/plain": [
       "                      review_score review_answer_timestamp   answering_time  \\\n",
       "review_creation_date                                                          \n",
       "2016-10-02                       1     2016-10-26 12:31:00 24 days 12:31:00   \n",
       "2016-10-06                       1     2016-10-07 18:32:28  1 days 18:32:28   \n",
       "2016-10-09                       1     2016-10-11 14:31:29  2 days 14:31:29   \n",
       "2016-10-15                       4     2016-10-16 03:20:17  1 days 03:20:17   \n",
       "2016-10-15                       4     2016-10-17 21:02:49  2 days 21:02:49   \n",
       "\n",
       "                      answering_time_seconds  \n",
       "review_creation_date                          \n",
       "2016-10-02                             45060  \n",
       "2016-10-06                             66748  \n",
       "2016-10-09                             52289  \n",
       "2016-10-15                             12017  \n",
       "2016-10-15                             75769  "
      ]
     },
     "execution_count": 55,
     "metadata": {},
     "output_type": "execute_result"
    }
   ],
   "source": [
    "review_times.head()"
   ]
  },
  {
   "cell_type": "markdown",
   "id": "primary-joyce",
   "metadata": {},
   "source": [
    "We can make a plot of the review score obtained as function of the answering_time_seconds"
   ]
  },
  {
   "cell_type": "code",
   "execution_count": 56,
   "id": "unauthorized-ceremony",
   "metadata": {},
   "outputs": [
    {
     "name": "stdout",
     "output_type": "stream",
     "text": [
      "Puntaje\tTiempo de respuesta (promedio)\tTiempo de respuesta (Desviación)\n",
      "1 \t 47494.4773148929\t\t23424.294413904383\n",
      "2 \t 48432.0714064915\t\t24947.810480607004\n",
      "3 \t 48740.74767708459\t\t25684.332263865104\n",
      "4 \t 49270.41645833333\t\t25776.543642882894\n",
      "5 \t 49230.46443747823\t\t26559.329518252584\n"
     ]
    }
   ],
   "source": [
    "print('Puntaje' + '\\t' + 'Tiempo de respuesta (promedio)' + '\\t' + 'Tiempo de respuesta (Desviación)')\n",
    "for j in range(1, 6):\n",
    "    print(str(j) + \n",
    "          ' \\t '+\n",
    "          str(review_times[review_times['review_score'] == j]['answering_time_seconds'].mean())+\n",
    "          '\\t' +\n",
    "          '\\t' +\n",
    "          str(review_times[review_times['review_score'] == j]['answering_time_seconds'].std())\n",
    "         )"
   ]
  },
  {
   "cell_type": "markdown",
   "id": "lesser-trademark",
   "metadata": {},
   "source": [
    "A partir de estos datos de los puntajes obtenidos como función del tiempo de respuesta podemos ver que en promedio, los puntajes de los clientes tienen los mismos tiempos de respuesta con desviaciones muy semejantes, lo que nos puede indicar que en el momento de calificar la calidad del servicio de Olist, sus clientes no se fijan en el tiempo de respuesta en general."
   ]
  },
  {
   "cell_type": "markdown",
   "id": "wanted-bosnia",
   "metadata": {},
   "source": [
    "Conla intención de determinar la satisfacción de los clientes con respecto a otras variables, podemos unir las tablas 'reviews' y 'orders_time'"
   ]
  },
  {
   "cell_type": "code",
   "execution_count": 57,
   "id": "adopted-thursday",
   "metadata": {},
   "outputs": [],
   "source": [
    "times_reviews = reviews[['order_id', 'review_score']].merge(orders_time[['order_id',\n",
    "                                                         'order_purchase_timestamp',\n",
    "                                                         'order_approved_at',\n",
    "                                                         'order_delivered_carrier_date',\n",
    "                                                         'order_delivered_customer_date',\n",
    "                                                         'order_estimated_delivery_date']],\n",
    "                                           on = 'order_id',\n",
    "                                           how = 'left')"
   ]
  },
  {
   "cell_type": "code",
   "execution_count": 58,
   "id": "fitted-housing",
   "metadata": {},
   "outputs": [
    {
     "data": {
      "text/html": [
       "<div>\n",
       "<style scoped>\n",
       "    .dataframe tbody tr th:only-of-type {\n",
       "        vertical-align: middle;\n",
       "    }\n",
       "\n",
       "    .dataframe tbody tr th {\n",
       "        vertical-align: top;\n",
       "    }\n",
       "\n",
       "    .dataframe thead th {\n",
       "        text-align: right;\n",
       "    }\n",
       "</style>\n",
       "<table border=\"1\" class=\"dataframe\">\n",
       "  <thead>\n",
       "    <tr style=\"text-align: right;\">\n",
       "      <th></th>\n",
       "      <th>order_id</th>\n",
       "      <th>review_score</th>\n",
       "      <th>order_purchase_timestamp</th>\n",
       "      <th>order_approved_at</th>\n",
       "      <th>order_delivered_carrier_date</th>\n",
       "      <th>order_delivered_customer_date</th>\n",
       "      <th>order_estimated_delivery_date</th>\n",
       "    </tr>\n",
       "  </thead>\n",
       "  <tbody>\n",
       "    <tr>\n",
       "      <th>0</th>\n",
       "      <td>73fc7af87114b39712e6da79b0a377eb</td>\n",
       "      <td>4</td>\n",
       "      <td>2018-01-11 15:30:49</td>\n",
       "      <td>2018-01-11 15:47:59</td>\n",
       "      <td>2018-01-12 21:57:22</td>\n",
       "      <td>2018-01-17 18:42:41</td>\n",
       "      <td>2018-02-02 00:00:00</td>\n",
       "    </tr>\n",
       "    <tr>\n",
       "      <th>1</th>\n",
       "      <td>a548910a1c6147796b98fdf73dbeba33</td>\n",
       "      <td>5</td>\n",
       "      <td>2018-02-28 12:25:19</td>\n",
       "      <td>2018-02-28 12:48:39</td>\n",
       "      <td>2018-03-02 19:08:15</td>\n",
       "      <td>2018-03-09 23:17:20</td>\n",
       "      <td>2018-03-14 00:00:00</td>\n",
       "    </tr>\n",
       "    <tr>\n",
       "      <th>2</th>\n",
       "      <td>f9e4b658b201a9f2ecdecbb34bed034b</td>\n",
       "      <td>5</td>\n",
       "      <td>2018-02-03 09:56:22</td>\n",
       "      <td>2018-02-03 10:33:41</td>\n",
       "      <td>2018-02-06 16:18:28</td>\n",
       "      <td>2018-02-16 17:28:48</td>\n",
       "      <td>2018-03-09 00:00:00</td>\n",
       "    </tr>\n",
       "    <tr>\n",
       "      <th>3</th>\n",
       "      <td>658677c97b385a9be170737859d3511b</td>\n",
       "      <td>5</td>\n",
       "      <td>2017-04-09 17:41:13</td>\n",
       "      <td>2017-04-09 17:55:19</td>\n",
       "      <td>2017-04-10 14:24:47</td>\n",
       "      <td>2017-04-20 09:08:35</td>\n",
       "      <td>2017-05-10 00:00:00</td>\n",
       "    </tr>\n",
       "    <tr>\n",
       "      <th>4</th>\n",
       "      <td>8e6bfb81e283fa7e4f11123a3fb894f1</td>\n",
       "      <td>5</td>\n",
       "      <td>2018-02-10 10:59:03</td>\n",
       "      <td>2018-02-10 15:48:21</td>\n",
       "      <td>2018-02-15 19:36:14</td>\n",
       "      <td>2018-02-28 16:33:35</td>\n",
       "      <td>2018-03-09 00:00:00</td>\n",
       "    </tr>\n",
       "  </tbody>\n",
       "</table>\n",
       "</div>"
      ],
      "text/plain": [
       "                           order_id  review_score order_purchase_timestamp  \\\n",
       "0  73fc7af87114b39712e6da79b0a377eb             4      2018-01-11 15:30:49   \n",
       "1  a548910a1c6147796b98fdf73dbeba33             5      2018-02-28 12:25:19   \n",
       "2  f9e4b658b201a9f2ecdecbb34bed034b             5      2018-02-03 09:56:22   \n",
       "3  658677c97b385a9be170737859d3511b             5      2017-04-09 17:41:13   \n",
       "4  8e6bfb81e283fa7e4f11123a3fb894f1             5      2018-02-10 10:59:03   \n",
       "\n",
       "     order_approved_at order_delivered_carrier_date  \\\n",
       "0  2018-01-11 15:47:59          2018-01-12 21:57:22   \n",
       "1  2018-02-28 12:48:39          2018-03-02 19:08:15   \n",
       "2  2018-02-03 10:33:41          2018-02-06 16:18:28   \n",
       "3  2017-04-09 17:55:19          2017-04-10 14:24:47   \n",
       "4  2018-02-10 15:48:21          2018-02-15 19:36:14   \n",
       "\n",
       "  order_delivered_customer_date order_estimated_delivery_date  \n",
       "0           2018-01-17 18:42:41           2018-02-02 00:00:00  \n",
       "1           2018-03-09 23:17:20           2018-03-14 00:00:00  \n",
       "2           2018-02-16 17:28:48           2018-03-09 00:00:00  \n",
       "3           2017-04-20 09:08:35           2017-05-10 00:00:00  \n",
       "4           2018-02-28 16:33:35           2018-03-09 00:00:00  "
      ]
     },
     "execution_count": 58,
     "metadata": {},
     "output_type": "execute_result"
    }
   ],
   "source": [
    "times_reviews.head()"
   ]
  },
  {
   "cell_type": "code",
   "execution_count": 59,
   "id": "surprised-desert",
   "metadata": {},
   "outputs": [],
   "source": [
    "times_reviews['order_purchase_timestamp'] = pd.to_datetime(times_reviews['order_purchase_timestamp'], format = '%Y-%m-%d')\n",
    "times_reviews['order_approved_at'] = pd.to_datetime(times_reviews['order_approved_at'], format = '%Y-%m-%d')\n",
    "times_reviews['order_delivered_carrier_date'] = pd.to_datetime(times_reviews['order_delivered_carrier_date'], format = '%Y-%m-%d')\n",
    "times_reviews['order_delivered_customer_date'] = pd.to_datetime(times_reviews['order_delivered_customer_date'], format = '%Y-%m-%d')\n",
    "times_reviews['order_estimated_delivery_date'] = pd.to_datetime(times_reviews['order_estimated_delivery_date'], format = '%Y-%m-%d')"
   ]
  },
  {
   "cell_type": "markdown",
   "id": "august-sellers",
   "metadata": {},
   "source": [
    "A partir de este DataFrame existe un indicador de satisfacción muy claro, que es la diferencia de tiempo entre que el cliente recibe la orden y el tiempo en la que lo ordena, de manera que podemos tomar la diferencia entre las columnas 'order_delivered_customer_date' y 'order_purchase_timestamp':"
   ]
  },
  {
   "cell_type": "code",
   "execution_count": 60,
   "id": "optional-strategy",
   "metadata": {},
   "outputs": [],
   "source": [
    "times_reviews['wait'] = times_reviews['order_delivered_customer_date'] - times_reviews['order_purchase_timestamp']"
   ]
  },
  {
   "cell_type": "code",
   "execution_count": 61,
   "id": "beginning-result",
   "metadata": {},
   "outputs": [
    {
     "data": {
      "text/html": [
       "<div>\n",
       "<style scoped>\n",
       "    .dataframe tbody tr th:only-of-type {\n",
       "        vertical-align: middle;\n",
       "    }\n",
       "\n",
       "    .dataframe tbody tr th {\n",
       "        vertical-align: top;\n",
       "    }\n",
       "\n",
       "    .dataframe thead th {\n",
       "        text-align: right;\n",
       "    }\n",
       "</style>\n",
       "<table border=\"1\" class=\"dataframe\">\n",
       "  <thead>\n",
       "    <tr style=\"text-align: right;\">\n",
       "      <th></th>\n",
       "      <th>order_id</th>\n",
       "      <th>review_score</th>\n",
       "      <th>order_purchase_timestamp</th>\n",
       "      <th>order_approved_at</th>\n",
       "      <th>order_delivered_carrier_date</th>\n",
       "      <th>order_delivered_customer_date</th>\n",
       "      <th>order_estimated_delivery_date</th>\n",
       "      <th>wait</th>\n",
       "    </tr>\n",
       "  </thead>\n",
       "  <tbody>\n",
       "    <tr>\n",
       "      <th>0</th>\n",
       "      <td>73fc7af87114b39712e6da79b0a377eb</td>\n",
       "      <td>4</td>\n",
       "      <td>2018-01-11 15:30:49</td>\n",
       "      <td>2018-01-11 15:47:59</td>\n",
       "      <td>2018-01-12 21:57:22</td>\n",
       "      <td>2018-01-17 18:42:41</td>\n",
       "      <td>2018-02-02</td>\n",
       "      <td>6 days 03:11:52</td>\n",
       "    </tr>\n",
       "    <tr>\n",
       "      <th>1</th>\n",
       "      <td>a548910a1c6147796b98fdf73dbeba33</td>\n",
       "      <td>5</td>\n",
       "      <td>2018-02-28 12:25:19</td>\n",
       "      <td>2018-02-28 12:48:39</td>\n",
       "      <td>2018-03-02 19:08:15</td>\n",
       "      <td>2018-03-09 23:17:20</td>\n",
       "      <td>2018-03-14</td>\n",
       "      <td>9 days 10:52:01</td>\n",
       "    </tr>\n",
       "    <tr>\n",
       "      <th>2</th>\n",
       "      <td>f9e4b658b201a9f2ecdecbb34bed034b</td>\n",
       "      <td>5</td>\n",
       "      <td>2018-02-03 09:56:22</td>\n",
       "      <td>2018-02-03 10:33:41</td>\n",
       "      <td>2018-02-06 16:18:28</td>\n",
       "      <td>2018-02-16 17:28:48</td>\n",
       "      <td>2018-03-09</td>\n",
       "      <td>13 days 07:32:26</td>\n",
       "    </tr>\n",
       "    <tr>\n",
       "      <th>3</th>\n",
       "      <td>658677c97b385a9be170737859d3511b</td>\n",
       "      <td>5</td>\n",
       "      <td>2017-04-09 17:41:13</td>\n",
       "      <td>2017-04-09 17:55:19</td>\n",
       "      <td>2017-04-10 14:24:47</td>\n",
       "      <td>2017-04-20 09:08:35</td>\n",
       "      <td>2017-05-10</td>\n",
       "      <td>10 days 15:27:22</td>\n",
       "    </tr>\n",
       "    <tr>\n",
       "      <th>4</th>\n",
       "      <td>8e6bfb81e283fa7e4f11123a3fb894f1</td>\n",
       "      <td>5</td>\n",
       "      <td>2018-02-10 10:59:03</td>\n",
       "      <td>2018-02-10 15:48:21</td>\n",
       "      <td>2018-02-15 19:36:14</td>\n",
       "      <td>2018-02-28 16:33:35</td>\n",
       "      <td>2018-03-09</td>\n",
       "      <td>18 days 05:34:32</td>\n",
       "    </tr>\n",
       "  </tbody>\n",
       "</table>\n",
       "</div>"
      ],
      "text/plain": [
       "                           order_id  review_score order_purchase_timestamp  \\\n",
       "0  73fc7af87114b39712e6da79b0a377eb             4      2018-01-11 15:30:49   \n",
       "1  a548910a1c6147796b98fdf73dbeba33             5      2018-02-28 12:25:19   \n",
       "2  f9e4b658b201a9f2ecdecbb34bed034b             5      2018-02-03 09:56:22   \n",
       "3  658677c97b385a9be170737859d3511b             5      2017-04-09 17:41:13   \n",
       "4  8e6bfb81e283fa7e4f11123a3fb894f1             5      2018-02-10 10:59:03   \n",
       "\n",
       "    order_approved_at order_delivered_carrier_date  \\\n",
       "0 2018-01-11 15:47:59          2018-01-12 21:57:22   \n",
       "1 2018-02-28 12:48:39          2018-03-02 19:08:15   \n",
       "2 2018-02-03 10:33:41          2018-02-06 16:18:28   \n",
       "3 2017-04-09 17:55:19          2017-04-10 14:24:47   \n",
       "4 2018-02-10 15:48:21          2018-02-15 19:36:14   \n",
       "\n",
       "  order_delivered_customer_date order_estimated_delivery_date             wait  \n",
       "0           2018-01-17 18:42:41                    2018-02-02  6 days 03:11:52  \n",
       "1           2018-03-09 23:17:20                    2018-03-14  9 days 10:52:01  \n",
       "2           2018-02-16 17:28:48                    2018-03-09 13 days 07:32:26  \n",
       "3           2017-04-20 09:08:35                    2017-05-10 10 days 15:27:22  \n",
       "4           2018-02-28 16:33:35                    2018-03-09 18 days 05:34:32  "
      ]
     },
     "execution_count": 61,
     "metadata": {},
     "output_type": "execute_result"
    }
   ],
   "source": [
    "times_reviews.head()"
   ]
  },
  {
   "cell_type": "code",
   "execution_count": 62,
   "id": "standard-conviction",
   "metadata": {},
   "outputs": [],
   "source": [
    "times_reviews['wait'] = times_reviews['wait'].apply(lambda x: x.seconds)"
   ]
  },
  {
   "cell_type": "code",
   "execution_count": 63,
   "id": "flying-lexington",
   "metadata": {},
   "outputs": [
    {
     "data": {
      "text/html": [
       "<div>\n",
       "<style scoped>\n",
       "    .dataframe tbody tr th:only-of-type {\n",
       "        vertical-align: middle;\n",
       "    }\n",
       "\n",
       "    .dataframe tbody tr th {\n",
       "        vertical-align: top;\n",
       "    }\n",
       "\n",
       "    .dataframe thead th {\n",
       "        text-align: right;\n",
       "    }\n",
       "</style>\n",
       "<table border=\"1\" class=\"dataframe\">\n",
       "  <thead>\n",
       "    <tr style=\"text-align: right;\">\n",
       "      <th></th>\n",
       "      <th>order_id</th>\n",
       "      <th>review_score</th>\n",
       "      <th>order_purchase_timestamp</th>\n",
       "      <th>order_approved_at</th>\n",
       "      <th>order_delivered_carrier_date</th>\n",
       "      <th>order_delivered_customer_date</th>\n",
       "      <th>order_estimated_delivery_date</th>\n",
       "      <th>wait</th>\n",
       "    </tr>\n",
       "  </thead>\n",
       "  <tbody>\n",
       "    <tr>\n",
       "      <th>0</th>\n",
       "      <td>73fc7af87114b39712e6da79b0a377eb</td>\n",
       "      <td>4</td>\n",
       "      <td>2018-01-11 15:30:49</td>\n",
       "      <td>2018-01-11 15:47:59</td>\n",
       "      <td>2018-01-12 21:57:22</td>\n",
       "      <td>2018-01-17 18:42:41</td>\n",
       "      <td>2018-02-02</td>\n",
       "      <td>11512.0</td>\n",
       "    </tr>\n",
       "    <tr>\n",
       "      <th>1</th>\n",
       "      <td>a548910a1c6147796b98fdf73dbeba33</td>\n",
       "      <td>5</td>\n",
       "      <td>2018-02-28 12:25:19</td>\n",
       "      <td>2018-02-28 12:48:39</td>\n",
       "      <td>2018-03-02 19:08:15</td>\n",
       "      <td>2018-03-09 23:17:20</td>\n",
       "      <td>2018-03-14</td>\n",
       "      <td>39121.0</td>\n",
       "    </tr>\n",
       "    <tr>\n",
       "      <th>2</th>\n",
       "      <td>f9e4b658b201a9f2ecdecbb34bed034b</td>\n",
       "      <td>5</td>\n",
       "      <td>2018-02-03 09:56:22</td>\n",
       "      <td>2018-02-03 10:33:41</td>\n",
       "      <td>2018-02-06 16:18:28</td>\n",
       "      <td>2018-02-16 17:28:48</td>\n",
       "      <td>2018-03-09</td>\n",
       "      <td>27146.0</td>\n",
       "    </tr>\n",
       "    <tr>\n",
       "      <th>3</th>\n",
       "      <td>658677c97b385a9be170737859d3511b</td>\n",
       "      <td>5</td>\n",
       "      <td>2017-04-09 17:41:13</td>\n",
       "      <td>2017-04-09 17:55:19</td>\n",
       "      <td>2017-04-10 14:24:47</td>\n",
       "      <td>2017-04-20 09:08:35</td>\n",
       "      <td>2017-05-10</td>\n",
       "      <td>55642.0</td>\n",
       "    </tr>\n",
       "    <tr>\n",
       "      <th>4</th>\n",
       "      <td>8e6bfb81e283fa7e4f11123a3fb894f1</td>\n",
       "      <td>5</td>\n",
       "      <td>2018-02-10 10:59:03</td>\n",
       "      <td>2018-02-10 15:48:21</td>\n",
       "      <td>2018-02-15 19:36:14</td>\n",
       "      <td>2018-02-28 16:33:35</td>\n",
       "      <td>2018-03-09</td>\n",
       "      <td>20072.0</td>\n",
       "    </tr>\n",
       "  </tbody>\n",
       "</table>\n",
       "</div>"
      ],
      "text/plain": [
       "                           order_id  review_score order_purchase_timestamp  \\\n",
       "0  73fc7af87114b39712e6da79b0a377eb             4      2018-01-11 15:30:49   \n",
       "1  a548910a1c6147796b98fdf73dbeba33             5      2018-02-28 12:25:19   \n",
       "2  f9e4b658b201a9f2ecdecbb34bed034b             5      2018-02-03 09:56:22   \n",
       "3  658677c97b385a9be170737859d3511b             5      2017-04-09 17:41:13   \n",
       "4  8e6bfb81e283fa7e4f11123a3fb894f1             5      2018-02-10 10:59:03   \n",
       "\n",
       "    order_approved_at order_delivered_carrier_date  \\\n",
       "0 2018-01-11 15:47:59          2018-01-12 21:57:22   \n",
       "1 2018-02-28 12:48:39          2018-03-02 19:08:15   \n",
       "2 2018-02-03 10:33:41          2018-02-06 16:18:28   \n",
       "3 2017-04-09 17:55:19          2017-04-10 14:24:47   \n",
       "4 2018-02-10 15:48:21          2018-02-15 19:36:14   \n",
       "\n",
       "  order_delivered_customer_date order_estimated_delivery_date     wait  \n",
       "0           2018-01-17 18:42:41                    2018-02-02  11512.0  \n",
       "1           2018-03-09 23:17:20                    2018-03-14  39121.0  \n",
       "2           2018-02-16 17:28:48                    2018-03-09  27146.0  \n",
       "3           2017-04-20 09:08:35                    2017-05-10  55642.0  \n",
       "4           2018-02-28 16:33:35                    2018-03-09  20072.0  "
      ]
     },
     "execution_count": 63,
     "metadata": {},
     "output_type": "execute_result"
    }
   ],
   "source": [
    "times_reviews.head()"
   ]
  },
  {
   "cell_type": "code",
   "execution_count": 64,
   "id": "million-pharmaceutical",
   "metadata": {},
   "outputs": [
    {
     "name": "stdout",
     "output_type": "stream",
     "text": [
      "Puntaje\tTiempo de respuesta (promedio)\tTiempo de respuesta (Desviación)\n",
      "1 \t 39968.0438659424\t\t27266.64247910167\n",
      "2 \t 40188.09087893864\t\t27542.854791242313\n",
      "3 \t 40378.899838649624\t\t27663.2589655549\n",
      "4 \t 40099.49800420168\t\t27629.532621326423\n",
      "5 \t 40139.34596808064\t\t27605.553954716717\n"
     ]
    }
   ],
   "source": [
    "print('Puntaje' + '\\t' + 'Tiempo de respuesta (promedio)' + '\\t' + 'Tiempo de respuesta (Desviación)')\n",
    "for j in range(1, 6):\n",
    "    print(str(j) + \n",
    "          ' \\t '+\n",
    "          str(times_reviews[times_reviews['review_score'] == j]['wait'].mean())+\n",
    "          '\\t' +\n",
    "          '\\t' +\n",
    "          str(times_reviews[times_reviews['review_score'] == j]['wait'].std())\n",
    "         )"
   ]
  },
  {
   "cell_type": "markdown",
   "id": "gross-hartford",
   "metadata": {},
   "source": [
    "En general también podemos apreciar que este tiempo de espera para recibir el producto en general no influye en la puntuación del cliente."
   ]
  },
  {
   "cell_type": "markdown",
   "id": "analyzed-evening",
   "metadata": {},
   "source": [
    "## Predicción de ventas y modelos de regresión."
   ]
  },
  {
   "cell_type": "markdown",
   "id": "liquid-gravity",
   "metadata": {},
   "source": [
    "Los valores de pago de los clientes están registrados en el DataFrame 'order_payments'. Trataremos de obtener la mayor cantidad de valores numéricos con los cuales podamos predecir el comportamiento de este valor de pago utilizando la mayor cantidad de valores numéricos como características. "
   ]
  },
  {
   "cell_type": "code",
   "execution_count": 65,
   "id": "handled-estate",
   "metadata": {},
   "outputs": [
    {
     "data": {
      "text/html": [
       "<div>\n",
       "<style scoped>\n",
       "    .dataframe tbody tr th:only-of-type {\n",
       "        vertical-align: middle;\n",
       "    }\n",
       "\n",
       "    .dataframe tbody tr th {\n",
       "        vertical-align: top;\n",
       "    }\n",
       "\n",
       "    .dataframe thead th {\n",
       "        text-align: right;\n",
       "    }\n",
       "</style>\n",
       "<table border=\"1\" class=\"dataframe\">\n",
       "  <thead>\n",
       "    <tr style=\"text-align: right;\">\n",
       "      <th></th>\n",
       "      <th>order_id</th>\n",
       "      <th>payment_sequential</th>\n",
       "      <th>payment_type</th>\n",
       "      <th>payment_installments</th>\n",
       "      <th>payment_value</th>\n",
       "    </tr>\n",
       "  </thead>\n",
       "  <tbody>\n",
       "    <tr>\n",
       "      <th>0</th>\n",
       "      <td>b81ef226f3fe1789b1e8b2acac839d17</td>\n",
       "      <td>1</td>\n",
       "      <td>credit_card</td>\n",
       "      <td>8</td>\n",
       "      <td>99.33</td>\n",
       "    </tr>\n",
       "    <tr>\n",
       "      <th>1</th>\n",
       "      <td>a9810da82917af2d9aefd1278f1dcfa0</td>\n",
       "      <td>1</td>\n",
       "      <td>credit_card</td>\n",
       "      <td>1</td>\n",
       "      <td>24.39</td>\n",
       "    </tr>\n",
       "    <tr>\n",
       "      <th>2</th>\n",
       "      <td>25e8ea4e93396b6fa0d3dd708e76c1bd</td>\n",
       "      <td>1</td>\n",
       "      <td>credit_card</td>\n",
       "      <td>1</td>\n",
       "      <td>65.71</td>\n",
       "    </tr>\n",
       "    <tr>\n",
       "      <th>3</th>\n",
       "      <td>ba78997921bbcdc1373bb41e913ab953</td>\n",
       "      <td>1</td>\n",
       "      <td>credit_card</td>\n",
       "      <td>8</td>\n",
       "      <td>107.78</td>\n",
       "    </tr>\n",
       "    <tr>\n",
       "      <th>4</th>\n",
       "      <td>42fdf880ba16b47b59251dd489d4441a</td>\n",
       "      <td>1</td>\n",
       "      <td>credit_card</td>\n",
       "      <td>2</td>\n",
       "      <td>128.45</td>\n",
       "    </tr>\n",
       "  </tbody>\n",
       "</table>\n",
       "</div>"
      ],
      "text/plain": [
       "                           order_id  payment_sequential payment_type  \\\n",
       "0  b81ef226f3fe1789b1e8b2acac839d17                   1  credit_card   \n",
       "1  a9810da82917af2d9aefd1278f1dcfa0                   1  credit_card   \n",
       "2  25e8ea4e93396b6fa0d3dd708e76c1bd                   1  credit_card   \n",
       "3  ba78997921bbcdc1373bb41e913ab953                   1  credit_card   \n",
       "4  42fdf880ba16b47b59251dd489d4441a                   1  credit_card   \n",
       "\n",
       "   payment_installments  payment_value  \n",
       "0                     8          99.33  \n",
       "1                     1          24.39  \n",
       "2                     1          65.71  \n",
       "3                     8         107.78  \n",
       "4                     2         128.45  "
      ]
     },
     "execution_count": 65,
     "metadata": {},
     "output_type": "execute_result"
    }
   ],
   "source": [
    "order_payments.head()"
   ]
  },
  {
   "cell_type": "code",
   "execution_count": 66,
   "id": "broad-saint",
   "metadata": {},
   "outputs": [
    {
     "data": {
      "text/plain": [
       "credit_card    76795\n",
       "boleto         19784\n",
       "voucher         5775\n",
       "debit_card      1529\n",
       "not_defined        3\n",
       "Name: payment_type, dtype: int64"
      ]
     },
     "execution_count": 66,
     "metadata": {},
     "output_type": "execute_result"
    }
   ],
   "source": [
    "order_payments['payment_type'].value_counts()"
   ]
  },
  {
   "cell_type": "markdown",
   "id": "virgin-backing",
   "metadata": {},
   "source": [
    "Vamos a unir este DataFrame con el de 'order_items' a través de la característica *order_id*:"
   ]
  },
  {
   "cell_type": "code",
   "execution_count": 67,
   "id": "incomplete-selling",
   "metadata": {},
   "outputs": [
    {
     "data": {
      "text/html": [
       "<div>\n",
       "<style scoped>\n",
       "    .dataframe tbody tr th:only-of-type {\n",
       "        vertical-align: middle;\n",
       "    }\n",
       "\n",
       "    .dataframe tbody tr th {\n",
       "        vertical-align: top;\n",
       "    }\n",
       "\n",
       "    .dataframe thead th {\n",
       "        text-align: right;\n",
       "    }\n",
       "</style>\n",
       "<table border=\"1\" class=\"dataframe\">\n",
       "  <thead>\n",
       "    <tr style=\"text-align: right;\">\n",
       "      <th></th>\n",
       "      <th>order_id</th>\n",
       "      <th>payment_sequential</th>\n",
       "      <th>payment_type</th>\n",
       "      <th>payment_installments</th>\n",
       "      <th>payment_value</th>\n",
       "      <th>order_item_id</th>\n",
       "      <th>product_id</th>\n",
       "      <th>seller_id</th>\n",
       "      <th>shipping_limit_date</th>\n",
       "      <th>price</th>\n",
       "      <th>freight_value</th>\n",
       "    </tr>\n",
       "  </thead>\n",
       "  <tbody>\n",
       "    <tr>\n",
       "      <th>0</th>\n",
       "      <td>b81ef226f3fe1789b1e8b2acac839d17</td>\n",
       "      <td>1</td>\n",
       "      <td>credit_card</td>\n",
       "      <td>8</td>\n",
       "      <td>99.33</td>\n",
       "      <td>1.0</td>\n",
       "      <td>af74cc53dcffc8384b29e7abfa41902b</td>\n",
       "      <td>213b25e6f54661939f11710a6fddb871</td>\n",
       "      <td>2018-05-02 22:15:09</td>\n",
       "      <td>79.80</td>\n",
       "      <td>19.53</td>\n",
       "    </tr>\n",
       "    <tr>\n",
       "      <th>1</th>\n",
       "      <td>a9810da82917af2d9aefd1278f1dcfa0</td>\n",
       "      <td>1</td>\n",
       "      <td>credit_card</td>\n",
       "      <td>1</td>\n",
       "      <td>24.39</td>\n",
       "      <td>1.0</td>\n",
       "      <td>a630cc320a8c872f9de830cf121661a3</td>\n",
       "      <td>eaf6d55068dea77334e8477d3878d89e</td>\n",
       "      <td>2018-07-02 11:18:58</td>\n",
       "      <td>17.00</td>\n",
       "      <td>7.39</td>\n",
       "    </tr>\n",
       "    <tr>\n",
       "      <th>2</th>\n",
       "      <td>25e8ea4e93396b6fa0d3dd708e76c1bd</td>\n",
       "      <td>1</td>\n",
       "      <td>credit_card</td>\n",
       "      <td>1</td>\n",
       "      <td>65.71</td>\n",
       "      <td>1.0</td>\n",
       "      <td>2028bf1b01cafb2d2b1901fca4083222</td>\n",
       "      <td>cc419e0650a3c5ba77189a1882b7556a</td>\n",
       "      <td>2017-12-26 09:52:34</td>\n",
       "      <td>56.99</td>\n",
       "      <td>8.72</td>\n",
       "    </tr>\n",
       "    <tr>\n",
       "      <th>3</th>\n",
       "      <td>ba78997921bbcdc1373bb41e913ab953</td>\n",
       "      <td>1</td>\n",
       "      <td>credit_card</td>\n",
       "      <td>8</td>\n",
       "      <td>107.78</td>\n",
       "      <td>1.0</td>\n",
       "      <td>548e5bfe28edceab6b51fa707cc9556f</td>\n",
       "      <td>da8622b14eb17ae2831f4ac5b9dab84a</td>\n",
       "      <td>2017-12-12 12:13:20</td>\n",
       "      <td>89.90</td>\n",
       "      <td>17.88</td>\n",
       "    </tr>\n",
       "    <tr>\n",
       "      <th>4</th>\n",
       "      <td>42fdf880ba16b47b59251dd489d4441a</td>\n",
       "      <td>1</td>\n",
       "      <td>credit_card</td>\n",
       "      <td>2</td>\n",
       "      <td>128.45</td>\n",
       "      <td>1.0</td>\n",
       "      <td>386486367c1f9d4f587a8864ccb6902b</td>\n",
       "      <td>cca3071e3e9bb7d12640c9fbe2301306</td>\n",
       "      <td>2018-05-31 16:14:41</td>\n",
       "      <td>113.57</td>\n",
       "      <td>14.88</td>\n",
       "    </tr>\n",
       "  </tbody>\n",
       "</table>\n",
       "</div>"
      ],
      "text/plain": [
       "                           order_id  payment_sequential payment_type  \\\n",
       "0  b81ef226f3fe1789b1e8b2acac839d17                   1  credit_card   \n",
       "1  a9810da82917af2d9aefd1278f1dcfa0                   1  credit_card   \n",
       "2  25e8ea4e93396b6fa0d3dd708e76c1bd                   1  credit_card   \n",
       "3  ba78997921bbcdc1373bb41e913ab953                   1  credit_card   \n",
       "4  42fdf880ba16b47b59251dd489d4441a                   1  credit_card   \n",
       "\n",
       "   payment_installments  payment_value  order_item_id  \\\n",
       "0                     8          99.33            1.0   \n",
       "1                     1          24.39            1.0   \n",
       "2                     1          65.71            1.0   \n",
       "3                     8         107.78            1.0   \n",
       "4                     2         128.45            1.0   \n",
       "\n",
       "                         product_id                         seller_id  \\\n",
       "0  af74cc53dcffc8384b29e7abfa41902b  213b25e6f54661939f11710a6fddb871   \n",
       "1  a630cc320a8c872f9de830cf121661a3  eaf6d55068dea77334e8477d3878d89e   \n",
       "2  2028bf1b01cafb2d2b1901fca4083222  cc419e0650a3c5ba77189a1882b7556a   \n",
       "3  548e5bfe28edceab6b51fa707cc9556f  da8622b14eb17ae2831f4ac5b9dab84a   \n",
       "4  386486367c1f9d4f587a8864ccb6902b  cca3071e3e9bb7d12640c9fbe2301306   \n",
       "\n",
       "   shipping_limit_date   price  freight_value  \n",
       "0  2018-05-02 22:15:09   79.80          19.53  \n",
       "1  2018-07-02 11:18:58   17.00           7.39  \n",
       "2  2017-12-26 09:52:34   56.99           8.72  \n",
       "3  2017-12-12 12:13:20   89.90          17.88  \n",
       "4  2018-05-31 16:14:41  113.57          14.88  "
      ]
     },
     "execution_count": 67,
     "metadata": {},
     "output_type": "execute_result"
    }
   ],
   "source": [
    "sales_prediction = order_payments.merge(order_items, on = 'order_id', how = 'left')\n",
    "sales_prediction.head()"
   ]
  },
  {
   "cell_type": "markdown",
   "id": "specific-antique",
   "metadata": {},
   "source": [
    "Ahora este DataFrame vamos a unirlo con el llamado 'products' a través de la caratcerística *product_id*"
   ]
  },
  {
   "cell_type": "code",
   "execution_count": 68,
   "id": "standard-colonial",
   "metadata": {},
   "outputs": [
    {
     "data": {
      "text/html": [
       "<div>\n",
       "<style scoped>\n",
       "    .dataframe tbody tr th:only-of-type {\n",
       "        vertical-align: middle;\n",
       "    }\n",
       "\n",
       "    .dataframe tbody tr th {\n",
       "        vertical-align: top;\n",
       "    }\n",
       "\n",
       "    .dataframe thead th {\n",
       "        text-align: right;\n",
       "    }\n",
       "</style>\n",
       "<table border=\"1\" class=\"dataframe\">\n",
       "  <thead>\n",
       "    <tr style=\"text-align: right;\">\n",
       "      <th></th>\n",
       "      <th>order_id</th>\n",
       "      <th>payment_sequential</th>\n",
       "      <th>payment_type</th>\n",
       "      <th>payment_installments</th>\n",
       "      <th>payment_value</th>\n",
       "      <th>order_item_id</th>\n",
       "      <th>product_id</th>\n",
       "      <th>seller_id</th>\n",
       "      <th>shipping_limit_date</th>\n",
       "      <th>price</th>\n",
       "      <th>freight_value</th>\n",
       "      <th>product_category_name</th>\n",
       "      <th>product_name_lenght</th>\n",
       "      <th>product_description_lenght</th>\n",
       "      <th>product_photos_qty</th>\n",
       "      <th>product_weight_g</th>\n",
       "      <th>product_length_cm</th>\n",
       "      <th>product_height_cm</th>\n",
       "      <th>product_width_cm</th>\n",
       "    </tr>\n",
       "  </thead>\n",
       "  <tbody>\n",
       "    <tr>\n",
       "      <th>0</th>\n",
       "      <td>b81ef226f3fe1789b1e8b2acac839d17</td>\n",
       "      <td>1</td>\n",
       "      <td>credit_card</td>\n",
       "      <td>8</td>\n",
       "      <td>99.33</td>\n",
       "      <td>1.0</td>\n",
       "      <td>af74cc53dcffc8384b29e7abfa41902b</td>\n",
       "      <td>213b25e6f54661939f11710a6fddb871</td>\n",
       "      <td>2018-05-02 22:15:09</td>\n",
       "      <td>79.80</td>\n",
       "      <td>19.53</td>\n",
       "      <td>casa_construcao</td>\n",
       "      <td>57.0</td>\n",
       "      <td>921.0</td>\n",
       "      <td>8.0</td>\n",
       "      <td>800.0</td>\n",
       "      <td>17.0</td>\n",
       "      <td>27.0</td>\n",
       "      <td>17.0</td>\n",
       "    </tr>\n",
       "    <tr>\n",
       "      <th>1</th>\n",
       "      <td>a9810da82917af2d9aefd1278f1dcfa0</td>\n",
       "      <td>1</td>\n",
       "      <td>credit_card</td>\n",
       "      <td>1</td>\n",
       "      <td>24.39</td>\n",
       "      <td>1.0</td>\n",
       "      <td>a630cc320a8c872f9de830cf121661a3</td>\n",
       "      <td>eaf6d55068dea77334e8477d3878d89e</td>\n",
       "      <td>2018-07-02 11:18:58</td>\n",
       "      <td>17.00</td>\n",
       "      <td>7.39</td>\n",
       "      <td>automotivo</td>\n",
       "      <td>59.0</td>\n",
       "      <td>1274.0</td>\n",
       "      <td>2.0</td>\n",
       "      <td>150.0</td>\n",
       "      <td>16.0</td>\n",
       "      <td>6.0</td>\n",
       "      <td>11.0</td>\n",
       "    </tr>\n",
       "    <tr>\n",
       "      <th>2</th>\n",
       "      <td>25e8ea4e93396b6fa0d3dd708e76c1bd</td>\n",
       "      <td>1</td>\n",
       "      <td>credit_card</td>\n",
       "      <td>1</td>\n",
       "      <td>65.71</td>\n",
       "      <td>1.0</td>\n",
       "      <td>2028bf1b01cafb2d2b1901fca4083222</td>\n",
       "      <td>cc419e0650a3c5ba77189a1882b7556a</td>\n",
       "      <td>2017-12-26 09:52:34</td>\n",
       "      <td>56.99</td>\n",
       "      <td>8.72</td>\n",
       "      <td>perfumaria</td>\n",
       "      <td>54.0</td>\n",
       "      <td>1536.0</td>\n",
       "      <td>2.0</td>\n",
       "      <td>250.0</td>\n",
       "      <td>20.0</td>\n",
       "      <td>8.0</td>\n",
       "      <td>21.0</td>\n",
       "    </tr>\n",
       "    <tr>\n",
       "      <th>3</th>\n",
       "      <td>ba78997921bbcdc1373bb41e913ab953</td>\n",
       "      <td>1</td>\n",
       "      <td>credit_card</td>\n",
       "      <td>8</td>\n",
       "      <td>107.78</td>\n",
       "      <td>1.0</td>\n",
       "      <td>548e5bfe28edceab6b51fa707cc9556f</td>\n",
       "      <td>da8622b14eb17ae2831f4ac5b9dab84a</td>\n",
       "      <td>2017-12-12 12:13:20</td>\n",
       "      <td>89.90</td>\n",
       "      <td>17.88</td>\n",
       "      <td>cama_mesa_banho</td>\n",
       "      <td>60.0</td>\n",
       "      <td>188.0</td>\n",
       "      <td>1.0</td>\n",
       "      <td>1200.0</td>\n",
       "      <td>44.0</td>\n",
       "      <td>2.0</td>\n",
       "      <td>35.0</td>\n",
       "    </tr>\n",
       "    <tr>\n",
       "      <th>4</th>\n",
       "      <td>42fdf880ba16b47b59251dd489d4441a</td>\n",
       "      <td>1</td>\n",
       "      <td>credit_card</td>\n",
       "      <td>2</td>\n",
       "      <td>128.45</td>\n",
       "      <td>1.0</td>\n",
       "      <td>386486367c1f9d4f587a8864ccb6902b</td>\n",
       "      <td>cca3071e3e9bb7d12640c9fbe2301306</td>\n",
       "      <td>2018-05-31 16:14:41</td>\n",
       "      <td>113.57</td>\n",
       "      <td>14.88</td>\n",
       "      <td>cama_mesa_banho</td>\n",
       "      <td>54.0</td>\n",
       "      <td>120.0</td>\n",
       "      <td>1.0</td>\n",
       "      <td>835.0</td>\n",
       "      <td>40.0</td>\n",
       "      <td>9.0</td>\n",
       "      <td>33.0</td>\n",
       "    </tr>\n",
       "  </tbody>\n",
       "</table>\n",
       "</div>"
      ],
      "text/plain": [
       "                           order_id  payment_sequential payment_type  \\\n",
       "0  b81ef226f3fe1789b1e8b2acac839d17                   1  credit_card   \n",
       "1  a9810da82917af2d9aefd1278f1dcfa0                   1  credit_card   \n",
       "2  25e8ea4e93396b6fa0d3dd708e76c1bd                   1  credit_card   \n",
       "3  ba78997921bbcdc1373bb41e913ab953                   1  credit_card   \n",
       "4  42fdf880ba16b47b59251dd489d4441a                   1  credit_card   \n",
       "\n",
       "   payment_installments  payment_value  order_item_id  \\\n",
       "0                     8          99.33            1.0   \n",
       "1                     1          24.39            1.0   \n",
       "2                     1          65.71            1.0   \n",
       "3                     8         107.78            1.0   \n",
       "4                     2         128.45            1.0   \n",
       "\n",
       "                         product_id                         seller_id  \\\n",
       "0  af74cc53dcffc8384b29e7abfa41902b  213b25e6f54661939f11710a6fddb871   \n",
       "1  a630cc320a8c872f9de830cf121661a3  eaf6d55068dea77334e8477d3878d89e   \n",
       "2  2028bf1b01cafb2d2b1901fca4083222  cc419e0650a3c5ba77189a1882b7556a   \n",
       "3  548e5bfe28edceab6b51fa707cc9556f  da8622b14eb17ae2831f4ac5b9dab84a   \n",
       "4  386486367c1f9d4f587a8864ccb6902b  cca3071e3e9bb7d12640c9fbe2301306   \n",
       "\n",
       "   shipping_limit_date   price  freight_value product_category_name  \\\n",
       "0  2018-05-02 22:15:09   79.80          19.53       casa_construcao   \n",
       "1  2018-07-02 11:18:58   17.00           7.39            automotivo   \n",
       "2  2017-12-26 09:52:34   56.99           8.72            perfumaria   \n",
       "3  2017-12-12 12:13:20   89.90          17.88       cama_mesa_banho   \n",
       "4  2018-05-31 16:14:41  113.57          14.88       cama_mesa_banho   \n",
       "\n",
       "   product_name_lenght  product_description_lenght  product_photos_qty  \\\n",
       "0                 57.0                       921.0                 8.0   \n",
       "1                 59.0                      1274.0                 2.0   \n",
       "2                 54.0                      1536.0                 2.0   \n",
       "3                 60.0                       188.0                 1.0   \n",
       "4                 54.0                       120.0                 1.0   \n",
       "\n",
       "   product_weight_g  product_length_cm  product_height_cm  product_width_cm  \n",
       "0             800.0               17.0               27.0              17.0  \n",
       "1             150.0               16.0                6.0              11.0  \n",
       "2             250.0               20.0                8.0              21.0  \n",
       "3            1200.0               44.0                2.0              35.0  \n",
       "4             835.0               40.0                9.0              33.0  "
      ]
     },
     "execution_count": 68,
     "metadata": {},
     "output_type": "execute_result"
    }
   ],
   "source": [
    "sales_prediction = sales_prediction.merge(products, on = 'product_id', how = 'left')\n",
    "sales_prediction.head()"
   ]
  },
  {
   "cell_type": "code",
   "execution_count": 69,
   "id": "athletic-market",
   "metadata": {},
   "outputs": [
    {
     "name": "stdout",
     "output_type": "stream",
     "text": [
      "<class 'pandas.core.frame.DataFrame'>\n",
      "Int64Index: 118431 entries, 0 to 118430\n",
      "Data columns (total 19 columns):\n",
      " #   Column                      Non-Null Count   Dtype  \n",
      "---  ------                      --------------   -----  \n",
      " 0   order_id                    118431 non-null  object \n",
      " 1   payment_sequential          118431 non-null  int64  \n",
      " 2   payment_type                118431 non-null  object \n",
      " 3   payment_installments        118431 non-null  int64  \n",
      " 4   payment_value               118431 non-null  float64\n",
      " 5   order_item_id               117601 non-null  float64\n",
      " 6   product_id                  117601 non-null  object \n",
      " 7   seller_id                   117601 non-null  object \n",
      " 8   shipping_limit_date         117601 non-null  object \n",
      " 9   price                       117601 non-null  float64\n",
      " 10  freight_value               117601 non-null  float64\n",
      " 11  product_category_name       115903 non-null  object \n",
      " 12  product_name_lenght         115903 non-null  float64\n",
      " 13  product_description_lenght  115903 non-null  float64\n",
      " 14  product_photos_qty          115903 non-null  float64\n",
      " 15  product_weight_g            117581 non-null  float64\n",
      " 16  product_length_cm           117581 non-null  float64\n",
      " 17  product_height_cm           117581 non-null  float64\n",
      " 18  product_width_cm            117581 non-null  float64\n",
      "dtypes: float64(11), int64(2), object(6)\n",
      "memory usage: 18.1+ MB\n"
     ]
    }
   ],
   "source": [
    "sales_prediction.info()"
   ]
  },
  {
   "cell_type": "markdown",
   "id": "educational-interval",
   "metadata": {},
   "source": [
    "A partir de este DataFrame, separaremos todoas las características que nos serán útiles para hacer un análisis de regresión y trataremos de realizar un estudio no-supervisado de los datos resultantes:"
   ]
  },
  {
   "cell_type": "code",
   "execution_count": 70,
   "id": "surprised-baghdad",
   "metadata": {},
   "outputs": [],
   "source": [
    "sales_prediction = sales_prediction[['payment_value', 'price', 'freight_value', 'product_name_lenght',\n",
    "                                    'product_description_lenght', 'product_weight_g', 'product_length_cm',\n",
    "                                    'product_height_cm', 'product_width_cm']]"
   ]
  },
  {
   "cell_type": "code",
   "execution_count": 71,
   "id": "light-council",
   "metadata": {},
   "outputs": [
    {
     "data": {
      "text/html": [
       "<div>\n",
       "<style scoped>\n",
       "    .dataframe tbody tr th:only-of-type {\n",
       "        vertical-align: middle;\n",
       "    }\n",
       "\n",
       "    .dataframe tbody tr th {\n",
       "        vertical-align: top;\n",
       "    }\n",
       "\n",
       "    .dataframe thead th {\n",
       "        text-align: right;\n",
       "    }\n",
       "</style>\n",
       "<table border=\"1\" class=\"dataframe\">\n",
       "  <thead>\n",
       "    <tr style=\"text-align: right;\">\n",
       "      <th></th>\n",
       "      <th>payment_value</th>\n",
       "      <th>price</th>\n",
       "      <th>freight_value</th>\n",
       "      <th>product_name_lenght</th>\n",
       "      <th>product_description_lenght</th>\n",
       "      <th>product_weight_g</th>\n",
       "      <th>product_length_cm</th>\n",
       "      <th>product_height_cm</th>\n",
       "      <th>product_width_cm</th>\n",
       "    </tr>\n",
       "  </thead>\n",
       "  <tbody>\n",
       "    <tr>\n",
       "      <th>0</th>\n",
       "      <td>99.33</td>\n",
       "      <td>79.80</td>\n",
       "      <td>19.53</td>\n",
       "      <td>57.0</td>\n",
       "      <td>921.0</td>\n",
       "      <td>800.0</td>\n",
       "      <td>17.0</td>\n",
       "      <td>27.0</td>\n",
       "      <td>17.0</td>\n",
       "    </tr>\n",
       "    <tr>\n",
       "      <th>1</th>\n",
       "      <td>24.39</td>\n",
       "      <td>17.00</td>\n",
       "      <td>7.39</td>\n",
       "      <td>59.0</td>\n",
       "      <td>1274.0</td>\n",
       "      <td>150.0</td>\n",
       "      <td>16.0</td>\n",
       "      <td>6.0</td>\n",
       "      <td>11.0</td>\n",
       "    </tr>\n",
       "    <tr>\n",
       "      <th>2</th>\n",
       "      <td>65.71</td>\n",
       "      <td>56.99</td>\n",
       "      <td>8.72</td>\n",
       "      <td>54.0</td>\n",
       "      <td>1536.0</td>\n",
       "      <td>250.0</td>\n",
       "      <td>20.0</td>\n",
       "      <td>8.0</td>\n",
       "      <td>21.0</td>\n",
       "    </tr>\n",
       "    <tr>\n",
       "      <th>3</th>\n",
       "      <td>107.78</td>\n",
       "      <td>89.90</td>\n",
       "      <td>17.88</td>\n",
       "      <td>60.0</td>\n",
       "      <td>188.0</td>\n",
       "      <td>1200.0</td>\n",
       "      <td>44.0</td>\n",
       "      <td>2.0</td>\n",
       "      <td>35.0</td>\n",
       "    </tr>\n",
       "    <tr>\n",
       "      <th>4</th>\n",
       "      <td>128.45</td>\n",
       "      <td>113.57</td>\n",
       "      <td>14.88</td>\n",
       "      <td>54.0</td>\n",
       "      <td>120.0</td>\n",
       "      <td>835.0</td>\n",
       "      <td>40.0</td>\n",
       "      <td>9.0</td>\n",
       "      <td>33.0</td>\n",
       "    </tr>\n",
       "  </tbody>\n",
       "</table>\n",
       "</div>"
      ],
      "text/plain": [
       "   payment_value   price  freight_value  product_name_lenght  \\\n",
       "0          99.33   79.80          19.53                 57.0   \n",
       "1          24.39   17.00           7.39                 59.0   \n",
       "2          65.71   56.99           8.72                 54.0   \n",
       "3         107.78   89.90          17.88                 60.0   \n",
       "4         128.45  113.57          14.88                 54.0   \n",
       "\n",
       "   product_description_lenght  product_weight_g  product_length_cm  \\\n",
       "0                       921.0             800.0               17.0   \n",
       "1                      1274.0             150.0               16.0   \n",
       "2                      1536.0             250.0               20.0   \n",
       "3                       188.0            1200.0               44.0   \n",
       "4                       120.0             835.0               40.0   \n",
       "\n",
       "   product_height_cm  product_width_cm  \n",
       "0               27.0              17.0  \n",
       "1                6.0              11.0  \n",
       "2                8.0              21.0  \n",
       "3                2.0              35.0  \n",
       "4                9.0              33.0  "
      ]
     },
     "execution_count": 71,
     "metadata": {},
     "output_type": "execute_result"
    }
   ],
   "source": [
    "sales_prediction.head()"
   ]
  },
  {
   "cell_type": "code",
   "execution_count": 72,
   "id": "developed-quality",
   "metadata": {},
   "outputs": [],
   "source": [
    "sales_prediction = sales_prediction.dropna()"
   ]
  },
  {
   "cell_type": "code",
   "execution_count": 73,
   "id": "lightweight-wilderness",
   "metadata": {},
   "outputs": [
    {
     "name": "stdout",
     "output_type": "stream",
     "text": [
      "<class 'pandas.core.frame.DataFrame'>\n",
      "Int64Index: 115902 entries, 0 to 118430\n",
      "Data columns (total 9 columns):\n",
      " #   Column                      Non-Null Count   Dtype  \n",
      "---  ------                      --------------   -----  \n",
      " 0   payment_value               115902 non-null  float64\n",
      " 1   price                       115902 non-null  float64\n",
      " 2   freight_value               115902 non-null  float64\n",
      " 3   product_name_lenght         115902 non-null  float64\n",
      " 4   product_description_lenght  115902 non-null  float64\n",
      " 5   product_weight_g            115902 non-null  float64\n",
      " 6   product_length_cm           115902 non-null  float64\n",
      " 7   product_height_cm           115902 non-null  float64\n",
      " 8   product_width_cm            115902 non-null  float64\n",
      "dtypes: float64(9)\n",
      "memory usage: 8.8 MB\n"
     ]
    }
   ],
   "source": [
    "sales_prediction.info()"
   ]
  },
  {
   "cell_type": "code",
   "execution_count": 74,
   "id": "subject-postcard",
   "metadata": {},
   "outputs": [],
   "source": [
    "from sklearn.model_selection import train_test_split\n",
    "from sklearn.linear_model import LinearRegression"
   ]
  },
  {
   "cell_type": "code",
   "execution_count": 75,
   "id": "bottom-memorial",
   "metadata": {},
   "outputs": [],
   "source": [
    "X = sales_prediction[['price', 'freight_value', 'product_name_lenght',\n",
    "                      'product_description_lenght', 'product_weight_g', 'product_length_cm',\n",
    "                      'product_height_cm', 'product_width_cm']]"
   ]
  },
  {
   "cell_type": "code",
   "execution_count": 76,
   "id": "native-service",
   "metadata": {},
   "outputs": [],
   "source": [
    "y = sales_prediction[['payment_value']]"
   ]
  },
  {
   "cell_type": "code",
   "execution_count": 77,
   "id": "funky-bumper",
   "metadata": {},
   "outputs": [],
   "source": [
    "X_train, X_test, y_train, y_test = train_test_split(X, y, random_state = 42)"
   ]
  },
  {
   "cell_type": "code",
   "execution_count": 78,
   "id": "alert-berry",
   "metadata": {},
   "outputs": [
    {
     "name": "stdout",
     "output_type": "stream",
     "text": [
      "<class 'pandas.core.frame.DataFrame'>\n",
      "Int64Index: 86926 entries, 16777 to 16156\n",
      "Data columns (total 8 columns):\n",
      " #   Column                      Non-Null Count  Dtype  \n",
      "---  ------                      --------------  -----  \n",
      " 0   price                       86926 non-null  float64\n",
      " 1   freight_value               86926 non-null  float64\n",
      " 2   product_name_lenght         86926 non-null  float64\n",
      " 3   product_description_lenght  86926 non-null  float64\n",
      " 4   product_weight_g            86926 non-null  float64\n",
      " 5   product_length_cm           86926 non-null  float64\n",
      " 6   product_height_cm           86926 non-null  float64\n",
      " 7   product_width_cm            86926 non-null  float64\n",
      "dtypes: float64(8)\n",
      "memory usage: 6.0 MB\n"
     ]
    }
   ],
   "source": [
    "X_train.info()"
   ]
  },
  {
   "cell_type": "code",
   "execution_count": 79,
   "id": "buried-tracker",
   "metadata": {},
   "outputs": [],
   "source": [
    "lr = LinearRegression().fit(X_train, y_train)"
   ]
  },
  {
   "cell_type": "code",
   "execution_count": 80,
   "id": "young-inspector",
   "metadata": {},
   "outputs": [
    {
     "name": "stdout",
     "output_type": "stream",
     "text": [
      "Training set score: 0.58\n",
      "Test set score: 0.49\n"
     ]
    }
   ],
   "source": [
    "print(\"Training set score: {:.2f}\".format(lr.score(X_train, y_train)))\n",
    "print(\"Test set score: {:.2f}\".format(lr.score(X_test, y_test)))"
   ]
  },
  {
   "cell_type": "code",
   "execution_count": 81,
   "id": "connected-translator",
   "metadata": {},
   "outputs": [],
   "source": [
    "from sklearn.preprocessing import StandardScaler\n",
    "from sklearn.preprocessing import MinMaxScaler\n",
    "scaler1 = MinMaxScaler()\n",
    "scaler1.fit(X_train)\n",
    "X_train_scaled = scaler1.transform(X_train)\n",
    "X_test_scaled = scaler1.transform(X_test)"
   ]
  },
  {
   "cell_type": "code",
   "execution_count": 82,
   "id": "laughing-regression",
   "metadata": {},
   "outputs": [],
   "source": [
    "scaler2 = MinMaxScaler()\n",
    "scaler2.fit(y_train)\n",
    "y_train_scaled = scaler2.transform(y_train)\n",
    "y_test_scaled = scaler2.transform(y_test)"
   ]
  },
  {
   "cell_type": "code",
   "execution_count": 83,
   "id": "informative-tongue",
   "metadata": {},
   "outputs": [
    {
     "data": {
      "text/plain": [
       "(86926, 8)"
      ]
     },
     "execution_count": 83,
     "metadata": {},
     "output_type": "execute_result"
    }
   ],
   "source": [
    "X_train_scaled.shape"
   ]
  },
  {
   "cell_type": "code",
   "execution_count": 84,
   "id": "introductory-timothy",
   "metadata": {},
   "outputs": [
    {
     "name": "stderr",
     "output_type": "stream",
     "text": [
      "C:\\Users\\dalan\\anacondaF\\envs\\Libraries\\lib\\site-packages\\tensorflow\\python\\framework\\dtypes.py:516: FutureWarning: Passing (type, 1) or '1type' as a synonym of type is deprecated; in a future version of numpy, it will be understood as (type, (1,)) / '(1,)type'.\n",
      "  _np_qint8 = np.dtype([(\"qint8\", np.int8, 1)])\n",
      "C:\\Users\\dalan\\anacondaF\\envs\\Libraries\\lib\\site-packages\\tensorflow\\python\\framework\\dtypes.py:517: FutureWarning: Passing (type, 1) or '1type' as a synonym of type is deprecated; in a future version of numpy, it will be understood as (type, (1,)) / '(1,)type'.\n",
      "  _np_quint8 = np.dtype([(\"quint8\", np.uint8, 1)])\n",
      "C:\\Users\\dalan\\anacondaF\\envs\\Libraries\\lib\\site-packages\\tensorflow\\python\\framework\\dtypes.py:518: FutureWarning: Passing (type, 1) or '1type' as a synonym of type is deprecated; in a future version of numpy, it will be understood as (type, (1,)) / '(1,)type'.\n",
      "  _np_qint16 = np.dtype([(\"qint16\", np.int16, 1)])\n",
      "C:\\Users\\dalan\\anacondaF\\envs\\Libraries\\lib\\site-packages\\tensorflow\\python\\framework\\dtypes.py:519: FutureWarning: Passing (type, 1) or '1type' as a synonym of type is deprecated; in a future version of numpy, it will be understood as (type, (1,)) / '(1,)type'.\n",
      "  _np_quint16 = np.dtype([(\"quint16\", np.uint16, 1)])\n",
      "C:\\Users\\dalan\\anacondaF\\envs\\Libraries\\lib\\site-packages\\tensorflow\\python\\framework\\dtypes.py:520: FutureWarning: Passing (type, 1) or '1type' as a synonym of type is deprecated; in a future version of numpy, it will be understood as (type, (1,)) / '(1,)type'.\n",
      "  _np_qint32 = np.dtype([(\"qint32\", np.int32, 1)])\n",
      "C:\\Users\\dalan\\anacondaF\\envs\\Libraries\\lib\\site-packages\\tensorflow\\python\\framework\\dtypes.py:525: FutureWarning: Passing (type, 1) or '1type' as a synonym of type is deprecated; in a future version of numpy, it will be understood as (type, (1,)) / '(1,)type'.\n",
      "  np_resource = np.dtype([(\"resource\", np.ubyte, 1)])\n",
      "C:\\Users\\dalan\\anacondaF\\envs\\Libraries\\lib\\site-packages\\tensorboard\\compat\\tensorflow_stub\\dtypes.py:541: FutureWarning: Passing (type, 1) or '1type' as a synonym of type is deprecated; in a future version of numpy, it will be understood as (type, (1,)) / '(1,)type'.\n",
      "  _np_qint8 = np.dtype([(\"qint8\", np.int8, 1)])\n",
      "C:\\Users\\dalan\\anacondaF\\envs\\Libraries\\lib\\site-packages\\tensorboard\\compat\\tensorflow_stub\\dtypes.py:542: FutureWarning: Passing (type, 1) or '1type' as a synonym of type is deprecated; in a future version of numpy, it will be understood as (type, (1,)) / '(1,)type'.\n",
      "  _np_quint8 = np.dtype([(\"quint8\", np.uint8, 1)])\n",
      "C:\\Users\\dalan\\anacondaF\\envs\\Libraries\\lib\\site-packages\\tensorboard\\compat\\tensorflow_stub\\dtypes.py:543: FutureWarning: Passing (type, 1) or '1type' as a synonym of type is deprecated; in a future version of numpy, it will be understood as (type, (1,)) / '(1,)type'.\n",
      "  _np_qint16 = np.dtype([(\"qint16\", np.int16, 1)])\n",
      "C:\\Users\\dalan\\anacondaF\\envs\\Libraries\\lib\\site-packages\\tensorboard\\compat\\tensorflow_stub\\dtypes.py:544: FutureWarning: Passing (type, 1) or '1type' as a synonym of type is deprecated; in a future version of numpy, it will be understood as (type, (1,)) / '(1,)type'.\n",
      "  _np_quint16 = np.dtype([(\"quint16\", np.uint16, 1)])\n",
      "C:\\Users\\dalan\\anacondaF\\envs\\Libraries\\lib\\site-packages\\tensorboard\\compat\\tensorflow_stub\\dtypes.py:545: FutureWarning: Passing (type, 1) or '1type' as a synonym of type is deprecated; in a future version of numpy, it will be understood as (type, (1,)) / '(1,)type'.\n",
      "  _np_qint32 = np.dtype([(\"qint32\", np.int32, 1)])\n",
      "C:\\Users\\dalan\\anacondaF\\envs\\Libraries\\lib\\site-packages\\tensorboard\\compat\\tensorflow_stub\\dtypes.py:550: FutureWarning: Passing (type, 1) or '1type' as a synonym of type is deprecated; in a future version of numpy, it will be understood as (type, (1,)) / '(1,)type'.\n",
      "  np_resource = np.dtype([(\"resource\", np.ubyte, 1)])\n"
     ]
    }
   ],
   "source": [
    "from tensorflow.keras.models import Sequential\n",
    "from tensorflow.keras.layers import Dense\n",
    "from tensorflow.keras.layers import GaussianDropout\n",
    "from tensorflow.keras.layers import Dropout\n",
    "from tensorflow.keras.layers import BatchNormalization\n",
    "import tensorflow.keras.optimizers as optimizers"
   ]
  },
  {
   "cell_type": "code",
   "execution_count": 85,
   "id": "featured-sperm",
   "metadata": {},
   "outputs": [
    {
     "name": "stdout",
     "output_type": "stream",
     "text": [
      "WARNING:tensorflow:From C:\\Users\\dalan\\anacondaF\\envs\\Libraries\\lib\\site-packages\\tensorflow\\python\\ops\\init_ops.py:1251: calling VarianceScaling.__init__ (from tensorflow.python.ops.init_ops) with dtype is deprecated and will be removed in a future version.\n",
      "Instructions for updating:\n",
      "Call initializer instance with the dtype argument instead of passing it to the constructor\n"
     ]
    }
   ],
   "source": [
    "Net = Sequential()\n",
    "Net.add(Dense(8, input_shape = (8, ), activation = 'relu'))\n",
    "Net.add(GaussianDropout(0.06))\n",
    "Net.add(Dense(8, activation = 'relu'))\n",
    "Net.add(GaussianDropout(0.06))\n",
    "Net.add(Dense(4, activation = 'relu'))\n",
    "Net.add(GaussianDropout(0.06))\n",
    "Net.add(Dense(4, activation = 'relu'))\n",
    "Net.add(GaussianDropout(0.06))\n",
    "Net.add(Dense(2, activation = 'relu'))\n",
    "Net.add(GaussianDropout(0.06))\n",
    "Net.add(Dense(2, activation = 'relu'))\n",
    "Net.add(GaussianDropout(0.06))\n",
    "Net.add(Dense(1, activation = 'linear'))\n",
    "Net.compile(loss = 'mean_squared_error', optimizer = 'adam' )"
   ]
  },
  {
   "cell_type": "code",
   "execution_count": 86,
   "id": "illegal-smart",
   "metadata": {},
   "outputs": [
    {
     "name": "stdout",
     "output_type": "stream",
     "text": [
      "0.00015649106353521347                                 \r"
     ]
    }
   ],
   "source": [
    "training_batches = 20000\n",
    "batchsize = X_train_scaled[0]\n",
    "costs = np.zeros(training_batches)\n",
    "\n",
    "for j in range(training_batches):\n",
    "    costs[j] = Net.train_on_batch(X_train_scaled, y_train_scaled)\n",
    "    print(str(costs[j]), end = \"   \\r\")"
   ]
  },
  {
   "cell_type": "code",
   "execution_count": 87,
   "id": "continent-brave",
   "metadata": {},
   "outputs": [
    {
     "data": {
      "text/plain": [
       "[<matplotlib.lines.Line2D at 0x1cc6e79a208>]"
      ]
     },
     "execution_count": 87,
     "metadata": {},
     "output_type": "execute_result"
    },
    {
     "data": {
      "image/png": "[encoded data removed]",
      "text/plain": [
       "<Figure size 1800x1200 with 1 Axes>"
      ]
     },
     "metadata": {
      "needs_background": "light"
     },
     "output_type": "display_data"
    }
   ],
   "source": [
    "plt.plot(costs)"
   ]
  },
  {
   "cell_type": "code",
   "execution_count": 88,
   "id": "immediate-rebecca",
   "metadata": {},
   "outputs": [],
   "source": [
    "y_out = Net.predict_on_batch(X_test_scaled)"
   ]
  },
  {
   "cell_type": "code",
   "execution_count": 89,
   "id": "standing-assessment",
   "metadata": {},
   "outputs": [
    {
     "data": {
      "text/plain": [
       "array([[0.00679282],\n",
       "       [0.07332364],\n",
       "       [0.0162575 ],\n",
       "       ...,\n",
       "       [0.01321643],\n",
       "       [0.01615722],\n",
       "       [0.00679282]], dtype=float32)"
      ]
     },
     "execution_count": 89,
     "metadata": {},
     "output_type": "execute_result"
    }
   ],
   "source": [
    "y_out"
   ]
  },
  {
   "cell_type": "code",
   "execution_count": 90,
   "id": "floppy-seven",
   "metadata": {},
   "outputs": [
    {
     "data": {
      "text/plain": [
       "array([[0.00619507],\n",
       "       [0.0761127 ],\n",
       "       [0.01623161],\n",
       "       ...,\n",
       "       [0.02145772],\n",
       "       [0.0028886 ],\n",
       "       [0.01933537]])"
      ]
     },
     "execution_count": 90,
     "metadata": {},
     "output_type": "execute_result"
    }
   ],
   "source": [
    "y_test_scaled"
   ]
  },
  {
   "cell_type": "code",
   "execution_count": 91,
   "id": "confidential-level",
   "metadata": {},
   "outputs": [],
   "source": [
    "mse = (np.square(y_out - y_test_scaled)).mean(axis = 0)"
   ]
  },
  {
   "cell_type": "code",
   "execution_count": 92,
   "id": "dress-riverside",
   "metadata": {},
   "outputs": [
    {
     "data": {
      "text/plain": [
       "array([0.00012932])"
      ]
     },
     "execution_count": 92,
     "metadata": {},
     "output_type": "execute_result"
    }
   ],
   "source": [
    "mse"
   ]
  },
  {
   "cell_type": "code",
   "execution_count": 93,
   "id": "desirable-briefing",
   "metadata": {},
   "outputs": [
    {
     "data": {
      "text/plain": [
       "array([[  92.81767],\n",
       "       [1001.90015],\n",
       "       [ 222.14383],\n",
       "       ...,\n",
       "       [ 180.59032],\n",
       "       [ 220.77351],\n",
       "       [  92.81767]], dtype=float32)"
      ]
     },
     "execution_count": 93,
     "metadata": {},
     "output_type": "execute_result"
    }
   ],
   "source": [
    "scaler2.inverse_transform(y_out)"
   ]
  },
  {
   "cell_type": "code",
   "execution_count": 94,
   "id": "hollywood-bunny",
   "metadata": {},
   "outputs": [
    {
     "data": {
      "text/html": [
       "<div>\n",
       "<style scoped>\n",
       "    .dataframe tbody tr th:only-of-type {\n",
       "        vertical-align: middle;\n",
       "    }\n",
       "\n",
       "    .dataframe tbody tr th {\n",
       "        vertical-align: top;\n",
       "    }\n",
       "\n",
       "    .dataframe thead th {\n",
       "        text-align: right;\n",
       "    }\n",
       "</style>\n",
       "<table border=\"1\" class=\"dataframe\">\n",
       "  <thead>\n",
       "    <tr style=\"text-align: right;\">\n",
       "      <th></th>\n",
       "      <th>payment_value</th>\n",
       "    </tr>\n",
       "  </thead>\n",
       "  <tbody>\n",
       "    <tr>\n",
       "      <th>2272</th>\n",
       "      <td>84.65</td>\n",
       "    </tr>\n",
       "    <tr>\n",
       "      <th>50545</th>\n",
       "      <td>1040.01</td>\n",
       "    </tr>\n",
       "    <tr>\n",
       "      <th>111846</th>\n",
       "      <td>221.79</td>\n",
       "    </tr>\n",
       "    <tr>\n",
       "      <th>38570</th>\n",
       "      <td>155.10</td>\n",
       "    </tr>\n",
       "    <tr>\n",
       "      <th>104930</th>\n",
       "      <td>51.79</td>\n",
       "    </tr>\n",
       "    <tr>\n",
       "      <th>...</th>\n",
       "      <td>...</td>\n",
       "    </tr>\n",
       "    <tr>\n",
       "      <th>99846</th>\n",
       "      <td>156.92</td>\n",
       "    </tr>\n",
       "    <tr>\n",
       "      <th>111990</th>\n",
       "      <td>237.69</td>\n",
       "    </tr>\n",
       "    <tr>\n",
       "      <th>39662</th>\n",
       "      <td>293.20</td>\n",
       "    </tr>\n",
       "    <tr>\n",
       "      <th>57868</th>\n",
       "      <td>39.47</td>\n",
       "    </tr>\n",
       "    <tr>\n",
       "      <th>108904</th>\n",
       "      <td>264.20</td>\n",
       "    </tr>\n",
       "  </tbody>\n",
       "</table>\n",
       "<p>28976 rows × 1 columns</p>\n",
       "</div>"
      ],
      "text/plain": [
       "        payment_value\n",
       "2272            84.65\n",
       "50545         1040.01\n",
       "111846         221.79\n",
       "38570          155.10\n",
       "104930          51.79\n",
       "...               ...\n",
       "99846          156.92\n",
       "111990         237.69\n",
       "39662          293.20\n",
       "57868           39.47\n",
       "108904         264.20\n",
       "\n",
       "[28976 rows x 1 columns]"
      ]
     },
     "execution_count": 94,
     "metadata": {},
     "output_type": "execute_result"
    }
   ],
   "source": [
    "y_test"
   ]
  },
  {
   "cell_type": "code",
   "execution_count": 95,
   "id": "about-commodity",
   "metadata": {},
   "outputs": [],
   "source": [
    "y_out = scaler2.inverse_transform(y_out)"
   ]
  },
  {
   "cell_type": "code",
   "execution_count": 96,
   "id": "printable-saskatchewan",
   "metadata": {},
   "outputs": [],
   "source": [
    "from sklearn.manifold import TSNE\n",
    "tsne = TSNE(random_state = 42)\n",
    "cluster = tsne.fit_transform(X)"
   ]
  },
  {
   "cell_type": "code",
   "execution_count": 97,
   "id": "voluntary-milwaukee",
   "metadata": {},
   "outputs": [
    {
     "data": {
      "text/plain": [
       "array([[  2.4981456,  23.74566  ],\n",
       "       [ -7.6898613, -36.048172 ],\n",
       "       [-33.16232  , -39.77002  ],\n",
       "       ...,\n",
       "       [-31.159395 ,  20.833353 ],\n",
       "       [ 41.278065 ,  23.009901 ],\n",
       "       [ 40.407608 , -16.989794 ]], dtype=float32)"
      ]
     },
     "execution_count": 97,
     "metadata": {},
     "output_type": "execute_result"
    }
   ],
   "source": [
    "cluster"
   ]
  },
  {
   "cell_type": "code",
   "execution_count": 98,
   "id": "bridal-damage",
   "metadata": {},
   "outputs": [],
   "source": [
    "import random\n",
    "random_list = []\n",
    "for i in range(0, 200):\n",
    "    n = random.randint(1, cluster.shape[0])\n",
    "    random_list.append(n)"
   ]
  },
  {
   "cell_type": "code",
   "execution_count": 99,
   "id": "equipped-apache",
   "metadata": {},
   "outputs": [
    {
     "data": {
      "image/png": "[encoded data removed]",
      "text/plain": [
       "<Figure size 1800x1200 with 1 Axes>"
      ]
     },
     "metadata": {
      "needs_background": "light"
     },
     "output_type": "display_data"
    }
   ],
   "source": [
    "for j in random_list:\n",
    "    plt.plot(cluster[j, 0], cluster[j, 1], 'ro')"
   ]
  },
  {
   "cell_type": "code",
   "execution_count": 100,
   "id": "dental-romantic",
   "metadata": {},
   "outputs": [
    {
     "data": {
      "text/plain": [
       "(115902, 2)"
      ]
     },
     "execution_count": 100,
     "metadata": {},
     "output_type": "execute_result"
    }
   ],
   "source": [
    "cluster.shape"
   ]
  },
  {
   "cell_type": "markdown",
   "id": "infinite-developer",
   "metadata": {},
   "source": [
    "## Clasificación."
   ]
  },
  {
   "cell_type": "markdown",
   "id": "mexican-portuguese",
   "metadata": {},
   "source": [
    "Podemos utilizar el puntaje de la revisión de cada cliente para dar una clasificación a los datos utilizados para la predicción de ventas:"
   ]
  },
  {
   "cell_type": "code",
   "execution_count": 101,
   "id": "classical-update",
   "metadata": {},
   "outputs": [],
   "source": [
    "class_prediction = order_payments.merge(order_items, on = 'order_id', how = 'left')\n",
    "class_prediction = class_prediction.merge(products, on = 'product_id', how = 'left')\n",
    "class_prediction = class_prediction.merge(reviews, on = 'order_id', how = 'left')\n",
    "class_prediction = class_prediction.dropna()"
   ]
  },
  {
   "cell_type": "code",
   "execution_count": 102,
   "id": "religious-subsection",
   "metadata": {},
   "outputs": [],
   "source": [
    "X = class_prediction[['payment_value', 'price', 'freight_value', 'product_name_lenght',\n",
    "                      'product_description_lenght', 'product_weight_g', 'product_length_cm',\n",
    "                      'product_height_cm', 'product_width_cm']]"
   ]
  },
  {
   "cell_type": "code",
   "execution_count": 103,
   "id": "typical-serum",
   "metadata": {},
   "outputs": [],
   "source": [
    "y = class_prediction[['review_score']]"
   ]
  },
  {
   "cell_type": "code",
   "execution_count": 104,
   "id": "professional-battery",
   "metadata": {},
   "outputs": [],
   "source": [
    "X_train, X_test, y_train, y_test = train_test_split(X, y, random_state = 42)"
   ]
  },
  {
   "cell_type": "code",
   "execution_count": 105,
   "id": "false-briefing",
   "metadata": {},
   "outputs": [],
   "source": [
    "from sklearn.tree import DecisionTreeClassifier\n",
    "dctc_model = DecisionTreeClassifier(max_depth = 10)"
   ]
  },
  {
   "cell_type": "code",
   "execution_count": 106,
   "id": "occupied-university",
   "metadata": {},
   "outputs": [
    {
     "data": {
      "text/plain": [
       "DecisionTreeClassifier(max_depth=10)"
      ]
     },
     "execution_count": 106,
     "metadata": {},
     "output_type": "execute_result"
    }
   ],
   "source": [
    "dctc_model.fit(X_train, y_train)"
   ]
  },
  {
   "cell_type": "code",
   "execution_count": 107,
   "id": "incorporated-benjamin",
   "metadata": {},
   "outputs": [
    {
     "name": "stdout",
     "output_type": "stream",
     "text": [
      "0.5559973492379059\n"
     ]
    }
   ],
   "source": [
    "from sklearn.metrics import accuracy_score\n",
    "Review_preds = dctc_model.predict(X_test)\n",
    "print(accuracy_score(y_test, Review_preds))"
   ]
  },
  {
   "cell_type": "code",
   "execution_count": 108,
   "id": "responsible-johnston",
   "metadata": {},
   "outputs": [
    {
     "name": "stderr",
     "output_type": "stream",
     "text": [
      "C:\\Users\\dalan\\anacondaF\\envs\\Libraries\\lib\\site-packages\\ipykernel_launcher.py:3: DataConversionWarning: A column-vector y was passed when a 1d array was expected. Please change the shape of y to (n_samples,), for example using ravel().\n",
      "  This is separate from the ipykernel package so we can avoid doing imports until\n"
     ]
    },
    {
     "data": {
      "text/plain": [
       "RandomForestClassifier(n_estimators=1000, random_state=42)"
      ]
     },
     "execution_count": 108,
     "metadata": {},
     "output_type": "execute_result"
    }
   ],
   "source": [
    "from sklearn.ensemble import RandomForestClassifier\n",
    "forest = RandomForestClassifier(n_estimators = 1000, random_state = 42)\n",
    "forest.fit(X_train.to_numpy(), y_train.to_numpy())"
   ]
  },
  {
   "cell_type": "code",
   "execution_count": 109,
   "id": "mysterious-indie",
   "metadata": {},
   "outputs": [
    {
     "name": "stdout",
     "output_type": "stream",
     "text": [
      "Accuracy on training set: 0.965\n",
      "Accuracy on test set: 0.608\n"
     ]
    }
   ],
   "source": [
    "print(\"Accuracy on training set: {:.3f}\".format(forest.score(X_train, y_train)))\n",
    "print(\"Accuracy on test set: {:.3f}\".format(forest.score(X_test, y_test)))"
   ]
  },
  {
   "cell_type": "markdown",
   "id": "nutritional-honduras",
   "metadata": {},
   "source": [
    "## Optimización de Entregas de Pedidos."
   ]
  },
  {
   "cell_type": "code",
   "execution_count": 110,
   "id": "short-arrow",
   "metadata": {},
   "outputs": [],
   "source": [
    "deliv_opt = order_payments.merge(order_items, on = 'order_id', how = 'left')\n",
    "deliv_opt = deliv_opt.merge(products, on = 'product_id', how = 'left')\n",
    "deliv_opt = deliv_opt.merge(reviews, on = 'order_id', how = 'left')\n",
    "deliv_opt = deliv_opt.merge(orders_time, on = 'order_id', how = 'left')"
   ]
  },
  {
   "cell_type": "code",
   "execution_count": 111,
   "id": "exclusive-point",
   "metadata": {},
   "outputs": [
    {
     "name": "stdout",
     "output_type": "stream",
     "text": [
      "<class 'pandas.core.frame.DataFrame'>\n",
      "Int64Index: 119148 entries, 0 to 119147\n",
      "Data columns (total 32 columns):\n",
      " #   Column                         Non-Null Count   Dtype  \n",
      "---  ------                         --------------   -----  \n",
      " 0   order_id                       119148 non-null  object \n",
      " 1   payment_sequential             119148 non-null  int64  \n",
      " 2   payment_type                   119148 non-null  object \n",
      " 3   payment_installments           119148 non-null  int64  \n",
      " 4   payment_value                  119148 non-null  float64\n",
      " 5   order_item_id                  118315 non-null  float64\n",
      " 6   product_id                     118315 non-null  object \n",
      " 7   seller_id                      118315 non-null  object \n",
      " 8   shipping_limit_date            118315 non-null  object \n",
      " 9   price                          118315 non-null  float64\n",
      " 10  freight_value                  118315 non-null  float64\n",
      " 11  product_category_name          116606 non-null  object \n",
      " 12  product_name_lenght            116606 non-null  float64\n",
      " 13  product_description_lenght     116606 non-null  float64\n",
      " 14  product_photos_qty             116606 non-null  float64\n",
      " 15  product_weight_g               118295 non-null  float64\n",
      " 16  product_length_cm              118295 non-null  float64\n",
      " 17  product_height_cm              118295 non-null  float64\n",
      " 18  product_width_cm               118295 non-null  float64\n",
      " 19  review_id                      119148 non-null  object \n",
      " 20  review_score                   119148 non-null  int64  \n",
      " 21  review_comment_title           14189 non-null   object \n",
      " 22  review_comment_message         51247 non-null   object \n",
      " 23  review_creation_date           119148 non-null  object \n",
      " 24  review_answer_timestamp        119148 non-null  object \n",
      " 25  customer_id                    119148 non-null  object \n",
      " 26  order_status                   119148 non-null  object \n",
      " 27  order_purchase_timestamp       119148 non-null  object \n",
      " 28  order_approved_at              118971 non-null  object \n",
      " 29  order_delivered_carrier_date   117062 non-null  object \n",
      " 30  order_delivered_customer_date  115727 non-null  object \n",
      " 31  order_estimated_delivery_date  119148 non-null  object \n",
      "dtypes: float64(11), int64(3), object(18)\n",
      "memory usage: 30.0+ MB\n"
     ]
    }
   ],
   "source": [
    "deliv_opt.info()"
   ]
  },
  {
   "cell_type": "code",
   "execution_count": 112,
   "id": "catholic-offer",
   "metadata": {},
   "outputs": [],
   "source": [
    "deliv_opt['order_purchase_timestamp'] = pd.to_datetime(deliv_opt['order_purchase_timestamp'], format = '%Y-%m-%d')\n",
    "deliv_opt['order_approved_at'] = pd.to_datetime(deliv_opt['order_approved_at'], format = '%Y-%m-%d')\n",
    "deliv_opt['order_delivered_carrier_date'] = pd.to_datetime(deliv_opt['order_delivered_carrier_date'], format = '%Y-%m-%d')\n",
    "deliv_opt['order_delivered_customer_date'] = pd.to_datetime(deliv_opt['order_delivered_customer_date'], format = '%Y-%m-%d')\n",
    "deliv_opt['order_estimated_delivery_date'] = pd.to_datetime(deliv_opt['order_estimated_delivery_date'], format = '%Y-%m-%d')"
   ]
  },
  {
   "cell_type": "code",
   "execution_count": 113,
   "id": "gothic-sacrifice",
   "metadata": {},
   "outputs": [],
   "source": [
    "deliv_opt['deliv_time'] = deliv_opt['order_delivered_carrier_date'] - deliv_opt['order_delivered_customer_date']\n",
    "deliv_opt['deliv_time'] = deliv_opt['deliv_time'].apply(lambda x: x.seconds)"
   ]
  },
  {
   "cell_type": "code",
   "execution_count": 114,
   "id": "distributed-effort",
   "metadata": {},
   "outputs": [],
   "source": [
    "deliv_opt = deliv_opt[['payment_value', 'price', 'freight_value', 'product_name_lenght',\n",
    "                                    'product_description_lenght', 'product_weight_g', 'product_length_cm',\n",
    "                                    'product_height_cm', 'product_width_cm', 'deliv_time']]\n",
    "deliv_opt = deliv_opt.dropna()"
   ]
  },
  {
   "cell_type": "code",
   "execution_count": 115,
   "id": "exact-theme",
   "metadata": {},
   "outputs": [],
   "source": [
    "X = deliv_opt[['payment_value', 'price', 'freight_value', 'product_name_lenght',\n",
    "               'product_description_lenght', 'product_weight_g', 'product_length_cm',\n",
    "               'product_height_cm', 'product_width_cm']]"
   ]
  },
  {
   "cell_type": "code",
   "execution_count": 116,
   "id": "indirect-invitation",
   "metadata": {},
   "outputs": [],
   "source": [
    "y = deliv_opt[['deliv_time']]"
   ]
  },
  {
   "cell_type": "code",
   "execution_count": 117,
   "id": "attractive-juvenile",
   "metadata": {},
   "outputs": [],
   "source": [
    "X_train, X_test, y_train, y_test = train_test_split(X, y, random_state = 42)"
   ]
  },
  {
   "cell_type": "code",
   "execution_count": 118,
   "id": "downtown-orientation",
   "metadata": {},
   "outputs": [],
   "source": [
    "scaler1.fit(X_train)\n",
    "X_train_scaled = scaler1.transform(X_train)\n",
    "X_test_scaled = scaler1.transform(X_test)\n",
    "\n",
    "scaler2.fit(y_train)\n",
    "y_train_scaled = scaler2.transform(y_train)\n",
    "y_test_scaled = scaler2.transform(y_test)"
   ]
  },
  {
   "cell_type": "code",
   "execution_count": 172,
   "id": "close-peripheral",
   "metadata": {},
   "outputs": [],
   "source": [
    "Net = Sequential()\n",
    "Net.add(Dense(8, input_shape = (9, ), activation = 'sigmoid'))\n",
    "Net.add(GaussianDropout(0.1))\n",
    "Net.add(Dense(8, activation = 'sigmoid'))\n",
    "Net.add(GaussianDropout(0.1))\n",
    "Net.add(Dense(6, activation = 'sigmoid'))\n",
    "Net.add(GaussianDropout(0.1))\n",
    "Net.add(Dense(6, activation = 'sigmoid'))\n",
    "Net.add(GaussianDropout(0.1))\n",
    "Net.add(Dense(4, activation = 'sigmoid'))\n",
    "Net.add(GaussianDropout(0.1))\n",
    "Net.add(Dense(4, activation = 'sigmoid'))\n",
    "Net.add(GaussianDropout(0.1))\n",
    "Net.add(Dense(2, activation = 'sigmoid'))\n",
    "Net.add(GaussianDropout(0.1))\n",
    "Net.add(Dense(2, activation = 'sigmoid'))\n",
    "Net.add(GaussianDropout(0.1))\n",
    "Net.add(Dense(1, activation = 'sigmoid'))\n",
    "Net.compile(loss = 'mean_squared_error', optimizer = 'adam' )"
   ]
  },
  {
   "cell_type": "code",
   "execution_count": 173,
   "id": "bright-steal",
   "metadata": {},
   "outputs": [
    {
     "name": "stdout",
     "output_type": "stream",
     "text": [
      "0.11945176124572754         \r"
     ]
    }
   ],
   "source": [
    "training_batches = 20000\n",
    "batchsize = X_train_scaled[0]\n",
    "costs = np.zeros(training_batches)\n",
    "\n",
    "for j in range(training_batches):\n",
    "    costs[j] = Net.train_on_batch(X_train_scaled, y_train_scaled)\n",
    "    print(str(costs[j]), end = \"   \\r\")"
   ]
  },
  {
   "cell_type": "code",
   "execution_count": 174,
   "id": "hawaiian-agency",
   "metadata": {},
   "outputs": [
    {
     "data": {
      "text/plain": [
       "[<matplotlib.lines.Line2D at 0x1cc82cce908>]"
      ]
     },
     "execution_count": 174,
     "metadata": {},
     "output_type": "execute_result"
    },
    {
     "data": {
      "image/png": "[encoded data removed]",
      "text/plain": [
       "<Figure size 1800x1200 with 1 Axes>"
      ]
     },
     "metadata": {
      "needs_background": "light"
     },
     "output_type": "display_data"
    }
   ],
   "source": [
    "plt.plot(costs)"
   ]
  },
  {
   "cell_type": "code",
   "execution_count": 175,
   "id": "general-object",
   "metadata": {},
   "outputs": [],
   "source": [
    "y_out = Net.predict_on_batch(X_test_scaled)"
   ]
  },
  {
   "cell_type": "code",
   "execution_count": 176,
   "id": "demanding-outline",
   "metadata": {},
   "outputs": [],
   "source": [
    "mse = (np.square(y_out - y_test_scaled)).mean(axis = 0)"
   ]
  },
  {
   "cell_type": "code",
   "execution_count": 177,
   "id": "sunrise-collector",
   "metadata": {},
   "outputs": [
    {
     "data": {
      "text/plain": [
       "array([0.11965679])"
      ]
     },
     "execution_count": 177,
     "metadata": {},
     "output_type": "execute_result"
    }
   ],
   "source": [
    "mse"
   ]
  },
  {
   "cell_type": "code",
   "execution_count": 178,
   "id": "acknowledged-engagement",
   "metadata": {},
   "outputs": [
    {
     "data": {
      "text/plain": [
       "array([[47055.562],\n",
       "       [47055.562],\n",
       "       [47055.562],\n",
       "       ...,\n",
       "       [47055.562],\n",
       "       [47055.57 ],\n",
       "       [47055.57 ]], dtype=float32)"
      ]
     },
     "execution_count": 178,
     "metadata": {},
     "output_type": "execute_result"
    }
   ],
   "source": [
    "scaler2.inverse_transform(y_out)"
   ]
  },
  {
   "cell_type": "code",
   "execution_count": 179,
   "id": "activated-journalist",
   "metadata": {},
   "outputs": [
    {
     "data": {
      "text/html": [
       "<div>\n",
       "<style scoped>\n",
       "    .dataframe tbody tr th:only-of-type {\n",
       "        vertical-align: middle;\n",
       "    }\n",
       "\n",
       "    .dataframe tbody tr th {\n",
       "        vertical-align: top;\n",
       "    }\n",
       "\n",
       "    .dataframe thead th {\n",
       "        text-align: right;\n",
       "    }\n",
       "</style>\n",
       "<table border=\"1\" class=\"dataframe\">\n",
       "  <thead>\n",
       "    <tr style=\"text-align: right;\">\n",
       "      <th></th>\n",
       "      <th>deliv_time</th>\n",
       "    </tr>\n",
       "  </thead>\n",
       "  <tbody>\n",
       "    <tr>\n",
       "      <th>104788</th>\n",
       "      <td>14142.0</td>\n",
       "    </tr>\n",
       "    <tr>\n",
       "      <th>1896</th>\n",
       "      <td>6382.0</td>\n",
       "    </tr>\n",
       "    <tr>\n",
       "      <th>9862</th>\n",
       "      <td>42844.0</td>\n",
       "    </tr>\n",
       "    <tr>\n",
       "      <th>85678</th>\n",
       "      <td>62058.0</td>\n",
       "    </tr>\n",
       "    <tr>\n",
       "      <th>2122</th>\n",
       "      <td>24214.0</td>\n",
       "    </tr>\n",
       "    <tr>\n",
       "      <th>...</th>\n",
       "      <td>...</td>\n",
       "    </tr>\n",
       "    <tr>\n",
       "      <th>113732</th>\n",
       "      <td>50522.0</td>\n",
       "    </tr>\n",
       "    <tr>\n",
       "      <th>92967</th>\n",
       "      <td>69881.0</td>\n",
       "    </tr>\n",
       "    <tr>\n",
       "      <th>25704</th>\n",
       "      <td>6337.0</td>\n",
       "    </tr>\n",
       "    <tr>\n",
       "      <th>61972</th>\n",
       "      <td>8999.0</td>\n",
       "    </tr>\n",
       "    <tr>\n",
       "      <th>15052</th>\n",
       "      <td>17381.0</td>\n",
       "    </tr>\n",
       "  </tbody>\n",
       "</table>\n",
       "<p>28522 rows × 1 columns</p>\n",
       "</div>"
      ],
      "text/plain": [
       "        deliv_time\n",
       "104788     14142.0\n",
       "1896        6382.0\n",
       "9862       42844.0\n",
       "85678      62058.0\n",
       "2122       24214.0\n",
       "...            ...\n",
       "113732     50522.0\n",
       "92967      69881.0\n",
       "25704       6337.0\n",
       "61972       8999.0\n",
       "15052      17381.0\n",
       "\n",
       "[28522 rows x 1 columns]"
      ]
     },
     "execution_count": 179,
     "metadata": {},
     "output_type": "execute_result"
    }
   ],
   "source": [
    "y_test"
   ]
  },
  {
   "cell_type": "markdown",
   "id": "automatic-catalog",
   "metadata": {},
   "source": [
    "## Sentiment Analysis using NLP"
   ]
  },
  {
   "cell_type": "code",
   "execution_count": 560,
   "id": "needed-empire",
   "metadata": {},
   "outputs": [
    {
     "name": "stdout",
     "output_type": "stream",
     "text": [
      "<class 'pandas.core.frame.DataFrame'>\n",
      "RangeIndex: 100000 entries, 0 to 99999\n",
      "Data columns (total 7 columns):\n",
      " #   Column                   Non-Null Count   Dtype \n",
      "---  ------                   --------------   ----- \n",
      " 0   review_id                100000 non-null  object\n",
      " 1   order_id                 100000 non-null  object\n",
      " 2   review_score             100000 non-null  int64 \n",
      " 3   review_comment_title     11715 non-null   object\n",
      " 4   review_comment_message   41753 non-null   object\n",
      " 5   review_creation_date     100000 non-null  object\n",
      " 6   review_answer_timestamp  100000 non-null  object\n",
      "dtypes: int64(1), object(6)\n",
      "memory usage: 5.3+ MB\n"
     ]
    }
   ],
   "source": [
    "reviews.info()"
   ]
  },
  {
   "cell_type": "code",
   "execution_count": 561,
   "id": "built-victorian",
   "metadata": {},
   "outputs": [],
   "source": [
    "sentiment = reviews[['review_comment_message', 'review_score']]\n",
    "sentiment = sentiment.dropna()"
   ]
  },
  {
   "cell_type": "code",
   "execution_count": 562,
   "id": "ongoing-relationship",
   "metadata": {},
   "outputs": [
    {
     "name": "stdout",
     "output_type": "stream",
     "text": [
      "<class 'pandas.core.frame.DataFrame'>\n",
      "Int64Index: 41753 entries, 3 to 99999\n",
      "Data columns (total 2 columns):\n",
      " #   Column                  Non-Null Count  Dtype \n",
      "---  ------                  --------------  ----- \n",
      " 0   review_comment_message  41753 non-null  object\n",
      " 1   review_score            41753 non-null  int64 \n",
      "dtypes: int64(1), object(1)\n",
      "memory usage: 978.6+ KB\n"
     ]
    }
   ],
   "source": [
    "sentiment.info()"
   ]
  },
  {
   "cell_type": "code",
   "execution_count": 563,
   "id": "empirical-glory",
   "metadata": {},
   "outputs": [
    {
     "data": {
      "text/html": [
       "<div>\n",
       "<style scoped>\n",
       "    .dataframe tbody tr th:only-of-type {\n",
       "        vertical-align: middle;\n",
       "    }\n",
       "\n",
       "    .dataframe tbody tr th {\n",
       "        vertical-align: top;\n",
       "    }\n",
       "\n",
       "    .dataframe thead th {\n",
       "        text-align: right;\n",
       "    }\n",
       "</style>\n",
       "<table border=\"1\" class=\"dataframe\">\n",
       "  <thead>\n",
       "    <tr style=\"text-align: right;\">\n",
       "      <th></th>\n",
       "      <th>review_comment_message</th>\n",
       "      <th>review_score</th>\n",
       "    </tr>\n",
       "  </thead>\n",
       "  <tbody>\n",
       "    <tr>\n",
       "      <th>3</th>\n",
       "      <td>Recebi bem antes do prazo estipulado.</td>\n",
       "      <td>5</td>\n",
       "    </tr>\n",
       "    <tr>\n",
       "      <th>4</th>\n",
       "      <td>Parabéns lojas lannister adorei comprar pela I...</td>\n",
       "      <td>5</td>\n",
       "    </tr>\n",
       "    <tr>\n",
       "      <th>9</th>\n",
       "      <td>aparelho eficiente. no site a marca do aparelh...</td>\n",
       "      <td>4</td>\n",
       "    </tr>\n",
       "    <tr>\n",
       "      <th>12</th>\n",
       "      <td>Mas um pouco ,travando...pelo valor ta Boa.\\r\\n</td>\n",
       "      <td>4</td>\n",
       "    </tr>\n",
       "    <tr>\n",
       "      <th>15</th>\n",
       "      <td>Vendedor confiável, produto ok e entrega antes...</td>\n",
       "      <td>5</td>\n",
       "    </tr>\n",
       "  </tbody>\n",
       "</table>\n",
       "</div>"
      ],
      "text/plain": [
       "                               review_comment_message  review_score\n",
       "3               Recebi bem antes do prazo estipulado.             5\n",
       "4   Parabéns lojas lannister adorei comprar pela I...             5\n",
       "9   aparelho eficiente. no site a marca do aparelh...             4\n",
       "12    Mas um pouco ,travando...pelo valor ta Boa.\\r\\n             4\n",
       "15  Vendedor confiável, produto ok e entrega antes...             5"
      ]
     },
     "execution_count": 563,
     "metadata": {},
     "output_type": "execute_result"
    }
   ],
   "source": [
    "sentiment.head()"
   ]
  },
  {
   "cell_type": "code",
   "execution_count": 564,
   "id": "governing-indie",
   "metadata": {},
   "outputs": [],
   "source": [
    "sentiment['sentiment'] = sentiment['review_score'].apply(lambda x: 'Mau' if x <= 3 else 'Ok')"
   ]
  },
  {
   "cell_type": "code",
   "execution_count": 565,
   "id": "abroad-roman",
   "metadata": {},
   "outputs": [
    {
     "data": {
      "text/html": [
       "<div>\n",
       "<style scoped>\n",
       "    .dataframe tbody tr th:only-of-type {\n",
       "        vertical-align: middle;\n",
       "    }\n",
       "\n",
       "    .dataframe tbody tr th {\n",
       "        vertical-align: top;\n",
       "    }\n",
       "\n",
       "    .dataframe thead th {\n",
       "        text-align: right;\n",
       "    }\n",
       "</style>\n",
       "<table border=\"1\" class=\"dataframe\">\n",
       "  <thead>\n",
       "    <tr style=\"text-align: right;\">\n",
       "      <th></th>\n",
       "      <th>review_comment_message</th>\n",
       "      <th>review_score</th>\n",
       "      <th>sentiment</th>\n",
       "    </tr>\n",
       "  </thead>\n",
       "  <tbody>\n",
       "    <tr>\n",
       "      <th>3</th>\n",
       "      <td>Recebi bem antes do prazo estipulado.</td>\n",
       "      <td>5</td>\n",
       "      <td>Ok</td>\n",
       "    </tr>\n",
       "    <tr>\n",
       "      <th>4</th>\n",
       "      <td>Parabéns lojas lannister adorei comprar pela I...</td>\n",
       "      <td>5</td>\n",
       "      <td>Ok</td>\n",
       "    </tr>\n",
       "    <tr>\n",
       "      <th>9</th>\n",
       "      <td>aparelho eficiente. no site a marca do aparelh...</td>\n",
       "      <td>4</td>\n",
       "      <td>Ok</td>\n",
       "    </tr>\n",
       "    <tr>\n",
       "      <th>12</th>\n",
       "      <td>Mas um pouco ,travando...pelo valor ta Boa.\\r\\n</td>\n",
       "      <td>4</td>\n",
       "      <td>Ok</td>\n",
       "    </tr>\n",
       "    <tr>\n",
       "      <th>15</th>\n",
       "      <td>Vendedor confiável, produto ok e entrega antes...</td>\n",
       "      <td>5</td>\n",
       "      <td>Ok</td>\n",
       "    </tr>\n",
       "    <tr>\n",
       "      <th>16</th>\n",
       "      <td>GOSTARIA DE SABER O QUE HOUVE, SEMPRE RECEBI E...</td>\n",
       "      <td>2</td>\n",
       "      <td>Mau</td>\n",
       "    </tr>\n",
       "    <tr>\n",
       "      <th>19</th>\n",
       "      <td>Péssimo</td>\n",
       "      <td>1</td>\n",
       "      <td>Mau</td>\n",
       "    </tr>\n",
       "    <tr>\n",
       "      <th>22</th>\n",
       "      <td>Loja nota 10</td>\n",
       "      <td>5</td>\n",
       "      <td>Ok</td>\n",
       "    </tr>\n",
       "    <tr>\n",
       "      <th>24</th>\n",
       "      <td>obrigado pela atençao amim dispensada</td>\n",
       "      <td>5</td>\n",
       "      <td>Ok</td>\n",
       "    </tr>\n",
       "    <tr>\n",
       "      <th>27</th>\n",
       "      <td>A compra foi realizada facilmente.\\r\\nA entreg...</td>\n",
       "      <td>5</td>\n",
       "      <td>Ok</td>\n",
       "    </tr>\n",
       "    <tr>\n",
       "      <th>28</th>\n",
       "      <td>relógio muito bonito e barato.</td>\n",
       "      <td>5</td>\n",
       "      <td>Ok</td>\n",
       "    </tr>\n",
       "    <tr>\n",
       "      <th>29</th>\n",
       "      <td>Não gostei ! Comprei gato por lebre</td>\n",
       "      <td>1</td>\n",
       "      <td>Mau</td>\n",
       "    </tr>\n",
       "    <tr>\n",
       "      <th>32</th>\n",
       "      <td>Sempre compro pela Internet e a entrega ocorre...</td>\n",
       "      <td>1</td>\n",
       "      <td>Mau</td>\n",
       "    </tr>\n",
       "    <tr>\n",
       "      <th>34</th>\n",
       "      <td>Recebi exatamente o que esperava. As demais en...</td>\n",
       "      <td>4</td>\n",
       "      <td>Ok</td>\n",
       "    </tr>\n",
       "    <tr>\n",
       "      <th>36</th>\n",
       "      <td>Recomendo ,</td>\n",
       "      <td>5</td>\n",
       "      <td>Ok</td>\n",
       "    </tr>\n",
       "  </tbody>\n",
       "</table>\n",
       "</div>"
      ],
      "text/plain": [
       "                               review_comment_message  review_score sentiment\n",
       "3               Recebi bem antes do prazo estipulado.             5        Ok\n",
       "4   Parabéns lojas lannister adorei comprar pela I...             5        Ok\n",
       "9   aparelho eficiente. no site a marca do aparelh...             4        Ok\n",
       "12    Mas um pouco ,travando...pelo valor ta Boa.\\r\\n             4        Ok\n",
       "15  Vendedor confiável, produto ok e entrega antes...             5        Ok\n",
       "16  GOSTARIA DE SABER O QUE HOUVE, SEMPRE RECEBI E...             2       Mau\n",
       "19                                            Péssimo             1       Mau\n",
       "22                                       Loja nota 10             5        Ok\n",
       "24              obrigado pela atençao amim dispensada             5        Ok\n",
       "27  A compra foi realizada facilmente.\\r\\nA entreg...             5        Ok\n",
       "28                     relógio muito bonito e barato.             5        Ok\n",
       "29                Não gostei ! Comprei gato por lebre             1       Mau\n",
       "32  Sempre compro pela Internet e a entrega ocorre...             1       Mau\n",
       "34  Recebi exatamente o que esperava. As demais en...             4        Ok\n",
       "36                                        Recomendo ,             5        Ok"
      ]
     },
     "execution_count": 565,
     "metadata": {},
     "output_type": "execute_result"
    }
   ],
   "source": [
    "sentiment.head(15)"
   ]
  },
  {
   "cell_type": "code",
   "execution_count": 566,
   "id": "grand-blank",
   "metadata": {},
   "outputs": [],
   "source": [
    "import re"
   ]
  },
  {
   "cell_type": "code",
   "execution_count": 567,
   "id": "after-surprise",
   "metadata": {},
   "outputs": [
    {
     "name": "stdout",
     "output_type": "stream",
     "text": [
      "Requirement already satisfied: gensim in c:\\users\\dalan\\anacondaf\\envs\\libraries\\lib\\site-packages (3.8.3)\n",
      "Requirement already satisfied: six>=1.5.0 in c:\\users\\dalan\\anacondaf\\envs\\libraries\\lib\\site-packages (from gensim) (1.15.0)\n",
      "Requirement already satisfied: scipy>=0.18.1 in c:\\users\\dalan\\anacondaf\\envs\\libraries\\lib\\site-packages (from gensim) (1.6.0)\n",
      "Requirement already satisfied: numpy>=1.11.3 in c:\\users\\dalan\\anacondaf\\envs\\libraries\\lib\\site-packages (from gensim) (1.20.1)\n",
      "Requirement already satisfied: smart-open>=1.8.1 in c:\\users\\dalan\\anacondaf\\envs\\libraries\\lib\\site-packages (from gensim) (4.2.0)\n",
      "Requirement already satisfied: Cython==0.29.14 in c:\\users\\dalan\\anacondaf\\envs\\libraries\\lib\\site-packages (from gensim) (0.29.14)\n",
      "Note: you may need to restart the kernel to use updated packages.\n"
     ]
    }
   ],
   "source": [
    "pip install --upgrade gensim"
   ]
  },
  {
   "cell_type": "code",
   "execution_count": 568,
   "id": "prostate-position",
   "metadata": {},
   "outputs": [],
   "source": [
    "import gensim"
   ]
  },
  {
   "cell_type": "code",
   "execution_count": 569,
   "id": "sunset-genetics",
   "metadata": {},
   "outputs": [
    {
     "name": "stdout",
     "output_type": "stream",
     "text": [
      "Requirement already satisfied: nltk in c:\\users\\dalan\\anacondaf\\envs\\libraries\\lib\\site-packages (3.5)\n",
      "Requirement already satisfied: click in c:\\users\\dalan\\anacondaf\\envs\\libraries\\lib\\site-packages (from nltk) (7.1.2)\n",
      "Requirement already satisfied: tqdm in c:\\users\\dalan\\anacondaf\\envs\\libraries\\lib\\site-packages (from nltk) (4.59.0)\n",
      "Requirement already satisfied: joblib in c:\\users\\dalan\\anacondaf\\envs\\libraries\\lib\\site-packages (from nltk) (1.0.0)\n",
      "Requirement already satisfied: regex in c:\\users\\dalan\\anacondaf\\envs\\libraries\\lib\\site-packages (from nltk) (2020.11.13)\n",
      "Note: you may need to restart the kernel to use updated packages.\n"
     ]
    }
   ],
   "source": [
    "pip install --upgrade nltk"
   ]
  },
  {
   "cell_type": "code",
   "execution_count": 570,
   "id": "indirect-croatia",
   "metadata": {},
   "outputs": [],
   "source": [
    "import nltk"
   ]
  },
  {
   "cell_type": "code",
   "execution_count": 571,
   "id": "photographic-dryer",
   "metadata": {},
   "outputs": [],
   "source": [
    "def depure_data(data):\n",
    "    data = re.sub('\\s+', ' ', data)\n",
    "    data = re.sub(\"\\'\", \"\", data)\n",
    "    return data"
   ]
  },
  {
   "cell_type": "code",
   "execution_count": 572,
   "id": "frank-amount",
   "metadata": {},
   "outputs": [],
   "source": [
    "def sent_to_words(sentences):\n",
    "    for sentence in sentences:\n",
    "        yield(gensim.utils.simple_preprocess(str(sentence),\n",
    "                                            deacc = True))"
   ]
  },
  {
   "cell_type": "code",
   "execution_count": 573,
   "id": "average-cholesterol",
   "metadata": {},
   "outputs": [],
   "source": [
    "def detokenize(text):\n",
    "    return nltk.tokenize.treebank.TreebankWordDetokenizer().detokenize(text)"
   ]
  },
  {
   "cell_type": "code",
   "execution_count": 574,
   "id": "antique-pattern",
   "metadata": {},
   "outputs": [
    {
     "name": "stdout",
     "output_type": "stream",
     "text": [
      "['recebi bem antes do prazo estipulado', 'parabens lojas lannister adorei comprar pela internet seguro pratico parabens todos feliz pascoa', 'aparelho eficiente no site marca do aparelho esta impresso como desinfector ao chegar esta com outro nome atualizar com marca correta uma vez que mesmo aparelho', 'mas um pouco travando pelo valor ta boa', 'vendedor confiavel produto ok entrega antes do prazo', 'gostaria de saber que houve sempre recebi essa compra agora me decpcionou', 'pessimo', 'loja nota', 'obrigado pela atencao amim dispensada', 'compra foi realizada facilmente entrega foi efetuada muito antes do prazo dado produto ja comecou ser usado ate presente sem problemas', 'relogio muito bonito barato', 'nao gostei comprei gato por lebre', 'sempre compro pela internet entrega ocorre antes do prazo combinado que acredito ser prazo maximo no stark prazo maximo ja se esgotou ainda nao recebi produto', 'recebi exatamente que esperava as demais encomendas de outros vendedores atrasaram mas esta chegou no prazo', 'recomendo']\n"
     ]
    }
   ],
   "source": [
    "temp = []\n",
    "data_to_list = reviews['review_comment_message'].dropna().values.tolist()\n",
    "for i in range(len(data_to_list)):\n",
    "    temp.append(depure_data(data_to_list[i]))\n",
    "data_words = list(sent_to_words(temp))\n",
    "data = []\n",
    "for i in range(len(data_words)):\n",
    "    data.append(detokenize(data_words[i]))\n",
    "print(data[:15])"
   ]
  },
  {
   "cell_type": "code",
   "execution_count": 575,
   "id": "cosmetic-colors",
   "metadata": {},
   "outputs": [
    {
     "name": "stdout",
     "output_type": "stream",
     "text": [
      "[[   0    0    0 ...    4    6  213]\n",
      " [   0    0    0 ...   65  113  377]\n",
      " [   0    0    0 ...    5   66  409]\n",
      " ...\n",
      " [   0    0    0 ...   17  159   31]\n",
      " [   0    0    0 ...  589   13  146]\n",
      " [   0    0    0 ...    2 3008 1839]]\n"
     ]
    }
   ],
   "source": [
    "from keras.preprocessing.text import Tokenizer\n",
    "from keras.preprocessing.sequence import pad_sequences\n",
    "from keras import regularizers\n",
    "\n",
    "max_words = 5000\n",
    "max_len = 200\n",
    "\n",
    "tokenizer = Tokenizer(num_words = max_words)\n",
    "tokenizer.fit_on_texts(data)\n",
    "sequences = tokenizer.texts_to_sequences(data)\n",
    "reviews1 = pad_sequences(sequences, maxlen = max_len)\n",
    "print(reviews1)"
   ]
  },
  {
   "cell_type": "code",
   "execution_count": 576,
   "id": "found-surge",
   "metadata": {},
   "outputs": [],
   "source": [
    "from keras.models import Sequential\n",
    "from keras import layers\n",
    "from keras import regularizers\n",
    "from keras import backend as K\n",
    "from keras.callbacks import ModelCheckpoint\n",
    "\n",
    "model = Sequential()\n",
    "model.add(layers.Embedding(max_words, 20))\n",
    "model.add(layers.LSTM(15, dropout = 0.5))\n",
    "model.add(layers.Dense(7, activation = 'softmax'))\n",
    "model.add(layers.Dense(2, activation = 'softmax'))\n",
    "\n",
    "model.compile(optimizer = 'rmsprop', loss = 'categorical_crossentropy',\n",
    "             metrics = ['accuracy'])\n",
    "\n",
    "checkpoint1 = ModelCheckpoint(\"best_model.hdf5\",\n",
    "                             monitor = 'val_accuracy', verbose = 1, save_best_only = True, mode = 'auto',\n",
    "                             period = 1, save_weights_only = False)"
   ]
  },
  {
   "cell_type": "code",
   "execution_count": 577,
   "id": "mental-finnish",
   "metadata": {},
   "outputs": [
    {
     "data": {
      "text/plain": [
       "array(['Ok', 'Ok', 'Ok', ..., 'Ok', 'Mau', 'Mau'], dtype=object)"
      ]
     },
     "execution_count": 577,
     "metadata": {},
     "output_type": "execute_result"
    }
   ],
   "source": [
    "y.to_numpy()"
   ]
  },
  {
   "cell_type": "code",
   "execution_count": 578,
   "id": "third-notion",
   "metadata": {},
   "outputs": [],
   "source": [
    "from sklearn.preprocessing import LabelEncoder\n",
    "from sklearn.preprocessing import OneHotEncoder\n",
    "\n",
    "label_encoder = LabelEncoder()\n",
    "integer_encoded = label_encoder.fit_transform(y.to_numpy())\n",
    "onehot_encoder = OneHotEncoder(sparse = False)\n",
    "integer_encoded = integer_encoded.reshape(len(integer_encoded), 1)\n",
    "onehot_encoded = onehot_encoder.fit_transform(integer_encoded)"
   ]
  },
  {
   "cell_type": "code",
   "execution_count": 579,
   "id": "finite-minnesota",
   "metadata": {},
   "outputs": [
    {
     "data": {
      "text/plain": [
       "array([[0., 1.],\n",
       "       [0., 1.],\n",
       "       [0., 1.],\n",
       "       ...,\n",
       "       [0., 1.],\n",
       "       [1., 0.],\n",
       "       [1., 0.]])"
      ]
     },
     "execution_count": 579,
     "metadata": {},
     "output_type": "execute_result"
    }
   ],
   "source": [
    "onehot_encoded"
   ]
  },
  {
   "cell_type": "code",
   "execution_count": 581,
   "id": "minus-nevada",
   "metadata": {},
   "outputs": [],
   "source": [
    "X_train, X_test, y_train, y_test = train_test_split(X, onehot_encoded, random_state = 42)"
   ]
  },
  {
   "cell_type": "code",
   "execution_count": 583,
   "id": "running-applicant",
   "metadata": {},
   "outputs": [
    {
     "name": "stdout",
     "output_type": "stream",
     "text": [
      "Train on 31314 samples, validate on 10439 samples\n",
      "Epoch 1/5\n",
      "31314/31314 [==============================] - 69s 2ms/step - loss: 0.2906 - accuracy: 0.8961 - val_loss: 0.2812 - val_accuracy: 0.8964\n",
      "\n",
      "Epoch 00001: val_accuracy improved from 0.88974 to 0.89635, saving model to best_model.hdf5\n",
      "Epoch 2/5\n",
      "31314/31314 [==============================] - 69s 2ms/step - loss: 0.2839 - accuracy: 0.8959 - val_loss: 0.2750 - val_accuracy: 0.8981\n",
      "\n",
      "Epoch 00002: val_accuracy improved from 0.89635 to 0.89807, saving model to best_model.hdf5\n",
      "Epoch 3/5\n",
      "31314/31314 [==============================] - 67s 2ms/step - loss: 0.2748 - accuracy: 0.9011 - val_loss: 0.2701 - val_accuracy: 0.8994\n",
      "\n",
      "Epoch 00003: val_accuracy improved from 0.89807 to 0.89942, saving model to best_model.hdf5\n",
      "Epoch 4/5\n",
      "31314/31314 [==============================] - 67s 2ms/step - loss: 0.2693 - accuracy: 0.9032 - val_loss: 0.2675 - val_accuracy: 0.9004\n",
      "\n",
      "Epoch 00004: val_accuracy improved from 0.89942 to 0.90037, saving model to best_model.hdf5\n",
      "Epoch 5/5\n",
      "31314/31314 [==============================] - 67s 2ms/step - loss: 0.2663 - accuracy: 0.9046 - val_loss: 0.2651 - val_accuracy: 0.9027\n",
      "\n",
      "Epoch 00005: val_accuracy improved from 0.90037 to 0.90267, saving model to best_model.hdf5\n"
     ]
    }
   ],
   "source": [
    "history = model.fit(X_train, y_train, epochs = 5, validation_data = (X_test, y_test), callbacks = [checkpoint1])"
   ]
  },
  {
   "cell_type": "code",
   "execution_count": 585,
   "id": "rubber-curve",
   "metadata": {},
   "outputs": [
    {
     "data": {
      "text/plain": [
       "'Mau'"
      ]
     },
     "execution_count": 585,
     "metadata": {},
     "output_type": "execute_result"
    }
   ],
   "source": [
    "sentiments = ['Mau', 'Ok']\n",
    "\n",
    "sequence = tokenizer.texts_to_sequences(['Meu pacote estava três dias atrasado!'])\n",
    "test = pad_sequences(sequence, maxlen = max_len)\n",
    "sentiments[np.around(model.predict(test),\n",
    "                    decimals = 0).argmax(axis = 1)[0]]"
   ]
  },
  {
   "cell_type": "code",
   "execution_count": 586,
   "id": "collected-suite",
   "metadata": {},
   "outputs": [
    {
     "data": {
      "text/plain": [
       "'Ok'"
      ]
     },
     "execution_count": 586,
     "metadata": {},
     "output_type": "execute_result"
    }
   ],
   "source": [
    "sequence = tokenizer.texts_to_sequences(['Meu pedido chegou a tempo'])\n",
    "test = pad_sequences(sequence, maxlen = max_len)\n",
    "sentiments[np.around(model.predict(test),\n",
    "                    decimals = 0).argmax(axis = 1)[0]]"
   ]
  },
  {
   "cell_type": "code",
   "execution_count": null,
   "id": "lonely-appearance",
   "metadata": {},
   "outputs": [],
   "source": []
  }
 ],
 "metadata": {
  "kernelspec": {
   "display_name": "Python 3",
   "language": "python",
   "name": "python3"
  },
  "language_info": {
   "codemirror_mode": {
    "name": "ipython",
    "version": 3
   },
   "file_extension": ".py",
   "mimetype": "text/x-python",
   "name": "python",
   "nbconvert_exporter": "python",
   "pygments_lexer": "ipython3",
   "version": "3.7.9"
  }
 },
 "nbformat": 4,
 "nbformat_minor": 5
}
